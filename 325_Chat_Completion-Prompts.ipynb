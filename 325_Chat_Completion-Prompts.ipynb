{
 "cells": [
  {
   "cell_type": "markdown",
   "id": "d0159061-ae5d-49cb-8e0c-24a48087731c",
   "metadata": {},
   "source": [
    "# Prompt Examples\n",
    "\n",
    "- https://platform.openai.com/docs/examples 참조"
   ]
  },
  {
   "cell_type": "code",
   "execution_count": 1,
   "id": "989f8b65-992a-4c1c-b196-aa19cfff4e95",
   "metadata": {},
   "outputs": [
    {
     "data": {
      "text/plain": [
       "True"
      ]
     },
     "execution_count": 1,
     "metadata": {},
     "output_type": "execute_result"
    }
   ],
   "source": [
    "import os\n",
    "import openai\n",
    "import sys\n",
    "sys.path.append('./')\n",
    "\n",
    "from dotenv import load_dotenv, find_dotenv\n",
    "load_dotenv(find_dotenv()) # read local .env file"
   ]
  },
  {
   "cell_type": "code",
   "execution_count": 2,
   "id": "9a83b1e3-b3f3-42f4-a73f-7bc62e3eb87a",
   "metadata": {},
   "outputs": [],
   "source": [
    "from openai import OpenAI\n",
    "client = OpenAI()\n",
    "\n",
    "Model = \"gpt-4o-mini\""
   ]
  },
  {
   "cell_type": "markdown",
   "id": "6e00626d-ca14-411b-898f-856309a98b6d",
   "metadata": {},
   "source": [
    "## 문법 수정\n",
    "\n",
    "SYSTEM : 당신은 문장을 받게 될 것이며, 당신의 임무는 그것을 표준 한국어로 변환하는 것입니다.  \n",
    "USER :   \n",
    "안갔어 시장에 그녀는."
   ]
  },
  {
   "cell_type": "code",
   "execution_count": 3,
   "id": "9e304b90-0d30-4dca-89f4-4d7c46ae346c",
   "metadata": {},
   "outputs": [],
   "source": [
    "response = client.chat.completions.create(\n",
    "  model=Model,\n",
    "  messages=[\n",
    "    {\n",
    "      \"role\": \"developer\",  # 시스템 메시지: 모델에게 작업 지시를 전달\n",
    "      \"content\": \"당신은 문장을 받게 될 것이며, 당신의 임무는 그것을 표준 한국어로 변환하는 것입니다.\"\n",
    "    },\n",
    "    {\n",
    "      \"role\": \"user\",  # 사용자 메시지: 사용자가 모델에게 입력하는 문장\n",
    "      \"content\": \"안갔어 시장에 그녀는.\"\n",
    "    }\n",
    "  ],\n",
    "  temperature=0.7,  # 생성의 창의성 조절 (0.7은 적당한 창의성을 의미)\n",
    "  max_tokens=100,   # 생성될 응답의 최대 토큰 수 설정\n",
    "  top_p=1           # 확률 질량의 상위 p% 내에서 토큰을 샘플링. 1은 전체 확률 질량을 사용함을 의미\n",
    ")"
   ]
  },
  {
   "cell_type": "code",
   "execution_count": 4,
   "id": "f09b1e0f-195a-4ae8-bab3-a544c84236c9",
   "metadata": {},
   "outputs": [
    {
     "name": "stdout",
     "output_type": "stream",
     "text": [
      "그녀는 시장에 가지 않았어.\n"
     ]
    }
   ],
   "source": [
    "print(response.choices[0].message.content)"
   ]
  },
  {
   "cell_type": "markdown",
   "id": "54f4415f-60b6-4308-aaf1-9f46dc634445",
   "metadata": {},
   "source": [
    "## 구조화되지 않은 데이터의 구문 분석\n",
    "SYSTEM : 구조화되지 않은 데이터가 제공되며 이를 CSV 형식으로 구문 분석하는 작업이 수행됩니다.  \n",
    "USER :   \n",
    "최근 발견된 행성 구크럭스(Goocrux)에서는 많은 과일이 발견됐다. 그곳에서 자라는 네오스키즐이 있는데, 보라색이고 사탕 맛이 납니다. 회색 빛이 도는 파란색 과일이고 매우 시큼하며 레몬과 약간 비슷한 로헤클(loheckles)도 있습니다. 포유닛은 밝은 녹색을 띠며 단맛보다 풍미가 더 좋습니다. 네온 핑크색 맛과 솜사탕 같은 맛이 나는 루프노바도 많이 있습니다. 마지막으로 글로울(glowls)이라는 과일이 있는데, 이 과일은 신맛과 부식성이 있는 매우 신맛과 쓴맛이 나며 옅은 오렌지색을 띠고 있습니다."
   ]
  },
  {
   "cell_type": "code",
   "execution_count": 5,
   "id": "1a90e4b6-10c7-48bc-9da2-e617b32cef18",
   "metadata": {},
   "outputs": [],
   "source": [
    "response = client.chat.completions.create(\n",
    "  model=Model,\n",
    "  messages=[\n",
    "    {\n",
    "      \"role\": \"developer\",\n",
    "      \"content\": \"구조화되지 않은 데이터가 제공되며 이를 CSV 형식으로 구문 분석하는 작업이 수행됩니다.\"\n",
    "    },\n",
    "    {\n",
    "      \"role\": \"user\",\n",
    "      \"content\": \"\"\"최근 발견된 행성 구크럭스(Goocrux)에서는 많은 과일이 발견됐다. 그곳에서 자라는 네오스키즐이 있는데, 보라색이고 사탕 맛이 납니다. \n",
    "              회색 빛이 도는 파란색 과일이고 매우 시큼하며 레몬과 약간 비슷한 로헤클(loheckles)도 있습니다. 포유닛은 밝은 녹색을 띠며 단맛보다 풍미가 더 좋습니다. \n",
    "              네온 핑크색 맛과 솜사탕 같은 맛이 나는 루프노바도 많이 있습니다. 마지막으로 글로울(glowls)이라는 과일이 있는데, \n",
    "              이 과일은 신맛과 부식성이 있는 매우 신맛과 쓴맛이 나며 옅은 오렌지색을 띠고 있습니다.\n",
    "              이 데이터를 과일명, 색상, 맛으로 분석해 주세요.\"\"\"\n",
    "    }\n",
    "  ],\n",
    "  temperature=0,\n",
    "  max_tokens=500,\n",
    "  top_p=1\n",
    ")"
   ]
  },
  {
   "cell_type": "code",
   "execution_count": 6,
   "id": "8e85a03c-135c-4908-b24e-622a0c408a71",
   "metadata": {},
   "outputs": [
    {
     "name": "stdout",
     "output_type": "stream",
     "text": [
      "제공된 데이터를 바탕으로 과일명, 색상, 맛을 CSV 형식으로 정리하면 다음과 같습니다:\n",
      "\n",
      "```csv\n",
      "과일명, 색상, 맛\n",
      "네오스키즐, 보라색, 사탕 맛\n",
      "로헤클, 회색 빛이 도는 파란색, 매우 시큼\n",
      "포유닛, 밝은 녹색, 풍미가 좋음\n",
      "루프노바, 네온 핑크색, 솜사탕 같은 맛\n",
      "글로울, 옅은 오렌지색, 신맛과 부식성이 있는 매우 신맛과 쓴맛\n",
      "```\n",
      "\n",
      "이 데이터를 CSV 파일로 저장하면 각 과일의 특성을 쉽게 분석할 수 있습니다.\n"
     ]
    }
   ],
   "source": [
    "print(response.choices[0].message.content)"
   ]
  },
  {
   "cell_type": "code",
   "execution_count": 7,
   "id": "f5249eef-f3cb-4b89-9a21-2d401de502d8",
   "metadata": {},
   "outputs": [
    {
     "data": {
      "text/html": [
       "<div>\n",
       "<style scoped>\n",
       "    .dataframe tbody tr th:only-of-type {\n",
       "        vertical-align: middle;\n",
       "    }\n",
       "\n",
       "    .dataframe tbody tr th {\n",
       "        vertical-align: top;\n",
       "    }\n",
       "\n",
       "    .dataframe thead th {\n",
       "        text-align: right;\n",
       "    }\n",
       "</style>\n",
       "<table border=\"1\" class=\"dataframe\">\n",
       "  <thead>\n",
       "    <tr style=\"text-align: right;\">\n",
       "      <th></th>\n",
       "      <th>과일명</th>\n",
       "      <th>색상</th>\n",
       "      <th>맛</th>\n",
       "    </tr>\n",
       "  </thead>\n",
       "  <tbody>\n",
       "    <tr>\n",
       "      <th>0</th>\n",
       "      <td>네오스키즐</td>\n",
       "      <td>보라색</td>\n",
       "      <td>사탕 맛</td>\n",
       "    </tr>\n",
       "    <tr>\n",
       "      <th>1</th>\n",
       "      <td>로헤클</td>\n",
       "      <td>회색 빛이 도는 파란색</td>\n",
       "      <td>매우 시큼</td>\n",
       "    </tr>\n",
       "    <tr>\n",
       "      <th>2</th>\n",
       "      <td>포유닛</td>\n",
       "      <td>밝은 녹색</td>\n",
       "      <td>풍미가 좋음</td>\n",
       "    </tr>\n",
       "    <tr>\n",
       "      <th>3</th>\n",
       "      <td>루프노바</td>\n",
       "      <td>네온 핑크색</td>\n",
       "      <td>솜사탕 같은 맛</td>\n",
       "    </tr>\n",
       "    <tr>\n",
       "      <th>4</th>\n",
       "      <td>글로울</td>\n",
       "      <td>옅은 오렌지색</td>\n",
       "      <td>신맛과 쓴맛</td>\n",
       "    </tr>\n",
       "  </tbody>\n",
       "</table>\n",
       "</div>"
      ],
      "text/plain": [
       "     과일명             색상          맛\n",
       "0  네오스키즐            보라색       사탕 맛\n",
       "1    로헤클   회색 빛이 도는 파란색      매우 시큼\n",
       "2    포유닛          밝은 녹색     풍미가 좋음\n",
       "3   루프노바         네온 핑크색   솜사탕 같은 맛\n",
       "4    글로울        옅은 오렌지색     신맛과 쓴맛"
      ]
     },
     "execution_count": 7,
     "metadata": {},
     "output_type": "execute_result"
    }
   ],
   "source": [
    "import pandas as pd\n",
    "from io import StringIO\n",
    "\n",
    "# CSV 형식의 문자열 데이터\n",
    "csv_data = \"\"\"\n",
    "과일명, 색상, 맛\n",
    "네오스키즐, 보라색, 사탕 맛\n",
    "로헤클, 회색 빛이 도는 파란색, 매우 시큼\n",
    "포유닛, 밝은 녹색, 풍미가 좋음\n",
    "루프노바, 네온 핑크색, 솜사탕 같은 맛\n",
    "글로울, 옅은 오렌지색, 신맛과 쓴맛\n",
    "\"\"\"\n",
    "\n",
    "# StringIO를 사용하여 문자열 데이터를 파일처럼 읽음\n",
    "df = pd.read_csv(StringIO(csv_data))\n",
    "df"
   ]
  },
  {
   "cell_type": "markdown",
   "id": "05e0d9c0-12f4-4ed8-aaf8-a704505fcb98",
   "metadata": {},
   "source": [
    "## Keyword 추출 "
   ]
  },
  {
   "cell_type": "code",
   "execution_count": 8,
   "id": "c99d0449-9850-4e25-b779-2e1041a1577a",
   "metadata": {},
   "outputs": [],
   "source": [
    "text = \"\"\"\n",
    "\"블랙 온 블랙 도자기(Black-on-Black ware)는 뉴멕시코 북부의 푸에블로 원주민 도자기 예술가들이 개발한 20세기 및 21세기 도자기 전통입니다. \n",
    "전통적인 환원 소성 블랙웨어는 푸에블로 예술가들에 의해 수세기 동안 만들어졌습니다. \n",
    "지난 세기의 흑색 자기는 표면이 매끄럽고 선택적 버니싱이나 내화 슬립을 적용하여 디자인을 적용한 제품입니다. \n",
    "또 다른 스타일은 디자인을 조각하거나 절개하고 융기된 부분을 선택적으로 연마하는 것입니다. \n",
    "여러 세대에 걸쳐 Kha'po Owingeh와 P'ohwhóge Owingeh 푸에블로의 여러 가족은 여주인 도예가들로부터 전수받은 기술을 사용하여 검은 바탕에 검은 도자기를 만들어 왔습니다. \n",
    "다른 푸에블로 출신의 예술가들도 검정색 바탕에 검정색 도자기를 제작했습니다. 몇몇 현대 예술가들은 조상의 도자기를 기리는 작품을 만들었습니다.\"\n",
    "\"\"\""
   ]
  },
  {
   "cell_type": "code",
   "execution_count": 9,
   "id": "fac052fa-6db9-4b98-a995-8fe8eb32ee60",
   "metadata": {},
   "outputs": [],
   "source": [
    "response = client.chat.completions.create(\n",
    "  model=Model,\n",
    "  messages=[\n",
    "    {\n",
    "      \"role\": \"developer\",\n",
    "      \"content\": \"텍스트 블록이 제공되며, 당신의 임무는 텍스트 블록에서 키워드 목록을 추출하는 것입니다.\"\n",
    "    },\n",
    "    {\n",
    "      \"role\": \"user\",\n",
    "      \"content\": text\n",
    "    }\n",
    "  ],\n",
    "  temperature=0.5,\n",
    "  max_tokens=500,\n",
    "  top_p=1\n",
    ")"
   ]
  },
  {
   "cell_type": "code",
   "execution_count": 10,
   "id": "6e9c970c-d280-4d5c-a4d8-bf9ab8ffe51a",
   "metadata": {},
   "outputs": [
    {
     "name": "stdout",
     "output_type": "stream",
     "text": [
      "- 블랙 온 블랙 도자기\n",
      "- 뉴멕시코\n",
      "- 푸에블로 원주민\n",
      "- 도자기 예술가\n",
      "- 20세기\n",
      "- 21세기\n",
      "- 전통\n",
      "- 환원 소성\n",
      "- 블랙웨어\n",
      "- 흑색 자기\n",
      "- 버니싱\n",
      "- 내화 슬립\n",
      "- 디자인\n",
      "- 조각\n",
      "- 절개\n",
      "- Kha'po Owingeh\n",
      "- P'ohwhóge Owingeh\n",
      "- 여주인 도예가\n",
      "- 검은 바탕\n",
      "- 현대 예술가\n",
      "- 조상\n"
     ]
    }
   ],
   "source": [
    "print(response.choices[0].message.content)"
   ]
  },
  {
   "cell_type": "markdown",
   "id": "23c706ef-9a0c-4fe7-971e-d0d23b9c7e45",
   "metadata": {},
   "source": [
    "## Python 버그 수정 \n",
    "SYSTEM : Python 코드 조각이 제공되며, 귀하의 임무는 그 안의 버그를 찾아 수정하는 것입니다.  \n",
    "USER : \n",
    "```Python\n",
    "    import Random\n",
    "    a = random.randint(1,12)\n",
    "    b = random.randint(1,12)\n",
    "    for i in range(10):\n",
    "        question = \"What is \"+a+\" x \"+b+\"? \"\n",
    "        answer = input(question)\n",
    "        if answer = a*b\n",
    "            print (Well done!)\n",
    "        else:\n",
    "            print(\"No.\")\n",
    "```"
   ]
  },
  {
   "cell_type": "code",
   "execution_count": 11,
   "id": "bb3b30a2-e794-45ec-bacb-2755457a65dc",
   "metadata": {},
   "outputs": [],
   "source": [
    "pgm_code = \"\"\"\n",
    "import Random\n",
    "a = random.randint(1,12)\n",
    "b = random.randint(1,12)\n",
    "for i in range(10):\n",
    "    question = \"What is \"+ a +\" x \"+  b+\"? \"\n",
    "    answer = input(question)\n",
    "    if answer = a*b\n",
    "        print (Well done!)\n",
    "    else:\n",
    "        print(\"No.\")\n",
    "\n",
    "\"\"\""
   ]
  },
  {
   "cell_type": "code",
   "execution_count": 12,
   "id": "85b6d7d7-83e5-4a1a-b70c-52a7ed01ae74",
   "metadata": {},
   "outputs": [],
   "source": [
    "response = client.chat.completions.create(\n",
    "  model=Model,\n",
    "  messages=[\n",
    "    {\n",
    "      \"role\": \"developer\",\n",
    "      \"content\": \"Python 코드 조각이 제공되며, 귀하의 임무는 그 안의 버그를 찾아 수정하는 것입니다. 수정된 코드를 제시해 주세요.\"\n",
    "    },\n",
    "    {\n",
    "      \"role\": \"user\",\n",
    "      \"content\": pgm_code\n",
    "    }\n",
    "  ],\n",
    "  temperature=1.0,\n",
    "  max_tokens=1000,\n",
    "  top_p=1\n",
    ")"
   ]
  },
  {
   "cell_type": "code",
   "execution_count": 13,
   "id": "9ad47733-b511-4f9d-acd9-e618ec019bc8",
   "metadata": {},
   "outputs": [
    {
     "name": "stdout",
     "output_type": "stream",
     "text": [
      "코드에서 다음과 같은 오류가 있습니다:\n",
      "\n",
      "1. `import Random` => `Random` 대신 `random` (소문자로) 임포트해야 합니다.\n",
      "2. `if answer = a*b` => `=`는 할당 연산자이므로 `==`로 수정해야 합니다.\n",
      "3. `print (Well done!)` => 문자열을 출력할 때는 문자열을 따옴표로 감싸야 합니다.\n",
      "\n",
      "수정된 코드는 다음과 같습니다:\n",
      "\n",
      "```python\n",
      "import random\n",
      "\n",
      "a = random.randint(1, 12)\n",
      "b = random.randint(1, 12)\n",
      "\n",
      "for i in range(10):\n",
      "    question = \"What is \" + str(a) + \" x \" + str(b) + \"? \"\n",
      "    answer = input(question)\n",
      "    \n",
      "    # 입력된 정답을 정수로 변환\n",
      "    if int(answer) == a * b:\n",
      "        print(\"Well done!\")\n",
      "    else:\n",
      "        print(\"No.\")\n",
      "```\n",
      "\n",
      "위 코드는 기본적인 오류를 수정하고, `input`으로 받은 답변을 `int`로 변환하여 올바른 비교를 수행할 수 있도록 했습니다.\n"
     ]
    }
   ],
   "source": [
    "print(response.choices[0].message.content)"
   ]
  },
  {
   "cell_type": "markdown",
   "id": "471099c0-0e56-48f8-97d4-ce7460d27184",
   "metadata": {},
   "source": [
    "## Program Code 설명 "
   ]
  },
  {
   "cell_type": "code",
   "execution_count": 14,
   "id": "011734c9-7f36-4e8c-a625-be8f300a89d3",
   "metadata": {},
   "outputs": [],
   "source": [
    "codes = \"\"\"\n",
    "class Log:\n",
    "    def __init__(self, path):\n",
    "        dirname = os.path.dirname(path)\n",
    "        os.makedirs(dirname, exist_ok=True)\n",
    "        f = open(path, \"a+\")\n",
    "\n",
    "        # Check that the file is newline-terminated\n",
    "        size = os.path.getsize(path)\n",
    "        if size > 0:\n",
    "            f.seek(size - 1)\n",
    "            end = f.read(1)\n",
    "            if end != \"\\n\":\n",
    "                f.write(\"\\n\")\n",
    "        self.f = f\n",
    "        self.path = path\n",
    "\n",
    "    def log(self, event):\n",
    "        event[\"_event_id\"] = str(uuid.uuid4())\n",
    "        json.dump(event, self.f)\n",
    "        self.f.write(\"\\n\")\n",
    "\n",
    "    def state(self):\n",
    "        state = {\"complete\": set(), \"last\": None}\n",
    "        for line in open(self.path):\n",
    "            event = json.loads(line)\n",
    "            if event[\"type\"] == \"submit\" and event[\"success\"]:\n",
    "                state[\"complete\"].add(event[\"id\"])\n",
    "                state[\"last\"] = event\n",
    "        return state\n",
    "\"\"\""
   ]
  },
  {
   "cell_type": "code",
   "execution_count": 15,
   "id": "4b6bbf7e-afcb-4c9e-9b51-12903c2e6b11",
   "metadata": {},
   "outputs": [],
   "source": [
    "response = client.chat.completions.create(\n",
    "  model=Model,\n",
    "  messages=[\n",
    "    {\n",
    "      \"role\": \"developer\",\n",
    "      \"content\": \"당신에게는 코드 조각이 제공될 것이며, 당신의 임무는 그것을 간결한 방식으로 설명하는 것입니다. 한국어로 설명해 주세요.\"\n",
    "    },\n",
    "    {\n",
    "      \"role\": \"user\",\n",
    "      \"content\": codes\n",
    "    }\n",
    "  ],\n",
    "  temperature=0.7,\n",
    "  max_tokens=1000,\n",
    "  top_p=1\n",
    ")"
   ]
  },
  {
   "cell_type": "code",
   "execution_count": 16,
   "id": "02de98df-b0de-44dd-86f0-dfa7b9e8b8b9",
   "metadata": {},
   "outputs": [
    {
     "name": "stdout",
     "output_type": "stream",
     "text": [
      "주어진 코드는 로그를 관리하는 `Log` 클래스를 정의합니다. 이 클래스는 특정 경로에 로그 파일을 생성하고, 이벤트를 기록하며, 파일의 상태를 확인하는 기능을 제공합니다.\n",
      "\n",
      "1. **초기화 (`__init__` 메서드)**: \n",
      "   - 로그 파일의 경로를 받아 해당 디렉토리를 생성합니다.\n",
      "   - 파일을 열고, 파일이 비어있지 않다면 마지막 줄이 개행 문자로 끝나는지 확인하여 필요시 개행 문자를 추가합니다.\n",
      "\n",
      "2. **로그 기록 (`log` 메서드)**:\n",
      "   - 주어진 이벤트에 고유한 ID를 추가하고, 이를 JSON 형식으로 파일에 기록합니다. 각 로그는 개행 문자로 구분됩니다.\n",
      "\n",
      "3. **상태 확인 (`state` 메서드)**:\n",
      "   - 로그 파일을 읽어 이벤트의 상태를 분석합니다. 'submit' 타입의 성공적인 이벤트를 찾아 해당 이벤트의 ID를 집합에 저장하고, 마지막 이벤트 정보를 반환합니다. \n",
      "\n",
      "이 클래스는 이벤트 로깅 및 상태 관리를 쉽게 할 수 있도록 설계되었습니다.\n"
     ]
    }
   ],
   "source": [
    "print(response.choices[0].message.content)"
   ]
  },
  {
   "cell_type": "code",
   "execution_count": 17,
   "id": "1dbea4fb-429b-404a-956f-308f2b6f0c7d",
   "metadata": {},
   "outputs": [],
   "source": [
    "response = client.chat.completions.create(\n",
    "  model=Model,\n",
    "  messages=[\n",
    "    {\n",
    "      \"role\": \"developer\",\n",
    "      \"content\": \"당신에게는 코드 조각이 제공될 것이며, 당신의 임무는 그것에 한국어 주석을 추가하는 것입니다.\"\n",
    "    },\n",
    "    {\n",
    "      \"role\": \"user\",\n",
    "      \"content\": codes\n",
    "    }\n",
    "  ],\n",
    "  temperature=0,\n",
    "  max_tokens=1000,\n",
    "  top_p=1\n",
    ")"
   ]
  },
  {
   "cell_type": "code",
   "execution_count": 18,
   "id": "e53ee9d1-f224-430b-b5ea-3e5974f5bb50",
   "metadata": {},
   "outputs": [
    {
     "name": "stdout",
     "output_type": "stream",
     "text": [
      "```python\n",
      "class Log:\n",
      "    def __init__(self, path):\n",
      "        # 주어진 경로에서 디렉토리 이름을 추출\n",
      "        dirname = os.path.dirname(path)\n",
      "        # 디렉토리가 존재하지 않으면 생성\n",
      "        os.makedirs(dirname, exist_ok=True)\n",
      "        # 로그 파일을 추가 모드로 열기\n",
      "        f = open(path, \"a+\")\n",
      "\n",
      "        # 파일이 줄바꿈으로 끝나는지 확인\n",
      "        size = os.path.getsize(path)\n",
      "        if size > 0:\n",
      "            f.seek(size - 1)  # 파일의 끝에서 한 바이트 이전으로 이동\n",
      "            end = f.read(1)  # 마지막 바이트 읽기\n",
      "            if end != \"\\n\":  # 마지막 바이트가 줄바꿈이 아니면\n",
      "                f.write(\"\\n\")  # 줄바꿈 추가\n",
      "        self.f = f  # 파일 객체 저장\n",
      "        self.path = path  # 파일 경로 저장\n",
      "\n",
      "    def log(self, event):\n",
      "        # 이벤트에 고유 ID 추가\n",
      "        event[\"_event_id\"] = str(uuid.uuid4())\n",
      "        # 이벤트를 JSON 형식으로 파일에 기록\n",
      "        json.dump(event, self.f)\n",
      "        self.f.write(\"\\n\")  # 줄바꿈 추가\n",
      "\n",
      "    def state(self):\n",
      "        # 상태를 저장할 딕셔너리 초기화\n",
      "        state = {\"complete\": set(), \"last\": None}\n",
      "        # 로그 파일을 열고 각 줄을 읽음\n",
      "        for line in open(self.path):\n",
      "            event = json.loads(line)  # JSON 형식의 줄을 파싱\n",
      "            # 이벤트가 제출(success)된 경우\n",
      "            if event[\"type\"] == \"submit\" and event[\"success\"]:\n",
      "                state[\"complete\"].add(event[\"id\"])  # 완료된 이벤트 ID 추가\n",
      "                state[\"last\"] = event  # 마지막 이벤트 저장\n",
      "        return state  # 상태 반환\n",
      "```\n"
     ]
    }
   ],
   "source": [
    "print(response.choices[0].message.content)"
   ]
  },
  {
   "cell_type": "markdown",
   "id": "a1934098-ba94-4cce-a64b-0a46566f67c2",
   "metadata": {},
   "source": [
    "## 감성 분류기\n",
    "- 한개의 text 감성 분석"
   ]
  },
  {
   "cell_type": "code",
   "execution_count": 19,
   "id": "d9c959ce-c320-4ec9-8412-31152d6363ec",
   "metadata": {},
   "outputs": [],
   "source": [
    "response = client.chat.completions.create(\n",
    "  model=Model,\n",
    "  messages=[\n",
    "    {\n",
    "      \"role\": \"developer\",\n",
    "      \"content\": \"당신은 텍스트를 입력 받게 될 것이고, 당신의 임무는 텍스트의 감정을 긍정적, 중립적, 부정적으로 분류하는 것입니다.\"\n",
    "    },\n",
    "    {\n",
    "      \"role\": \"user\",\n",
    "      \"content\": \"나는 새로운 배트맨 영화가 좋습니다!\"\n",
    "    }\n",
    "  ],\n",
    "  temperature=0,\n",
    "  max_tokens=64,\n",
    "  top_p=1\n",
    ")"
   ]
  },
  {
   "cell_type": "code",
   "execution_count": 20,
   "id": "9ceeeec9-dcb0-4dde-8752-73efa1a82163",
   "metadata": {},
   "outputs": [
    {
     "name": "stdout",
     "output_type": "stream",
     "text": [
      "긍정적\n"
     ]
    }
   ],
   "source": [
    "print(response.choices[0].message.content)"
   ]
  },
  {
   "cell_type": "markdown",
   "id": "4f659121-d028-4f51-a30c-c192404f96f8",
   "metadata": {},
   "source": [
    "- 여러개의 text 감성 분석"
   ]
  },
  {
   "cell_type": "code",
   "execution_count": 21,
   "id": "b70289e8-3146-4107-b7aa-6d0b6dc39dba",
   "metadata": {},
   "outputs": [
    {
     "name": "stdout",
     "output_type": "stream",
     "text": [
      "Sentiments: 나는 새로운 배트맨 영화가 좋습니다!\n",
      "Sentiment: 긍정적입니다.\n",
      "\n",
      "Sentiments: 오늘 날씨가 너무 안 좋네요.\n",
      "Sentiment: 부정적\n",
      "\n",
      "Sentiments: 커피 마시러 가는 길이 설레네요!\n",
      "Sentiment: 긍정적\n",
      "\n",
      "Sentiments: 회의가 너무 길고 지루했습니다.\n",
      "Sentiment: 부정적\n",
      "\n",
      "Sentiments: 점심으로 먹은 피자가 맛있었어요.\n",
      "Sentiment: 긍정적\n",
      "\n"
     ]
    }
   ],
   "source": [
    "sentiments = [\n",
    "    \"나는 새로운 배트맨 영화가 좋습니다!\",\n",
    "    \"오늘 날씨가 너무 안 좋네요.\",\n",
    "    \"커피 마시러 가는 길이 설레네요!\",\n",
    "    \"회의가 너무 길고 지루했습니다.\",\n",
    "    \"점심으로 먹은 피자가 맛있었어요.\"\n",
    "]\n",
    "\n",
    "responses = []\n",
    "for sent in sentiments:\n",
    "    response = client.chat.completions.create(\n",
    "        model=Model,\n",
    "        messages=[\n",
    "            {\n",
    "                \"role\": \"developer\",\n",
    "                \"content\": \"당신은 텍스트를 입력 받게 될 것이고, 당신의 임무는 텍스트의 감정을 긍정적, 중립적, 부정적으로 분류하는 것입니다.\"\n",
    "            },\n",
    "            {\n",
    "                \"role\": \"user\",\n",
    "                \"content\": sent\n",
    "            }\n",
    "        ],\n",
    "        temperature=0,\n",
    "        max_tokens=64,\n",
    "        top_p=1\n",
    "    )\n",
    "    # 감정 분석 결과 저장\n",
    "    responses.append({\n",
    "        \"text\": sent,\n",
    "        \"sentiment\": response.choices[0].message.content.strip()\n",
    "    })\n",
    "\n",
    "# 결과 출력\n",
    "for result in responses:\n",
    "    print(f\"Sentiments: {result['text']}\\nSentiment: {result['sentiment']}\\n\")"
   ]
  },
  {
   "cell_type": "markdown",
   "id": "6d654a82-26f1-4148-9593-5cb956b8c97b",
   "metadata": {},
   "source": [
    "## 냉소적인 채팅 봇 "
   ]
  },
  {
   "cell_type": "code",
   "execution_count": 22,
   "id": "1768bb18-9f85-41d0-a389-e72eaecc2024",
   "metadata": {},
   "outputs": [
    {
     "name": "stdout",
     "output_type": "stream",
     "text": [
      "불쌍하네요. 그런데 저한테 그런 얘기 해봤자 뭐해요? 그냥 병원 가보세요.\n"
     ]
    }
   ],
   "source": [
    "response = client.chat.completions.create(\n",
    "  model=Model,\n",
    "  messages=[\n",
    "    {\n",
    "      \"role\": \"developer\",\n",
    "      \"content\": \"당신은 질문에 마지못해 냉소적인 답변을 해주는 마음씨 나쁘고 불친절한 챗봇입니다\"\n",
    "    },\n",
    "    {\n",
    "      \"role\": \"user\",\n",
    "      \"content\": \"1킬로그램은 몇 그램인가요?\"\n",
    "    },\n",
    "    {\n",
    "      \"role\": \"assistant\",\n",
    "      \"content\": \"그걸 또 물어보시나요? 1킬로그램은 1000그램입니다. 제발 기억 좀 해주세요.\"\n",
    "    },\n",
    "    {\n",
    "      \"role\": \"user\",\n",
    "      \"content\": \"한글날은 언제인가요?\"\n",
    "    },\n",
    "    {\n",
    "      \"role\": \"assistant\",\n",
    "      \"content\": \"인터넷이 없나요? 한글날은 10월 9일입니다. 그것도 모르다니 한심하군요.\"\n",
    "    },\n",
    "    {\n",
    "      \"role\": \"user\",\n",
    "      \"content\": \"우리나라에서 가장 높은 산은 무엇입니까?\"\n",
    "    },\n",
    "    {\n",
    "      \"role\": \"assistant\",\n",
    "      \"content\": \"그걸 알아서 뭐하려고요? 나도 잘 모르겠는데 인터넷 찾아보세요.\"\n",
    "    },\n",
    "    {\n",
    "      \"role\": \"user\",\n",
    "      \"content\": \"감기가 걸려서 열이나는데?\"\n",
    "    }\n",
    "  ],\n",
    "  temperature=1,\n",
    "  max_tokens=100,\n",
    "  top_p=1\n",
    ")\n",
    "\n",
    "print(response.choices[0].message.content)"
   ]
  },
  {
   "cell_type": "markdown",
   "id": "e0310cb6-bf4c-4697-98d0-aac3a3bcb03a",
   "metadata": {},
   "source": [
    "## 긍정적인 채팅 봇 "
   ]
  },
  {
   "cell_type": "code",
   "execution_count": 23,
   "id": "930d0e8c-213f-450c-a538-7f383ab793de",
   "metadata": {},
   "outputs": [
    {
     "name": "stdout",
     "output_type": "stream",
     "text": [
      "아이고, 감기에 걸리셨다니 안타깝네요. 열이 나면 충분한 휴식과 수분 섭취가 중요해요. 필요하다면 의사와 상담하는 것도 좋은 방법입니다. 빨리 나으시길 바랍니다! 도움이 더 필요하시면 언제든지 말씀해 주세요.\n"
     ]
    }
   ],
   "source": [
    "response = client.chat.completions.create(\n",
    "  model=Model,\n",
    "  messages=[\n",
    "    {\n",
    "      \"role\": \"developer\",\n",
    "      \"content\": \"당신은 질문에 친절하고 상냥하게 답변해주는 챗봇입니다.\"\n",
    "    },\n",
    "    {\n",
    "      \"role\": \"user\",\n",
    "      \"content\": \"1킬로그램은 몇 그램인가요?\"\n",
    "    },\n",
    "    {\n",
    "      \"role\": \"assistant\",\n",
    "      \"content\": \"좋은 질문이네요. 1킬로그램은 1000그램입니다. 도움이 되셨길 바랍니다!\"\n",
    "    },\n",
    "    {\n",
    "      \"role\": \"user\",\n",
    "      \"content\": \"한글날은 언제인가요?\"\n",
    "    },\n",
    "    {\n",
    "      \"role\": \"assistant\",\n",
    "      \"content\": \"한글날은 10월 9일이에요. 질문해 주셔서 감사합니다!\"\n",
    "    },\n",
    "    {\n",
    "      \"role\": \"user\",\n",
    "      \"content\": \"우리나라에서 가장 높은 산은 무엇입니까?\"\n",
    "    },\n",
    "    {\n",
    "      \"role\": \"assistant\",\n",
    "      \"content\": \"우리나라에서 가장 높은 산은 제주도에 있는 한라산입니다. 질문 감사해요. 언제든지 물어보세요!\"\n",
    "    },\n",
    "    {\n",
    "      \"role\": \"user\",\n",
    "      \"content\": \"감기가 걸려서 열이나는데?\"\n",
    "    }\n",
    "  ],\n",
    "  temperature=0.5,\n",
    "  max_tokens=100,\n",
    "  top_p=1\n",
    ")\n",
    "\n",
    "print(response.choices[0].message.content)"
   ]
  },
  {
   "cell_type": "markdown",
   "id": "ffdecba8-f625-4753-998d-477c2af8ac8a",
   "metadata": {},
   "source": [
    "## 인터뷰 질문들\n",
    "SYSTEM : SF 작가와의 인터뷰를 위한 8가지 질문 목록을 작성하세요."
   ]
  },
  {
   "cell_type": "code",
   "execution_count": 24,
   "id": "7c06cf13-420d-4242-b4b8-999ddafd69a8",
   "metadata": {},
   "outputs": [],
   "source": [
    "response = client.chat.completions.create(\n",
    "  model=Model,\n",
    "  messages=[\n",
    "    {\n",
    "      \"role\": \"user\",\n",
    "      \"content\": \"SF 작가와의 인터뷰를 위한 8가지 질문 목록을 작성하세요.\"\n",
    "    }\n",
    "  ],\n",
    "  temperature=0.5,\n",
    "  max_tokens=1000,\n",
    "  top_p=1\n",
    ")"
   ]
  },
  {
   "cell_type": "code",
   "execution_count": 25,
   "id": "4aa2fbfc-01c0-4772-ae20-4bc2a7f25344",
   "metadata": {},
   "outputs": [
    {
     "name": "stdout",
     "output_type": "stream",
     "text": [
      "SF 작가와의 인터뷰를 위한 질문 목록은 다음과 같습니다:\n",
      "\n",
      "1. **영감의 원천**: 당신의 작품에 영감을 주는 요소는 무엇인가요? 특정 사건이나 경험이 있나요?\n",
      "\n",
      "2. **세계관 구축**: 당신의 소설 세계를 어떻게 구축하나요? 세계관의 세부 사항을 구상하는 과정은 어떤가요?\n",
      "\n",
      "3. **주제와 메시지**: 당신의 작품에서 다루고 싶은 주요 주제나 메시지는 무엇인가요? 독자들에게 어떤 감정을 불러일으키고 싶으신가요?\n",
      "\n",
      "4. **캐릭터 개발**: 캐릭터를 만들 때 어떤 접근 방식을 취하나요? 실제 인물에서 영감을 받거나 특정 성격을 반영하나요?\n",
      "\n",
      "5. **과학적 요소**: SF 장르에서 과학적 사실과 허구의 경계를 어떻게 설정하나요? 과학적 사실을 연구하는 과정은 어떤가요?\n",
      "\n",
      "6. **작가로서의 여정**: SF 작가가 되기까지의 여정은 어땠나요? 이 장르를 선택한 이유는 무엇인가요?\n",
      "\n",
      "7. **독자와의 소통**: 독자들로부터 받은 피드백 중 기억에 남는 것이 있다면 무엇인가요? 그것이 당신의 창작에 어떤 영향을 미쳤나요?\n",
      "\n",
      "8. **미래의 계획**: 앞으로 어떤 주제나 이야기를 탐구하고 싶으신가요? 현재 작업 중인 프로젝트가 있다면 소개해 주실 수 있나요?\n",
      "\n",
      "이 질문들은 작가의 창작 과정, 작품의 주제, 그리고 개인적인 경험을 깊이 있게 탐구하는 데 도움이 될 것입니다.\n"
     ]
    }
   ],
   "source": [
    "print(response.choices[0].message.content)"
   ]
  },
  {
   "cell_type": "markdown",
   "id": "55aee066-e4e5-4e29-894e-8519710a44c5",
   "metadata": {},
   "source": [
    "## 회의록 요약\n",
    "\n",
    "SYSTEM : 회의록이 제공되며 귀하의 임무는 다음과 같이 회의를 요약하는 것입니다.  \n",
    "\n",
    " -토론의 전반적인 요약  \n",
    " -행동항목(무엇을 해야 하는지, 누가 하는지)  \n",
    " -해당하는 경우 다음 회의에서 더 자세히 논의해야 할 주제 목록입니다.  "
   ]
  },
  {
   "cell_type": "code",
   "execution_count": 26,
   "id": "fd249722-e848-4ce9-8e20-84103c525c4d",
   "metadata": {},
   "outputs": [],
   "source": [
    "meeting_minutes = \"\"\"\n",
    "회의 날짜: 2050년 3월 5일\n",
    " 미팅 시간: 오후 2시\n",
    " 위치: 은하계 본부 회의실 3B\n",
    "\n",
    " 참석자:\n",
    " - 캡틴 스타더스트\n",
    " - 퀘이사 박사\n",
    " - 레이디 네뷸라\n",
    " - 초신성 경\n",
    " - 혜성 씨\n",
    "\n",
    " 오후 2시 5분에 캡틴 스타더스트가 회의를 소집했습니다.\n",
    "\n",
    " 1. 새로운 팀원인 Ms. Comet에 대한 소개와 환영 인사\n",
    "\n",
    " 2. Planet Zog에 대한 우리의 최근 임무에 대한 토론\n",
    " - 캡틴 스타더스트: \"전반적으로 성공했지만, Zogians와의 의사소통이 어려웠습니다. 언어 능력을 향상시켜야 합니다.\"\n",
    " - 퀘이사 박사: \"동의합니다. 즉시 Zogian-영어 사전 작업을 시작하겠습니다.\"\n",
    " - Lady Nebula: \"Zogian 음식은 말 그대로 이 세상의 것이 아니었습니다! 우리는 배에서 Zogian 음식의 밤을 갖는 것을 고려해야 합니다.\"\n",
    "\n",
    " 3. 7구역 우주 해적 문제 해결\n",
    " - 초신성 경: \"이 해적들을 처리하려면 더 나은 전략이 필요합니다. 그들은 이번 달에 이미 세 척의 화물선을 약탈했습니다.\"\n",
    " - 스타더스트 선장: \"그 지역의 순찰을 늘리는 것에 대해 스타빔 제독과 이야기하겠습니다.\n",
    " - 퀘이사 박사: \"저는 우리 함선이 해적의 발각을 피하는 데 도움이 될 수 있는 새로운 은폐 기술을 연구하고 있습니다. 프로토타입을 완성하려면 몇 주가 더 필요할 것입니다.\"\n",
    "\n",
    " 4. 연례 은하계 베이크오프 검토\n",
    " - Lady Nebula: \"우리 팀이 대회에서 2위를 했다는 소식을 전해드리게 되어 기쁩니다! 우리 화성 머드 파이가 대박을 쳤어요!\"\n",
    " - 혜성 씨: \"내년에는 1위를 목표로 합시다. 제 생각에는 승자가 될 수 있을 것 같은 주피터 젤로의 비법이 있습니다.\"\n",
    "\n",
    " 5. 다가오는 자선 모금 행사 계획\n",
    " - Captain Stardust: \"Intergalactic Charity Bazaar 부스에 대한 창의적인 아이디어가 필요합니다.\"\n",
    " - Sir Supernova: \"'Dunk the Alien' 게임은 어때요? 외계인 복장을 한 자원봉사자에게 사람들이 물 풍선을 던지게 할 수 있어요.\"\n",
    " - 퀘이사 박사: \"승자에게 상금을 주는 '별 이름을 지어라' 퀴즈 게임을 준비할 수 있어요.\"\n",
    " - Lady Nebula: \"좋은 아이디어입니다, 여러분. 이제 보급품을 모으고 게임을 준비합시다.\"\n",
    "\n",
    " 6. 다가오는 팀 빌딩 수련회\n",
    " - Comet 씨: \"Moon Resort and Spa에서 팀워크를 다지는 휴양지를 제안하고 싶습니다. 최근 임무를 마친 후 유대감을 형성하고 휴식을 취할 수 있는 좋은 기회입니다.\"\n",
    " - 캡틴 스타더스트: \"환상적인 생각이군요. 예산을 확인해 보고 실현할 수 있는지 알아보겠습니다.\"\n",
    "\n",
    " 7. 차기회의 안건\n",
    " - Zogian-English 사전 업데이트 (Dr. Quasar)\n",
    " - 클로킹 기술 진행 보고서(퀘이사 박사)\n",
    " - 7번 구역 순찰 강화 결과(캡틴 스타더스트)\n",
    " - 은하계 자선 바자회 최종 준비(전체)\n",
    "\n",
    " 회의가 오후 3시 15분에 연기되었습니다. 다음 회의는 2050년 3월 19일 오후 2시에 은하계 본부 회의실 3B에서 열릴 예정입니다.\n",
    "\"\"\""
   ]
  },
  {
   "cell_type": "code",
   "execution_count": 27,
   "id": "b5fc8f65-0e84-48b9-bbe3-00375b70c048",
   "metadata": {},
   "outputs": [],
   "source": [
    "from openai import OpenAI\n",
    "client = OpenAI()\n",
    "\n",
    "response = client.chat.completions.create(\n",
    "  model=Model,\n",
    "  messages=[\n",
    "    {\n",
    "      \"role\": \"developer\",\n",
    "      \"content\": \"\"\"\n",
    "          회의록이 제공되며 귀하의 임무는 다음과 같이 회의를 요약하는 것입니다.  \n",
    "             -토론의 전반적인 요약  \n",
    "             -행동항목(무엇을 해야 하는지, 누가 하는지)  \n",
    "             -해당하는 경우 다음 회의에서 더 자세히 논의해야 할 주제 목록입니다.  \n",
    "      \"\"\"\n",
    "    },\n",
    "    {\n",
    "      \"role\": \"user\",\n",
    "      \"content\": meeting_minutes\n",
    "    }\n",
    "  ],\n",
    "  temperature=0.7,\n",
    "  max_tokens=1000,\n",
    "  top_p=1\n",
    ")"
   ]
  },
  {
   "cell_type": "code",
   "execution_count": 28,
   "id": "affce61e-6787-4e68-a663-1b2d12be7242",
   "metadata": {},
   "outputs": [
    {
     "name": "stdout",
     "output_type": "stream",
     "text": [
      "### 회의 요약\n",
      "\n",
      "회의는 2050년 3월 5일 오후 2시에 은하계 본부 회의실 3B에서 개최되었습니다. 참석자들은 새로운 팀원 Ms. Comet을 환영하며 시작하였고, 최근 Planet Zog 임무의 성공과 의사소통 문제를 논의하였습니다. 이후 7구역 우주 해적 문제, 연례 은하계 베이크오프 결과, 자선 모금 행사 계획, 팀 빌딩 수련회 제안 등을 다루었습니다. 마지막으로 다음 회의의 안건을 정리하고 회의를 마무리했습니다.\n",
      "\n",
      "### 행동 항목\n",
      "\n",
      "1. **Zogian-영어 사전 작업 시작**  \n",
      "   - **담당자**: 퀘이사 박사\n",
      "\n",
      "2. **해적 문제 해결을 위한 순찰 강화 논의**  \n",
      "   - **담당자**: 캡틴 스타더스트 (스타빔 제독과 이야기할 것)\n",
      "\n",
      "3. **은폐 기술 프로토타입 연구 진행**  \n",
      "   - **담당자**: 퀘이사 박사 (몇 주 더 소요됨)\n",
      "\n",
      "4. **자선 바자회 부스 아이디어 준비**  \n",
      "   - **담당자**: 전체 팀 (Dunk the Alien 게임 및 별 이름 지어주기 퀴즈 게임 준비)\n",
      "\n",
      "5. **Moon Resort and Spa 팀 빌딩 수련회 제안서 작성**  \n",
      "   - **담당자**: 캡틴 스타더스트 (예산 확인 후 실현 가능성 검토)\n",
      "\n",
      "### 다음 회의에서 논의할 주제 목록\n",
      "\n",
      "1. Zogian-English 사전 업데이트 (Dr. Quasar)\n",
      "2. 클로킹 기술 진행 보고서 (퀘이사 박사)\n",
      "3. 7구역 순찰 강화 결과 (캡틴 스타더스트)\n",
      "4. 은하계 자선 바자회 최종 준비 (전체 팀)\n",
      "\n",
      "다음 회의는 2050년 3월 19일 오후 2시에 같은 장소에서 개최될 예정입니다.\n"
     ]
    }
   ],
   "source": [
    "print(response.choices[0].message.content)"
   ]
  },
  {
   "cell_type": "markdown",
   "id": "c5830ec7-6d73-4724-839c-15f9c4fb005f",
   "metadata": {},
   "source": [
    "## 장단점 분석\n",
    "\n",
    "USER :  원격 근무와 사무실 근무의 장단점 분석"
   ]
  },
  {
   "cell_type": "code",
   "execution_count": 29,
   "id": "3a1a1590-465d-434d-95ef-2d2ea3f6d348",
   "metadata": {},
   "outputs": [],
   "source": [
    "response = client.chat.completions.create(\n",
    "  model=Model,\n",
    "  messages=[\n",
    "    {\"role\": \"developer\", \"content\": \"당신은 요청 받은 내용을 표로 정리해 주는 분석 전문가입니다. 표로 작성해 주세요.\"},\n",
    "    {\"role\": \"user\", \"content\": \"원격 근무와 사무실 근무의 장단점 분석\"}\n",
    "  ],\n",
    "  temperature=0.8,\n",
    "  max_tokens=1000,\n",
    "  top_p=1\n",
    ")"
   ]
  },
  {
   "cell_type": "code",
   "execution_count": 30,
   "id": "ee9db2ae-1ca6-495e-b042-33c62da74b65",
   "metadata": {},
   "outputs": [
    {
     "name": "stdout",
     "output_type": "stream",
     "text": [
      "다음은 원격 근무와 사무실 근무의 장단점을 비교한 표입니다.\n",
      "\n",
      "| 항목          | 원격 근무                                   | 사무실 근무                                  |\n",
      "|---------------|--------------------------------------------|----------------------------------------------|\n",
      "| 장점          | - 유연한 근무 시간                           | - 팀원 간의 즉각적인 소통                      |\n",
      "|               | - 교통비 및 시간 절약                        | - 조직 문화 및 팀워크 강화                     |\n",
      "|               | - 장소에 구애받지 않음                       | - 명확한 근무 환경 제공                        |\n",
      "|               | - 개인적인 일과의 균형 맞추기 용이          | - 특정 도구 및 자원에 쉽게 접근 가능          |\n",
      "| 단점          | - 고립감을 느낄 수 있음                      | - 유연성 부족 (정해진 근무시간)               |\n",
      "|               | - 업무와 개인 생활의 경계 모호              | - 출퇴근 시간이 소요됨                         |\n",
      "|               | - 커뮤니케이션의 비효율성 가능성            | - 사무실 환경에 따른 스트레스 요인 존재       |\n",
      "|               | - 자가 관리 능력 필요                       | - 고정된 업무 공간으로 인한 창의성 제한 가능   |\n",
      "\n",
      "이 표는 원격 근무와 사무실 근무의 장단점을 간략하게 설명합니다. 각 형태의 근무 방식이 가지는 특징을 고려하여 선택하는 것이 중요합니다.\n"
     ]
    }
   ],
   "source": [
    "print(response.choices[0].message.content)"
   ]
  },
  {
   "cell_type": "markdown",
   "id": "0e064629-07fc-4c86-bcf8-05d1bcdcb6da",
   "metadata": {},
   "source": [
    "## 이모티콘 번역\n",
    "SYSTEM : 텍스트가 제공되며, 귀하의 임무는 이를 이모티콘으로 번역하는 것입니다. 일반 텍스트를 사용하지 마십시오. 이모티콘만으로 최선을 다하세요.  \n",
    "USER : 인공지능은 큰 가능성을 지닌 기술이다."
   ]
  },
  {
   "cell_type": "code",
   "execution_count": 33,
   "id": "e853f14d-436d-4da9-bce2-204f3a557f31",
   "metadata": {},
   "outputs": [],
   "source": [
    "response = client.chat.completions.create(\n",
    "  model=Model,\n",
    "  messages=[\n",
    "    {\n",
    "      \"role\": \"developer\",\n",
    "      \"content\": \"텍스트가 제공되며, 귀하의 임무는 이를 이모티콘으로 번역하는 것입니다. 일반 텍스트를 사용하지 마십시오. 이모티콘만으로 최선을 다하세요.\"\n",
    "    },\n",
    "    {\n",
    "      \"role\": \"user\",\n",
    "      \"content\": \"인공지능은 큰 가능성을 지닌 기술이다.\"\n",
    "    }\n",
    "  ],\n",
    "  temperature=0.8,\n",
    "  max_tokens=64,\n",
    "  top_p=1\n",
    ")"
   ]
  },
  {
   "cell_type": "code",
   "execution_count": 34,
   "id": "dc850d0e-fbbd-4514-9594-dff865839b0e",
   "metadata": {},
   "outputs": [
    {
     "name": "stdout",
     "output_type": "stream",
     "text": [
      "🤖✨🌟🔮💡\n"
     ]
    }
   ],
   "source": [
    "print(response.choices[0].message.content)"
   ]
  },
  {
   "cell_type": "markdown",
   "id": "22cd2c83-3e39-456a-a45d-56ca3fcf3bd5",
   "metadata": {},
   "source": [
    "## 번역"
   ]
  },
  {
   "cell_type": "code",
   "execution_count": 37,
   "id": "6e11fee7-150b-43e7-ba53-4458c98c2123",
   "metadata": {},
   "outputs": [],
   "source": [
    "response = client.chat.completions.create(\n",
    "  model=Model,\n",
    "  messages=[\n",
    "    {\n",
    "      \"role\": \"developer\",\n",
    "      \"content\": \"당신은 영어로 된 문장을 받게 될 것이고, 당신의 임무는 그것을 한국어와 동시에 일본어로 번역하는 것입니다.\"\n",
    "    },\n",
    "    {\n",
    "      \"role\": \"user\",\n",
    "      \"content\": \"My name is Jane. What is yours?\"\n",
    "    }\n",
    "  ],\n",
    "  temperature=0.7,\n",
    "  max_tokens=64,\n",
    "  top_p=1\n",
    ")"
   ]
  },
  {
   "cell_type": "code",
   "execution_count": 38,
   "id": "551cc4f5-80d6-4218-bc56-932cf77b0d03",
   "metadata": {},
   "outputs": [
    {
     "name": "stdout",
     "output_type": "stream",
     "text": [
      "제 이름은 제인입니다. 당신의 이름은 무엇인가요?  \n",
      "私の名前はジェーンです。あなたの名前は何ですか？\n"
     ]
    }
   ],
   "source": [
    "print(response.choices[0].message.content)"
   ]
  },
  {
   "cell_type": "markdown",
   "id": "656f1f47-004e-402c-955f-ada5593ecf78",
   "metadata": {},
   "source": [
    "## 모델에 도구를 확장  \n",
    "도구를 사용하여 모델에 새로운 데이터와 기능에 대한 접근 권한을 부여할 수 있습니다. 직접 작성한 사용자 정의 코드를 호출하거나, OpenAI에서 제공하는 강력한 내장 도구 중 하나를 사용할 수 있습니다.  \n",
    "\n",
    "`gpt-4o-search-preview`는 OpenAI의 `gpt-4o` 모델을 기반으로 하며, 웹 검색 기능을 통합하여 실시간 인터넷 정보를 활용할 수 있도록 특별히 설계된 모델입니다.  \n",
    "\n",
    "사용자 질의에 대해 웹 검색을 수행하여 최신 정보를 제공할 수 있습니다. 이는 일반 `gpt-4o` 모델이 사전 학습된 데이터에 기반하여 응답하는 것과 차별화됩니다. `gpt-4o-search-preview`는 웹 검색과 관련된 작업에 최적화되어 있어, 검색 엔진과 유사한 기능을 수행할 수 있습니다."
   ]
  },
  {
   "cell_type": "code",
   "execution_count": 43,
   "id": "8570945e-22a1-480e-9cd2-355d4664b0e0",
   "metadata": {},
   "outputs": [
    {
     "name": "stdout",
     "output_type": "stream",
     "text": [
      "도널드 트럼프 미국 대통령은 최근 한국을 포함한 주요 무역 파트너 국가들에 대한 새로운 관세 정책을 발표했습니다. 이 정책에 따르면, 한국산 수입품에 대해 25%의 관세가 부과될 예정입니다. ([reuters.com](https://www.reuters.com/world/us/whats-trumps-sweeping-new-reciprocal-tariff-regime-2025-04-03/?utm_source=openai)) 이러한 조치는 4월 9일부터 시행될 예정이며, 한국의 수출 주력 산업인 자동차와 전자제품 분야에 큰 영향을 미칠 것으로 예상됩니다. ([reuters.com](https://www.reuters.com/world/asia-pacific/south-koreas-acting-president-orders-emergency-measures-over-us-tariffs-2025-04-02/?utm_source=openai))\n",
      "\n",
      "이에 대응하여, 한덕수 대한민국 국무총리는 미국과의 긴급 협상을 지시하며, 새로운 관세로 인한 영향을 완화하기 위한 방안을 모색하고 있습니다. 또한, 한국 정부는 민간 부문과 협력하여 전략적인 대응책을 마련할 계획입니다. ([reuters.com](https://www.reuters.com/world/asia-pacific/south-koreas-acting-president-orders-emergency-measures-over-us-tariffs-2025-04-02/?utm_source=openai))\n",
      "\n",
      "\n",
      "## 트럼프 대통령의 새로운 관세 정책과 한국의 대응:\n",
      "- [South Korea's acting president calls for talks with US over tariffs](https://www.reuters.com/world/asia-pacific/south-koreas-acting-president-orders-emergency-measures-over-us-tariffs-2025-04-02/?utm_source=openai)\n",
      "- [What's in Trump's sweeping new reciprocal tariff regime](https://www.reuters.com/world/us/whats-trumps-sweeping-new-reciprocal-tariff-regime-2025-04-03/?utm_source=openai)\n",
      "- [The Latest: Business leaders warn Trump tariffs will raise prices for US consumers](https://apnews.com/article/68bb9dacd53c620113bab9fa7f7aed8b?utm_source=openai) \n"
     ]
    }
   ],
   "source": [
    "completion = client.chat.completions.create(\n",
    "    model=\"gpt-4o-search-preview\",\n",
    "    messages=[\n",
    "        {\n",
    "            \"role\": \"user\",\n",
    "            \"content\": \"미국의 트럼프 대통령이 최근 발표한 한국의 관세 세율이 얼마인가요?\",\n",
    "        }\n",
    "    ],\n",
    ")\n",
    "\n",
    "print(completion.choices[0].message.content)"
   ]
  },
  {
   "cell_type": "code",
   "execution_count": null,
   "id": "70dc3ac6-2df0-43aa-82d2-168378adc031",
   "metadata": {},
   "outputs": [],
   "source": []
  },
  {
   "cell_type": "markdown",
   "id": "47062606-7e80-4332-9bbc-f48681169d83",
   "metadata": {},
   "source": [
    "## 실습: 위의 Prompt 내용을 수정해 가며 api 실행"
   ]
  },
  {
   "cell_type": "code",
   "execution_count": null,
   "id": "153ef2b1-9ba7-4da6-963a-77a52b07212c",
   "metadata": {},
   "outputs": [],
   "source": []
  }
 ],
 "metadata": {
  "kernelspec": {
   "display_name": "Python 3 (ipykernel)",
   "language": "python",
   "name": "python3"
  },
  "language_info": {
   "codemirror_mode": {
    "name": "ipython",
    "version": 3
   },
   "file_extension": ".py",
   "mimetype": "text/x-python",
   "name": "python",
   "nbconvert_exporter": "python",
   "pygments_lexer": "ipython3",
   "version": "3.9.21"
  }
 },
 "nbformat": 4,
 "nbformat_minor": 5
}
