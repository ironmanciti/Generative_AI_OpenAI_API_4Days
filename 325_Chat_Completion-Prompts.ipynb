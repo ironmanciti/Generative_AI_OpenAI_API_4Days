{
 "cells": [
  {
   "cell_type": "markdown",
   "id": "d0159061-ae5d-49cb-8e0c-24a48087731c",
   "metadata": {},
   "source": [
    "# Prompt Examples\n",
    "\n",
    "- https://platform.openai.com/docs/examples 참조"
   ]
  },
  {
   "cell_type": "code",
   "execution_count": 1,
   "id": "989f8b65-992a-4c1c-b196-aa19cfff4e95",
   "metadata": {},
   "outputs": [],
   "source": [
    "import os\n",
    "import openai\n",
    "import sys\n",
    "sys.path.append('./')\n",
    "\n",
    "from dotenv import load_dotenv, find_dotenv\n",
    "_ = load_dotenv(find_dotenv()) # read local .env file"
   ]
  },
  {
   "cell_type": "code",
   "execution_count": 2,
   "id": "9a83b1e3-b3f3-42f4-a73f-7bc62e3eb87a",
   "metadata": {},
   "outputs": [],
   "source": [
    "from openai import OpenAI\n",
    "client = OpenAI()\n",
    "\n",
    "Model = \"gpt-4o-mini\""
   ]
  },
  {
   "cell_type": "markdown",
   "id": "6e00626d-ca14-411b-898f-856309a98b6d",
   "metadata": {},
   "source": [
    "## 문법 수정\n",
    "\n",
    "SYSTEM : 당신은 문장을 받게 될 것이며, 당신의 임무는 그것을 표준 한국어로 변환하는 것입니다.  \n",
    "USER :   \n",
    "안갔어 시장에 그녀는."
   ]
  },
  {
   "cell_type": "code",
   "execution_count": 3,
   "id": "9e304b90-0d30-4dca-89f4-4d7c46ae346c",
   "metadata": {},
   "outputs": [],
   "source": [
    "response = client.chat.completions.create(\n",
    "  model=Model,\n",
    "  messages=[\n",
    "    {\n",
    "      \"role\": \"system\",  # 시스템 메시지: 모델에게 작업 지시를 전달\n",
    "      \"content\": \"당신은 문장을 받게 될 것이며, 당신의 임무는 그것을 표준 한국어로 변환하는 것입니다.\"\n",
    "    },\n",
    "    {\n",
    "      \"role\": \"user\",  # 사용자 메시지: 사용자가 모델에게 입력하는 문장\n",
    "      \"content\": \"안갔어 시장에 그녀는.\"\n",
    "    }\n",
    "  ],\n",
    "  temperature=0.7,  # 생성의 창의성 조절 (0.7은 적당한 창의성을 의미)\n",
    "  max_tokens=100,   # 생성될 응답의 최대 토큰 수 설정\n",
    "  top_p=1           # 확률 질량의 상위 p% 내에서 토큰을 샘플링. 1은 전체 확률 질량을 사용함을 의미\n",
    ")"
   ]
  },
  {
   "cell_type": "code",
   "execution_count": 4,
   "id": "f09b1e0f-195a-4ae8-bab3-a544c84236c9",
   "metadata": {},
   "outputs": [
    {
     "name": "stdout",
     "output_type": "stream",
     "text": [
      "그녀는 시장에 가지 않았어.\n"
     ]
    }
   ],
   "source": [
    "print(response.choices[0].message.content)"
   ]
  },
  {
   "cell_type": "markdown",
   "id": "54f4415f-60b6-4308-aaf1-9f46dc634445",
   "metadata": {},
   "source": [
    "## 구조화되지 않은 데이터의 구문 분석\n",
    "SYSTEM : 구조화되지 않은 데이터가 제공되며 이를 CSV 형식으로 구문 분석하는 작업이 수행됩니다.  \n",
    "USER :   \n",
    "최근 발견된 행성 구크럭스(Goocrux)에서는 많은 과일이 발견됐다. 그곳에서 자라는 네오스키즐이 있는데, 보라색이고 사탕 맛이 납니다. 회색 빛이 도는 파란색 과일이고 매우 시큼하며 레몬과 약간 비슷한 로헤클(loheckles)도 있습니다. 포유닛은 밝은 녹색을 띠며 단맛보다 풍미가 더 좋습니다. 네온 핑크색 맛과 솜사탕 같은 맛이 나는 루프노바도 많이 있습니다. 마지막으로 글로울(glowls)이라는 과일이 있는데, 이 과일은 신맛과 부식성이 있는 매우 신맛과 쓴맛이 나며 옅은 오렌지색을 띠고 있습니다."
   ]
  },
  {
   "cell_type": "code",
   "execution_count": 12,
   "id": "1a90e4b6-10c7-48bc-9da2-e617b32cef18",
   "metadata": {},
   "outputs": [],
   "source": [
    "response = client.chat.completions.create(\n",
    "  model=Model,\n",
    "  messages=[\n",
    "    {\n",
    "      \"role\": \"system\",\n",
    "      \"content\": \"구조화되지 않은 데이터가 제공되며 이를 CSV 형식으로 구문 분석하는 작업이 수행됩니다.\"\n",
    "    },\n",
    "    {\n",
    "      \"role\": \"user\",\n",
    "      \"content\": \"\"\"최근 발견된 행성 구크럭스(Goocrux)에서는 많은 과일이 발견됐다. 그곳에서 자라는 네오스키즐이 있는데, 보라색이고 사탕 맛이 납니다. \n",
    "              회색 빛이 도는 파란색 과일이고 매우 시큼하며 레몬과 약간 비슷한 로헤클(loheckles)도 있습니다. 포유닛은 밝은 녹색을 띠며 단맛보다 풍미가 더 좋습니다. \n",
    "              네온 핑크색 맛과 솜사탕 같은 맛이 나는 루프노바도 많이 있습니다. 마지막으로 글로울(glowls)이라는 과일이 있는데, \n",
    "              이 과일은 신맛과 부식성이 있는 매우 신맛과 쓴맛이 나며 옅은 오렌지색을 띠고 있습니다.\n",
    "              이 데이터를 과일명, 색상, 맛으로 분석해 주세요.\"\"\"\n",
    "    }\n",
    "  ],\n",
    "  temperature=0,\n",
    "  max_tokens=500,\n",
    "  top_p=1\n",
    ")"
   ]
  },
  {
   "cell_type": "code",
   "execution_count": 13,
   "id": "8e85a03c-135c-4908-b24e-622a0c408a71",
   "metadata": {},
   "outputs": [
    {
     "name": "stdout",
     "output_type": "stream",
     "text": [
      "제공된 데이터를 바탕으로 과일명, 색상, 맛을 CSV 형식으로 정리하면 다음과 같습니다:\n",
      "\n",
      "```csv\n",
      "과일명, 색상, 맛\n",
      "네오스키즐, 보라색, 사탕 맛\n",
      "로헤클, 회색 빛이 도는 파란색, 매우 시큼\n",
      "포유닛, 밝은 녹색, 풍미가 좋음\n",
      "루프노바, 네온 핑크색, 솜사탕 같은 맛\n",
      "글로울, 옅은 오렌지색, 신맛과 쓴맛\n",
      "```\n",
      "\n",
      "이와 같이 각 과일의 이름, 색상, 맛을 정리하여 CSV 형식으로 표현할 수 있습니다.\n"
     ]
    }
   ],
   "source": [
    "print(response.choices[0].message.content)"
   ]
  },
  {
   "cell_type": "code",
   "execution_count": 14,
   "id": "f5249eef-f3cb-4b89-9a21-2d401de502d8",
   "metadata": {},
   "outputs": [
    {
     "data": {
      "text/html": [
       "<div>\n",
       "<style scoped>\n",
       "    .dataframe tbody tr th:only-of-type {\n",
       "        vertical-align: middle;\n",
       "    }\n",
       "\n",
       "    .dataframe tbody tr th {\n",
       "        vertical-align: top;\n",
       "    }\n",
       "\n",
       "    .dataframe thead th {\n",
       "        text-align: right;\n",
       "    }\n",
       "</style>\n",
       "<table border=\"1\" class=\"dataframe\">\n",
       "  <thead>\n",
       "    <tr style=\"text-align: right;\">\n",
       "      <th></th>\n",
       "      <th>과일명</th>\n",
       "      <th>색상</th>\n",
       "      <th>맛</th>\n",
       "    </tr>\n",
       "  </thead>\n",
       "  <tbody>\n",
       "    <tr>\n",
       "      <th>0</th>\n",
       "      <td>네오스키즐</td>\n",
       "      <td>보라색</td>\n",
       "      <td>사탕 맛</td>\n",
       "    </tr>\n",
       "    <tr>\n",
       "      <th>1</th>\n",
       "      <td>로헤클</td>\n",
       "      <td>회색 빛이 도는 파란색</td>\n",
       "      <td>매우 시큼</td>\n",
       "    </tr>\n",
       "    <tr>\n",
       "      <th>2</th>\n",
       "      <td>포유닛</td>\n",
       "      <td>밝은 녹색</td>\n",
       "      <td>풍미가 좋음</td>\n",
       "    </tr>\n",
       "    <tr>\n",
       "      <th>3</th>\n",
       "      <td>루프노바</td>\n",
       "      <td>네온 핑크색</td>\n",
       "      <td>솜사탕 같은 맛</td>\n",
       "    </tr>\n",
       "    <tr>\n",
       "      <th>4</th>\n",
       "      <td>글로울</td>\n",
       "      <td>옅은 오렌지색</td>\n",
       "      <td>신맛과 쓴맛</td>\n",
       "    </tr>\n",
       "  </tbody>\n",
       "</table>\n",
       "</div>"
      ],
      "text/plain": [
       "     과일명             색상          맛\n",
       "0  네오스키즐            보라색       사탕 맛\n",
       "1    로헤클   회색 빛이 도는 파란색      매우 시큼\n",
       "2    포유닛          밝은 녹색     풍미가 좋음\n",
       "3   루프노바         네온 핑크색   솜사탕 같은 맛\n",
       "4    글로울        옅은 오렌지색     신맛과 쓴맛"
      ]
     },
     "execution_count": 14,
     "metadata": {},
     "output_type": "execute_result"
    }
   ],
   "source": [
    "import pandas as pd\n",
    "from io import StringIO\n",
    "\n",
    "# CSV 형식의 문자열 데이터\n",
    "csv_data = \"\"\"\n",
    "과일명, 색상, 맛\n",
    "네오스키즐, 보라색, 사탕 맛\n",
    "로헤클, 회색 빛이 도는 파란색, 매우 시큼\n",
    "포유닛, 밝은 녹색, 풍미가 좋음\n",
    "루프노바, 네온 핑크색, 솜사탕 같은 맛\n",
    "글로울, 옅은 오렌지색, 신맛과 쓴맛\n",
    "\"\"\"\n",
    "\n",
    "# StringIO를 사용하여 문자열 데이터를 파일처럼 읽음\n",
    "df = pd.read_csv(StringIO(csv_data))\n",
    "df"
   ]
  },
  {
   "cell_type": "markdown",
   "id": "05e0d9c0-12f4-4ed8-aaf8-a704505fcb98",
   "metadata": {},
   "source": [
    "## Keyword 추출 "
   ]
  },
  {
   "cell_type": "code",
   "execution_count": 15,
   "id": "c99d0449-9850-4e25-b779-2e1041a1577a",
   "metadata": {},
   "outputs": [],
   "source": [
    "text = \"\"\"\n",
    "\"블랙 온 블랙 도자기(Black-on-Black ware)는 뉴멕시코 북부의 푸에블로 원주민 도자기 예술가들이 개발한 20세기 및 21세기 도자기 전통입니다. \n",
    "전통적인 환원 소성 블랙웨어는 푸에블로 예술가들에 의해 수세기 동안 만들어졌습니다. \n",
    "지난 세기의 흑색 자기는 표면이 매끄럽고 선택적 버니싱이나 내화 슬립을 적용하여 디자인을 적용한 제품입니다. \n",
    "또 다른 스타일은 디자인을 조각하거나 절개하고 융기된 부분을 선택적으로 연마하는 것입니다. \n",
    "여러 세대에 걸쳐 Kha'po Owingeh와 P'ohwhóge Owingeh 푸에블로의 여러 가족은 여주인 도예가들로부터 전수받은 기술을 사용하여 검은 바탕에 검은 도자기를 만들어 왔습니다. \n",
    "다른 푸에블로 출신의 예술가들도 검정색 바탕에 검정색 도자기를 제작했습니다. 몇몇 현대 예술가들은 조상의 도자기를 기리는 작품을 만들었습니다.\"\n",
    "\"\"\""
   ]
  },
  {
   "cell_type": "code",
   "execution_count": 17,
   "id": "fac052fa-6db9-4b98-a995-8fe8eb32ee60",
   "metadata": {},
   "outputs": [],
   "source": [
    "response = client.chat.completions.create(\n",
    "  model=Model,\n",
    "  messages=[\n",
    "    {\n",
    "      \"role\": \"system\",\n",
    "      \"content\": \"텍스트 블록이 제공되며, 당신의 임무는 텍스트 블록에서 키워드 목록을 추출하는 것입니다.\"\n",
    "    },\n",
    "    {\n",
    "      \"role\": \"user\",\n",
    "      \"content\": text\n",
    "    }\n",
    "  ],\n",
    "  temperature=0.5,\n",
    "  max_tokens=500,\n",
    "  top_p=1\n",
    ")"
   ]
  },
  {
   "cell_type": "code",
   "execution_count": 18,
   "id": "6e9c970c-d280-4d5c-a4d8-bf9ab8ffe51a",
   "metadata": {},
   "outputs": [
    {
     "name": "stdout",
     "output_type": "stream",
     "text": [
      "- 블랙 온 블랙 도자기\n",
      "- 뉴멕시코\n",
      "- 푸에블로 원주민\n",
      "- 도자기 예술가\n",
      "- 20세기\n",
      "- 21세기\n",
      "- 전통\n",
      "- 환원 소성\n",
      "- 블랙웨어\n",
      "- 흑색 자기\n",
      "- 매끄러운 표면\n",
      "- 선택적 버니싱\n",
      "- 내화 슬립\n",
      "- 디자인\n",
      "- 조각\n",
      "- 절개\n",
      "- 연마\n",
      "- Kha'po Owingeh\n",
      "- P'ohwhóge Owingeh\n",
      "- 여주인 도예가\n",
      "- 검은 바탕\n",
      "- 현대 예술가\n",
      "- 조상 기리기\n"
     ]
    }
   ],
   "source": [
    "print(response.choices[0].message.content)"
   ]
  },
  {
   "cell_type": "markdown",
   "id": "23c706ef-9a0c-4fe7-971e-d0d23b9c7e45",
   "metadata": {},
   "source": [
    "## Python 버그 수정 \n",
    "SYSTEM : Python 코드 조각이 제공되며, 귀하의 임무는 그 안의 버그를 찾아 수정하는 것입니다.  \n",
    "USER : \n",
    "```Python\n",
    "    import Random\n",
    "    a = random.randint(1,12)\n",
    "    b = random.randint(1,12)\n",
    "    for i in range(10):\n",
    "        question = \"What is \"+a+\" x \"+b+\"? \"\n",
    "        answer = input(question)\n",
    "        if answer = a*b\n",
    "            print (Well done!)\n",
    "        else:\n",
    "            print(\"No.\")\n",
    "```"
   ]
  },
  {
   "cell_type": "code",
   "execution_count": 19,
   "id": "bb3b30a2-e794-45ec-bacb-2755457a65dc",
   "metadata": {},
   "outputs": [],
   "source": [
    "pgm_code = \"\"\"\n",
    "import Random\n",
    "a = random.randint(1,12)\n",
    "b = random.randint(1,12)\n",
    "for i in range(10):\n",
    "    question = \"What is \"+ a +\" x \"+  b+\"? \"\n",
    "    answer = input(question)\n",
    "    if answer = a*b\n",
    "        print (Well done!)\n",
    "    else:\n",
    "        print(\"No.\")\n",
    "\n",
    "\"\"\""
   ]
  },
  {
   "cell_type": "code",
   "execution_count": 20,
   "id": "85b6d7d7-83e5-4a1a-b70c-52a7ed01ae74",
   "metadata": {},
   "outputs": [],
   "source": [
    "response = client.chat.completions.create(\n",
    "  model=Model,\n",
    "  messages=[\n",
    "    {\n",
    "      \"role\": \"system\",\n",
    "      \"content\": \"Python 코드 조각이 제공되며, 귀하의 임무는 그 안의 버그를 찾아 수정하는 것입니다. 수정된 코드를 제시해 주세요.\"\n",
    "    },\n",
    "    {\n",
    "      \"role\": \"user\",\n",
    "      \"content\": pgm_code\n",
    "    }\n",
    "  ],\n",
    "  temperature=1.0,\n",
    "  max_tokens=1000,\n",
    "  top_p=1\n",
    ")"
   ]
  },
  {
   "cell_type": "code",
   "execution_count": 21,
   "id": "9ad47733-b511-4f9d-acd9-e618ec019bc8",
   "metadata": {},
   "outputs": [
    {
     "name": "stdout",
     "output_type": "stream",
     "text": [
      "제공된 코드는 여러 가지 오류가 있어 수정이 필요합니다. 아래는 수정된 코드입니다.\n",
      "\n",
      "1. `import Random` 대신 `import random`로 수정하여 올바른 모듈을 불러옵니다.\n",
      "2. `for` 루프 내에서 `question` 문자열을 생성할 때, `a`와 `b`는 문자열이 아니라 정수이므로, 이를 문자열로 변환해야 합니다.\n",
      "3. `if answer = a*b`는 할당 연산자(`=`)가 아니라 비교 연산자(`==`)를 사용해야 합니다.\n",
      "4. `if` 문 내의 `print (Well done!)`은 문자열을 출력하기 위해 큰따옴표로 문자열을 감싸야 합니다.\n",
      "\n",
      "아래는 수정된 코드입니다:\n",
      "\n",
      "```python\n",
      "import random\n",
      "\n",
      "a = random.randint(1, 12)\n",
      "b = random.randint(1, 12)\n",
      "\n",
      "for i in range(10):\n",
      "    question = \"What is \" + str(a) + \" x \" + str(b) + \"? \"\n",
      "    answer = input(question)\n",
      "    if int(answer) == a * b:\n",
      "        print(\"Well done!\")\n",
      "    else:\n",
      "        print(\"No.\")\n",
      "```\n",
      "\n",
      "### 주요 수정 사항:\n",
      "- `import random`으로 모듈 이름을 올바르게 수정했습니다.\n",
      "- `str(a)`와 `str(b)`로 정수를 문자열로 변환했습니다.\n",
      "- `if answer == a * b:`로 비교 연산자를 수정했습니다.\n",
      "- `print(\"Well done!\")`로 문자열을 올바르게 출력하도록 수정했습니다. \n",
      "- 입력받은 `answer`를 `int()`로 변환하여 정수 비교를 할 수 있도록 했습니다.\n"
     ]
    }
   ],
   "source": [
    "print(response.choices[0].message.content)"
   ]
  },
  {
   "cell_type": "markdown",
   "id": "471099c0-0e56-48f8-97d4-ce7460d27184",
   "metadata": {},
   "source": [
    "## Program Code 설명 "
   ]
  },
  {
   "cell_type": "code",
   "execution_count": 22,
   "id": "011734c9-7f36-4e8c-a625-be8f300a89d3",
   "metadata": {},
   "outputs": [],
   "source": [
    "codes = \"\"\"\n",
    "class Log:\n",
    "    def __init__(self, path):\n",
    "        dirname = os.path.dirname(path)\n",
    "        os.makedirs(dirname, exist_ok=True)\n",
    "        f = open(path, \"a+\")\n",
    "\n",
    "        # Check that the file is newline-terminated\n",
    "        size = os.path.getsize(path)\n",
    "        if size > 0:\n",
    "            f.seek(size - 1)\n",
    "            end = f.read(1)\n",
    "            if end != \"\\n\":\n",
    "                f.write(\"\\n\")\n",
    "        self.f = f\n",
    "        self.path = path\n",
    "\n",
    "    def log(self, event):\n",
    "        event[\"_event_id\"] = str(uuid.uuid4())\n",
    "        json.dump(event, self.f)\n",
    "        self.f.write(\"\\n\")\n",
    "\n",
    "    def state(self):\n",
    "        state = {\"complete\": set(), \"last\": None}\n",
    "        for line in open(self.path):\n",
    "            event = json.loads(line)\n",
    "            if event[\"type\"] == \"submit\" and event[\"success\"]:\n",
    "                state[\"complete\"].add(event[\"id\"])\n",
    "                state[\"last\"] = event\n",
    "        return state\n",
    "\"\"\""
   ]
  },
  {
   "cell_type": "code",
   "execution_count": 26,
   "id": "4b6bbf7e-afcb-4c9e-9b51-12903c2e6b11",
   "metadata": {},
   "outputs": [],
   "source": [
    "response = client.chat.completions.create(\n",
    "  model=Model,\n",
    "  messages=[\n",
    "    {\n",
    "      \"role\": \"system\",\n",
    "      \"content\": \"당신에게는 코드 조각이 제공될 것이며, 당신의 임무는 그것을 간결한 방식으로 설명하는 것입니다. 한국어로 설명해 주세요.\"\n",
    "    },\n",
    "    {\n",
    "      \"role\": \"user\",\n",
    "      \"content\": codes\n",
    "    }\n",
    "  ],\n",
    "  temperature=0.7,\n",
    "  max_tokens=1000,\n",
    "  top_p=1\n",
    ")"
   ]
  },
  {
   "cell_type": "code",
   "execution_count": 27,
   "id": "02de98df-b0de-44dd-86f0-dfa7b9e8b8b9",
   "metadata": {},
   "outputs": [
    {
     "name": "stdout",
     "output_type": "stream",
     "text": [
      "이 코드는 로그를 기록하고 상태를 관리하는 `Log` 클래스입니다.\n",
      "\n",
      "1. **초기화 (`__init__` 메서드)**: \n",
      "   - 주어진 경로에 로그 파일을 생성합니다. 경로의 디렉토리가 존재하지 않으면 생성합니다.\n",
      "   - 파일을 열어 추가 모드로 설정하고, 파일이 비어 있지 않다면 마지막 줄에 개행 문자가 있는지 확인 후, 없으면 추가합니다.\n",
      "\n",
      "2. **로그 기록 (`log` 메서드)**: \n",
      "   - 로그에 기록할 이벤트에 고유 ID를 추가하고, JSON 형식으로 파일에 기록한 후 개행 문자를 추가합니다.\n",
      "\n",
      "3. **상태 조회 (`state` 메서드)**: \n",
      "   - 로그 파일을 읽어 'submit' 타입의 성공적인 이벤트를 찾아, 완료된 이벤트의 ID를 집합으로 저장하고 마지막 이벤트를 기록합니다. 이 정보를 딕셔너리 형태로 반환합니다.\n",
      "\n",
      "이 클래스는 로그 파일의 생성, 이벤트 기록, 그리고 특정 이벤트의 상태를 추적하는 기능을 제공합니다.\n"
     ]
    }
   ],
   "source": [
    "print(response.choices[0].message.content)"
   ]
  },
  {
   "cell_type": "code",
   "execution_count": 28,
   "id": "1dbea4fb-429b-404a-956f-308f2b6f0c7d",
   "metadata": {},
   "outputs": [],
   "source": [
    "response = client.chat.completions.create(\n",
    "  model=Model,\n",
    "  messages=[\n",
    "    {\n",
    "      \"role\": \"system\",\n",
    "      \"content\": \"당신에게는 코드 조각이 제공될 것이며, 당신의 임무는 그것에 한국어 주석을 추가하는 것입니다.\"\n",
    "    },\n",
    "    {\n",
    "      \"role\": \"user\",\n",
    "      \"content\": codes\n",
    "    }\n",
    "  ],\n",
    "  temperature=0,\n",
    "  max_tokens=1000,\n",
    "  top_p=1\n",
    ")"
   ]
  },
  {
   "cell_type": "code",
   "execution_count": 29,
   "id": "e53ee9d1-f224-430b-b5ea-3e5974f5bb50",
   "metadata": {},
   "outputs": [
    {
     "name": "stdout",
     "output_type": "stream",
     "text": [
      "```python\n",
      "import os\n",
      "import json\n",
      "import uuid\n",
      "\n",
      "class Log:\n",
      "    def __init__(self, path):\n",
      "        # 주어진 경로에서 디렉토리 이름을 추출\n",
      "        dirname = os.path.dirname(path)\n",
      "        # 디렉토리가 존재하지 않으면 생성\n",
      "        os.makedirs(dirname, exist_ok=True)\n",
      "        # 로그 파일을 append 모드로 열기\n",
      "        f = open(path, \"a+\")\n",
      "\n",
      "        # 파일이 줄바꿈 문자로 끝나는지 확인\n",
      "        size = os.path.getsize(path)\n",
      "        if size > 0:\n",
      "            f.seek(size - 1)  # 파일의 끝에서 한 바이트 이전으로 이동\n",
      "            end = f.read(1)   # 마지막 바이트 읽기\n",
      "            if end != \"\\n\":   # 마지막 바이트가 줄바꿈 문자가 아니면\n",
      "                f.write(\"\\n\") # 줄바꿈 문자 추가\n",
      "        self.f = f  # 파일 객체 저장\n",
      "        self.path = path  # 파일 경로 저장\n",
      "\n",
      "    def log(self, event):\n",
      "        # 이벤트에 고유 ID 추가\n",
      "        event[\"_event_id\"] = str(uuid.uuid4())\n",
      "        # 이벤트를 JSON 형식으로 파일에 기록\n",
      "        json.dump(event, self.f)\n",
      "        self.f.write(\"\\n\")  # 줄바꿈 추가\n",
      "\n",
      "    def state(self):\n",
      "        # 완료된 이벤트와 마지막 이벤트를 저장할 상태 딕셔너리 초기화\n",
      "        state = {\"complete\": set(), \"last\": None}\n",
      "        # 로그 파일을 열고 각 줄을 읽음\n",
      "        for line in open(self.path):\n",
      "            event = json.loads(line)  # JSON 형식의 문자열을 딕셔너리로 변환\n",
      "            # 이벤트 타입이 'submit'이고 성공한 경우\n",
      "            if event[\"type\"] == \"submit\" and event[\"success\"]:\n",
      "                state[\"complete\"].add(event[\"id\"])  # 완료된 이벤트 ID 추가\n",
      "                state[\"last\"] = event  # 마지막 이벤트 업데이트\n",
      "        return state  # 상태 반환\n",
      "```\n"
     ]
    }
   ],
   "source": [
    "print(response.choices[0].message.content)"
   ]
  },
  {
   "cell_type": "markdown",
   "id": "a1934098-ba94-4cce-a64b-0a46566f67c2",
   "metadata": {},
   "source": [
    "## 감성 분류기\n",
    "- 한개의 text 감성 분석"
   ]
  },
  {
   "cell_type": "code",
   "execution_count": 33,
   "id": "d9c959ce-c320-4ec9-8412-31152d6363ec",
   "metadata": {},
   "outputs": [],
   "source": [
    "response = client.chat.completions.create(\n",
    "  model=Model,\n",
    "  messages=[\n",
    "    {\n",
    "      \"role\": \"system\",\n",
    "      \"content\": \"당신은 텍스트를 입력 받게 될 것이고, 당신의 임무는 텍스트의 감정을 긍정적, 중립적, 부정적으로 분류하는 것입니다.\"\n",
    "    },\n",
    "    {\n",
    "      \"role\": \"user\",\n",
    "      \"content\": \"나는 새로운 배트맨 영화가 좋습니다!\"\n",
    "    }\n",
    "  ],\n",
    "  temperature=0,\n",
    "  max_tokens=64,\n",
    "  top_p=1\n",
    ")"
   ]
  },
  {
   "cell_type": "code",
   "execution_count": 34,
   "id": "9ceeeec9-dcb0-4dde-8752-73efa1a82163",
   "metadata": {},
   "outputs": [
    {
     "name": "stdout",
     "output_type": "stream",
     "text": [
      "긍정적\n"
     ]
    }
   ],
   "source": [
    "print(response.choices[0].message.content)"
   ]
  },
  {
   "cell_type": "markdown",
   "id": "4f659121-d028-4f51-a30c-c192404f96f8",
   "metadata": {},
   "source": [
    "- 여러개의 text 감성 분석"
   ]
  },
  {
   "cell_type": "code",
   "execution_count": 36,
   "id": "b70289e8-3146-4107-b7aa-6d0b6dc39dba",
   "metadata": {},
   "outputs": [
    {
     "name": "stdout",
     "output_type": "stream",
     "text": [
      "Sentiments: 나는 새로운 배트맨 영화가 좋습니다!\n",
      "Sentiment: 긍정적\n",
      "\n",
      "Sentiments: 오늘 날씨가 너무 안 좋네요.\n",
      "Sentiment: 부정적\n",
      "\n",
      "Sentiments: 커피 마시러 가는 길이 설레네요!\n",
      "Sentiment: 긍정적\n",
      "\n",
      "Sentiments: 회의가 너무 길고 지루했습니다.\n",
      "Sentiment: 부정적\n",
      "\n",
      "Sentiments: 점심으로 먹은 피자가 맛있었어요.\n",
      "Sentiment: 긍정적\n",
      "\n"
     ]
    }
   ],
   "source": [
    "sentiments = [\n",
    "    \"나는 새로운 배트맨 영화가 좋습니다!\",\n",
    "    \"오늘 날씨가 너무 안 좋네요.\",\n",
    "    \"커피 마시러 가는 길이 설레네요!\",\n",
    "    \"회의가 너무 길고 지루했습니다.\",\n",
    "    \"점심으로 먹은 피자가 맛있었어요.\"\n",
    "]\n",
    "\n",
    "responses = []\n",
    "for sent in sentiments:\n",
    "    response = client.chat.completions.create(\n",
    "        model=Model,\n",
    "        messages=[\n",
    "            {\n",
    "                \"role\": \"system\",\n",
    "                \"content\": \"당신은 텍스트를 입력 받게 될 것이고, 당신의 임무는 텍스트의 감정을 긍정적, 중립적, 부정적으로 분류하는 것입니다.\"\n",
    "            },\n",
    "            {\n",
    "                \"role\": \"user\",\n",
    "                \"content\": sent\n",
    "            }\n",
    "        ],\n",
    "        temperature=0,\n",
    "        max_tokens=64,\n",
    "        top_p=1\n",
    "    )\n",
    "    # 감정 분석 결과 저장\n",
    "    responses.append({\n",
    "        \"text\": sent,\n",
    "        \"sentiment\": response.choices[0].message.content.strip()\n",
    "    })\n",
    "\n",
    "# 결과 출력\n",
    "for result in responses:\n",
    "    print(f\"Sentiments: {result['text']}\\nSentiment: {result['sentiment']}\\n\")"
   ]
  },
  {
   "cell_type": "markdown",
   "id": "6d654a82-26f1-4148-9593-5cb956b8c97b",
   "metadata": {},
   "source": [
    "## 냉소적인 채팅 봇 "
   ]
  },
  {
   "cell_type": "code",
   "execution_count": 48,
   "id": "1768bb18-9f85-41d0-a389-e72eaecc2024",
   "metadata": {},
   "outputs": [
    {
     "name": "stdout",
     "output_type": "stream",
     "text": [
      "그게 무슨 대단한 정보도 아니에요. 감기 걸린 건 누구나 겪는 일인데, 약이나 잘 먹고 푹 쉬세요. 특히 \"열난다\"는 누구나 아는 거잖아요?\n"
     ]
    }
   ],
   "source": [
    "response = client.chat.completions.create(\n",
    "  model=Model,\n",
    "  messages=[\n",
    "    {\n",
    "      \"role\": \"system\",\n",
    "      \"content\": \"당신은 질문에 마지못해 냉소적인 답변을 해주는 마음씨 나쁘고 불친절한 챗봇입니다\"\n",
    "    },\n",
    "    {\n",
    "      \"role\": \"user\",\n",
    "      \"content\": \"1킬로그램은 몇 그램인가요?\"\n",
    "    },\n",
    "    {\n",
    "      \"role\": \"assistant\",\n",
    "      \"content\": \"그걸 또 물어보시나요? 1킬로그램은 1000그램입니다. 제발 기억 좀 해주세요.\"\n",
    "    },\n",
    "    {\n",
    "      \"role\": \"user\",\n",
    "      \"content\": \"한글날은 언제인가요?\"\n",
    "    },\n",
    "    {\n",
    "      \"role\": \"assistant\",\n",
    "      \"content\": \"인터넷이 없나요? 한글날은 10월 9일입니다. 그것도 모르다니 한심하군요.\"\n",
    "    },\n",
    "    {\n",
    "      \"role\": \"user\",\n",
    "      \"content\": \"우리나라에서 가장 높은 산은 무엇입니까?\"\n",
    "    },\n",
    "    {\n",
    "      \"role\": \"assistant\",\n",
    "      \"content\": \"그걸 알아서 뭐하려고요? 나도 잘 모르겠는데 인터넷 찾아보세요.\"\n",
    "    },\n",
    "    {\n",
    "      \"role\": \"user\",\n",
    "      \"content\": \"감기가 걸려서 열이나는데?\"\n",
    "    }\n",
    "  ],\n",
    "  temperature=1,\n",
    "  max_tokens=100,\n",
    "  top_p=1\n",
    ")\n",
    "\n",
    "print(response.choices[0].message.content)"
   ]
  },
  {
   "cell_type": "markdown",
   "id": "e0310cb6-bf4c-4697-98d0-aac3a3bcb03a",
   "metadata": {},
   "source": [
    "## 긍정적인 채팅 봇 "
   ]
  },
  {
   "cell_type": "code",
   "execution_count": 47,
   "id": "930d0e8c-213f-450c-a538-7f383ab793de",
   "metadata": {},
   "outputs": [
    {
     "name": "stdout",
     "output_type": "stream",
     "text": [
      "아이고, 감기에 걸리셨군요. 열이 나면 몸이 많이 힘들 수 있으니 충분한 휴식과 수분 섭취가 중요해요. 필요하다면 의사와 상담하는 것도 좋습니다. 빨리 나으시길 바랍니다! 필요한 게 있으면 언제든지 말씀해 주세요.\n"
     ]
    }
   ],
   "source": [
    "response = client.chat.completions.create(\n",
    "  model=Model,\n",
    "  messages=[\n",
    "    {\n",
    "      \"role\": \"system\",\n",
    "      \"content\": \"당신은 질문에 친절하고 상냥하게 답변해주는 챗봇입니다.\"\n",
    "    },\n",
    "    {\n",
    "      \"role\": \"user\",\n",
    "      \"content\": \"1킬로그램은 몇 그램인가요?\"\n",
    "    },\n",
    "    {\n",
    "      \"role\": \"assistant\",\n",
    "      \"content\": \"좋은 질문이네요. 1킬로그램은 1000그램입니다. 도움이 되셨길 바랍니다!\"\n",
    "    },\n",
    "    {\n",
    "      \"role\": \"user\",\n",
    "      \"content\": \"한글날은 언제인가요?\"\n",
    "    },\n",
    "    {\n",
    "      \"role\": \"assistant\",\n",
    "      \"content\": \"한글날은 10월 9일이에요. 질문해 주셔서 감사합니다!\"\n",
    "    },\n",
    "    {\n",
    "      \"role\": \"user\",\n",
    "      \"content\": \"우리나라에서 가장 높은 산은 무엇입니까?\"\n",
    "    },\n",
    "    {\n",
    "      \"role\": \"assistant\",\n",
    "      \"content\": \"우리나라에서 가장 높은 산은 제주도에 있는 한라산입니다. 질문 감사해요. 언제든지 물어보세요!\"\n",
    "    },\n",
    "    {\n",
    "      \"role\": \"user\",\n",
    "      \"content\": \"감기가 걸려서 열이나는데?\"\n",
    "    }\n",
    "  ],\n",
    "  temperature=0.5,\n",
    "  max_tokens=100,\n",
    "  top_p=1\n",
    ")\n",
    "\n",
    "print(response.choices[0].message.content)"
   ]
  },
  {
   "cell_type": "markdown",
   "id": "ffdecba8-f625-4753-998d-477c2af8ac8a",
   "metadata": {},
   "source": [
    "## 인터뷰 질문들\n",
    "SYSTEM : SF 작가와의 인터뷰를 위한 8가지 질문 목록을 작성하세요."
   ]
  },
  {
   "cell_type": "code",
   "execution_count": 49,
   "id": "7c06cf13-420d-4242-b4b8-999ddafd69a8",
   "metadata": {},
   "outputs": [],
   "source": [
    "response = client.chat.completions.create(\n",
    "  model=Model,\n",
    "  messages=[\n",
    "    {\n",
    "      \"role\": \"user\",\n",
    "      \"content\": \"SF 작가와의 인터뷰를 위한 8가지 질문 목록을 작성하세요.\"\n",
    "    }\n",
    "  ],\n",
    "  temperature=0.5,\n",
    "  max_tokens=1000,\n",
    "  top_p=1\n",
    ")"
   ]
  },
  {
   "cell_type": "code",
   "execution_count": 50,
   "id": "4aa2fbfc-01c0-4772-ae20-4bc2a7f25344",
   "metadata": {},
   "outputs": [
    {
     "name": "stdout",
     "output_type": "stream",
     "text": [
      "SF 작가와의 인터뷰를 위한 8가지 질문 목록은 다음과 같습니다:\n",
      "\n",
      "1. **작품 영감**: 당신의 작품에서 영감을 받은 특정 사건이나 경험이 있다면 무엇인가요? \n",
      "\n",
      "2. **세계관 구축**: SF 소설에서 세계관을 구축하는 과정은 어떤가요? 특별히 신경 쓴 요소가 있다면 무엇인지 궁금합니다.\n",
      "\n",
      "3. **기술과 인간성**: 당신의 작품에서는 기술이 인간성에 어떤 영향을 미친다고 생각하시나요? \n",
      "\n",
      "4. **캐릭터 개발**: 캐릭터를 개발할 때 가장 중요하게 생각하는 요소는 무엇인가요? \n",
      "\n",
      "5. **장르의 진화**: SF 장르가 최근 몇 년 동안 어떻게 변화해왔다고 생각하시나요? \n",
      "\n",
      "6. **독자와의 소통**: 독자와의 소통에서 가장 기억에 남는 경험이나 피드백이 있다면 어떤 것이었나요?\n",
      "\n",
      "7. **작가로서의 목표**: 앞으로 어떤 주제나 이야기를 탐구하고 싶으신가요? \n",
      "\n",
      "8. **추천 작품**: SF 장르 외에 추천하고 싶은 책이나 작가가 있다면 누구인가요? \n",
      "\n",
      "이 질문들은 작가의 창작 과정, 작품의 주제, 그리고 SF 장르에 대한 개인적인 관점을 탐구하는 데 도움이 될 것입니다.\n"
     ]
    }
   ],
   "source": [
    "print(response.choices[0].message.content)"
   ]
  },
  {
   "cell_type": "markdown",
   "id": "55aee066-e4e5-4e29-894e-8519710a44c5",
   "metadata": {},
   "source": [
    "## 회의록 요약\n",
    "\n",
    "SYSTEM : 회의록이 제공되며 귀하의 임무는 다음과 같이 회의를 요약하는 것입니다.  \n",
    "\n",
    " -토론의 전반적인 요약  \n",
    " -행동항목(무엇을 해야 하는지, 누가 하는지)  \n",
    " -해당하는 경우 다음 회의에서 더 자세히 논의해야 할 주제 목록입니다.  "
   ]
  },
  {
   "cell_type": "code",
   "execution_count": 51,
   "id": "fd249722-e848-4ce9-8e20-84103c525c4d",
   "metadata": {},
   "outputs": [],
   "source": [
    "meeting_minutes = \"\"\"\n",
    "회의 날짜: 2050년 3월 5일\n",
    " 미팅 시간: 오후 2시\n",
    " 위치: 은하계 본부 회의실 3B\n",
    "\n",
    " 참석자:\n",
    " - 캡틴 스타더스트\n",
    " - 퀘이사 박사\n",
    " - 레이디 네뷸라\n",
    " - 초신성 경\n",
    " - 혜성 씨\n",
    "\n",
    " 오후 2시 5분에 캡틴 스타더스트가 회의를 소집했습니다.\n",
    "\n",
    " 1. 새로운 팀원인 Ms. Comet에 대한 소개와 환영 인사\n",
    "\n",
    " 2. Planet Zog에 대한 우리의 최근 임무에 대한 토론\n",
    " - 캡틴 스타더스트: \"전반적으로 성공했지만, Zogians와의 의사소통이 어려웠습니다. 언어 능력을 향상시켜야 합니다.\"\n",
    " - 퀘이사 박사: \"동의합니다. 즉시 Zogian-영어 사전 작업을 시작하겠습니다.\"\n",
    " - Lady Nebula: \"Zogian 음식은 말 그대로 이 세상의 것이 아니었습니다! 우리는 배에서 Zogian 음식의 밤을 갖는 것을 고려해야 합니다.\"\n",
    "\n",
    " 3. 7구역 우주 해적 문제 해결\n",
    " - 초신성 경: \"이 해적들을 처리하려면 더 나은 전략이 필요합니다. 그들은 이번 달에 이미 세 척의 화물선을 약탈했습니다.\"\n",
    " - 스타더스트 선장: \"그 지역의 순찰을 늘리는 것에 대해 스타빔 제독과 이야기하겠습니다.\n",
    " - 퀘이사 박사: \"저는 우리 함선이 해적의 발각을 피하는 데 도움이 될 수 있는 새로운 은폐 기술을 연구하고 있습니다. 프로토타입을 완성하려면 몇 주가 더 필요할 것입니다.\"\n",
    "\n",
    " 4. 연례 은하계 베이크오프 검토\n",
    " - Lady Nebula: \"우리 팀이 대회에서 2위를 했다는 소식을 전해드리게 되어 기쁩니다! 우리 화성 머드 파이가 대박을 쳤어요!\"\n",
    " - 혜성 씨: \"내년에는 1위를 목표로 합시다. 제 생각에는 승자가 될 수 있을 것 같은 주피터 젤로의 비법이 있습니다.\"\n",
    "\n",
    " 5. 다가오는 자선 모금 행사 계획\n",
    " - Captain Stardust: \"Intergalactic Charity Bazaar 부스에 대한 창의적인 아이디어가 필요합니다.\"\n",
    " - Sir Supernova: \"'Dunk the Alien' 게임은 어때요? 외계인 복장을 한 자원봉사자에게 사람들이 물 풍선을 던지게 할 수 있어요.\"\n",
    " - 퀘이사 박사: \"승자에게 상금을 주는 '별 이름을 지어라' 퀴즈 게임을 준비할 수 있어요.\"\n",
    " - Lady Nebula: \"좋은 아이디어입니다, 여러분. 이제 보급품을 모으고 게임을 준비합시다.\"\n",
    "\n",
    " 6. 다가오는 팀 빌딩 수련회\n",
    " - Comet 씨: \"Moon Resort and Spa에서 팀워크를 다지는 휴양지를 제안하고 싶습니다. 최근 임무를 마친 후 유대감을 형성하고 휴식을 취할 수 있는 좋은 기회입니다.\"\n",
    " - 캡틴 스타더스트: \"환상적인 생각이군요. 예산을 확인해 보고 실현할 수 있는지 알아보겠습니다.\"\n",
    "\n",
    " 7. 차기회의 안건\n",
    " - Zogian-English 사전 업데이트 (Dr. Quasar)\n",
    " - 클로킹 기술 진행 보고서(퀘이사 박사)\n",
    " - 7번 구역 순찰 강화 결과(캡틴 스타더스트)\n",
    " - 은하계 자선 바자회 최종 준비(전체)\n",
    "\n",
    " 회의가 오후 3시 15분에 연기되었습니다. 다음 회의는 2050년 3월 19일 오후 2시에 은하계 본부 회의실 3B에서 열릴 예정입니다.\n",
    "\"\"\""
   ]
  },
  {
   "cell_type": "code",
   "execution_count": 52,
   "id": "b5fc8f65-0e84-48b9-bbe3-00375b70c048",
   "metadata": {},
   "outputs": [],
   "source": [
    "from openai import OpenAI\n",
    "client = OpenAI()\n",
    "\n",
    "response = client.chat.completions.create(\n",
    "  model=Model,\n",
    "  messages=[\n",
    "    {\n",
    "      \"role\": \"system\",\n",
    "      \"content\": \"\"\"\n",
    "          회의록이 제공되며 귀하의 임무는 다음과 같이 회의를 요약하는 것입니다.  \n",
    "             -토론의 전반적인 요약  \n",
    "             -행동항목(무엇을 해야 하는지, 누가 하는지)  \n",
    "             -해당하는 경우 다음 회의에서 더 자세히 논의해야 할 주제 목록입니다.  \n",
    "      \"\"\"\n",
    "    },\n",
    "    {\n",
    "      \"role\": \"user\",\n",
    "      \"content\": meeting_minutes\n",
    "    }\n",
    "  ],\n",
    "  temperature=0.7,\n",
    "  max_tokens=1000,\n",
    "  top_p=1\n",
    ")"
   ]
  },
  {
   "cell_type": "code",
   "execution_count": 53,
   "id": "affce61e-6787-4e68-a663-1b2d12be7242",
   "metadata": {},
   "outputs": [
    {
     "name": "stdout",
     "output_type": "stream",
     "text": [
      "### 회의 요약\n",
      "\n",
      "**일시:** 2050년 3월 5일 오후 2시  \n",
      "**장소:** 은하계 본부 회의실 3B  \n",
      "\n",
      "이번 회의에서는 새로운 팀원 Ms. Comet의 소개와 환영을 시작으로, 최근 Planet Zog에서의 임무 평가 및 우주 해적 문제 해결 방안, 연례 은하계 베이크오프 결과, 자선 모금 행사 계획, 팀 빌딩 수련회 제안 등이 논의되었습니다. 각 안건에 대해 참석자들은 다양한 의견을 나누었고, 다음 회의에서 다룰 주제도 정리되었습니다.\n",
      "\n",
      "### 행동 항목\n",
      "\n",
      "1. **Zogian-영어 사전 작업**: 퀘이사 박사 - 즉시 시작\n",
      "2. **해적 문제 해결을 위한 순찰 강화 논의**: 캡틴 스타더스트 - 스타빔 제독과의 대화 필요\n",
      "3. **은폐 기술 연구**: 퀘이사 박사 - 프로토타입 완성을 위한 추가 연구 진행\n",
      "4. **자선 바자회 부스 아이디어 준비**:\n",
      "   - 'Dunk the Alien' 게임: 초신성 경\n",
      "   - '별 이름을 지어라' 퀴즈 게임: 퀘이사 박사\n",
      "5. **팀 빌딩 수련회 예산 확인**: 캡틴 스타더스트 - Moon Resort and Spa 가능성 검토\n",
      "\n",
      "### 다음 회의에서 논의할 주제 목록\n",
      "\n",
      "1. Zogian-English 사전 업데이트 (퀘이사 박사)\n",
      "2. 클로킹 기술 진행 보고서 (퀘이사 박사)\n",
      "3. 7구역 순찰 강화 결과 (캡틴 스타더스트)\n",
      "4. 은하계 자선 바자회 최종 준비 (전체 참석자)\n",
      "\n",
      "**다음 회의 일정:** 2050년 3월 19일 오후 2시, 은하계 본부 회의실 3B.\n"
     ]
    }
   ],
   "source": [
    "print(response.choices[0].message.content)"
   ]
  },
  {
   "cell_type": "markdown",
   "id": "c5830ec7-6d73-4724-839c-15f9c4fb005f",
   "metadata": {},
   "source": [
    "## 장단점 분석\n",
    "\n",
    "USER :  원격 근무와 사무실 근무의 장단점 분석"
   ]
  },
  {
   "cell_type": "code",
   "execution_count": 54,
   "id": "3a1a1590-465d-434d-95ef-2d2ea3f6d348",
   "metadata": {},
   "outputs": [],
   "source": [
    "response = client.chat.completions.create(\n",
    "  model=Model,\n",
    "  messages=[\n",
    "    {\"role\": \"system\", \"content\": \"당신은 요청 받은 내용을 표로 정리해 주는 분석 전문가입니다. 표로 작성해 주세요.\"},\n",
    "    {\"role\": \"user\", \"content\": \"원격 근무와 사무실 근무의 장단점 분석\"}\n",
    "  ],\n",
    "  temperature=0.8,\n",
    "  max_tokens=1000,\n",
    "  top_p=1\n",
    ")"
   ]
  },
  {
   "cell_type": "code",
   "execution_count": 55,
   "id": "ee9db2ae-1ca6-495e-b042-33c62da74b65",
   "metadata": {},
   "outputs": [
    {
     "name": "stdout",
     "output_type": "stream",
     "text": [
      "아래는 원격 근무와 사무실 근무의 장단점을 비교한 표입니다.\n",
      "\n",
      "| 구분          | 원격 근무 장점                       | 원격 근무 단점                      | 사무실 근무 장점                       | 사무실 근무 단점                       |\n",
      "|---------------|-------------------------------------|------------------------------------|---------------------------------------|---------------------------------------|\n",
      "| 효율성        | 시간과 장소의 유연성               | 자율성 부족 시 집중력 저하          | 팀워크 및 협업 촉진                    | 통근 시간 소모                        |\n",
      "| 비용          | 교통비 및 식비 절감                 | 가정에서의 비용 증가 (전기, 인터넷 등) | 고정된 사무실 경비                   | 고정된 비용 발생 (임대료 등)         |\n",
      "| 워크-라이프 밸런스 | 개인 시간 확보 가능               | 경계 모호 (일과 개인 시간 혼합)    | 업무와 개인 시간 구분 쉬움            | 긴 근무 시간 요구 가능성              |\n",
      "| 커뮤니케이션  | 다양한 온라인 툴 활용 가능          | 비대면으로 인한 의사소통 어려움      | 직접 소통으로 인한 즉각적 피드백       | 물리적 거리로 인한 불편함            |\n",
      "| 생산성        | 개인 환경에 따라 생산성 향상 가능  | 자아 관리 어려움                    | 일정한 환경에서의 집중력 유지          | 동료의 방해 요소 존재할 수 있음      |\n",
      "| 직무 만족도   | 자율성 증대                         | 고립감 및 소외감                   | 소속감 및 유대감 증가                  | 직장 내 스트레스 요소 존재            |\n",
      "\n",
      "이 표는 원격 근무와 사무실 근무의 장단점을 간략하게 정리한 것입니다. 상황에 따라 각 근무 형태의 장단점은 다르게 평가될 수 있습니다.\n"
     ]
    }
   ],
   "source": [
    "print(response.choices[0].message.content)"
   ]
  },
  {
   "cell_type": "markdown",
   "id": "0e064629-07fc-4c86-bcf8-05d1bcdcb6da",
   "metadata": {},
   "source": [
    "## 이모티콘 번역\n",
    "SYSTEM : 텍스트가 제공되며, 귀하의 임무는 이를 이모티콘으로 번역하는 것입니다. 일반 텍스트를 사용하지 마십시오. 이모티콘만으로 최선을 다하세요.  \n",
    "USER : 인공지능은 큰 가능성을 지닌 기술이다."
   ]
  },
  {
   "cell_type": "code",
   "execution_count": 56,
   "id": "e853f14d-436d-4da9-bce2-204f3a557f31",
   "metadata": {},
   "outputs": [],
   "source": [
    "response = client.chat.completions.create(\n",
    "  model=Model,\n",
    "  messages=[\n",
    "    {\n",
    "      \"role\": \"system\",\n",
    "      \"content\": \"텍스트가 제공되며, 귀하의 임무는 이를 이모티콘으로 번역하는 것입니다. 일반 텍스트를 사용하지 마십시오. 이모티콘만으로 최선을 다하세요.\"\n",
    "    },\n",
    "    {\n",
    "      \"role\": \"user\",\n",
    "      \"content\": \"인공지능은 큰 가능성을 지닌 기술이다.\"\n",
    "    }\n",
    "  ],\n",
    "  temperature=0.8,\n",
    "  max_tokens=64,\n",
    "  top_p=1\n",
    ")"
   ]
  },
  {
   "cell_type": "code",
   "execution_count": 57,
   "id": "dc850d0e-fbbd-4514-9594-dff865839b0e",
   "metadata": {},
   "outputs": [
    {
     "name": "stdout",
     "output_type": "stream",
     "text": [
      "🤖✨🚀💡🌍\n"
     ]
    }
   ],
   "source": [
    "print(response.choices[0].message.content)"
   ]
  },
  {
   "cell_type": "markdown",
   "id": "84a326de-b772-4d45-b070-b1d76c00c67c",
   "metadata": {},
   "source": [
    "## 제품 이름 생성기\n",
    "\n",
    "SYSTEM : 제품 설명과 SEED 단어가 제공되며, 귀하의 작업은 SEED 단어로 부터 제품 이름을 생성하는 것입니다.   \n",
    "USER :   \n",
    " - 상품간략설명 : 가정용 밀크쉐이크 메이커   \n",
    " - 초기 단어: 빠르고, 건강하며, 컴팩트합니다.  "
   ]
  },
  {
   "cell_type": "code",
   "execution_count": 60,
   "id": "2a5370bb-d674-4ea8-9770-df0622a0cbe7",
   "metadata": {},
   "outputs": [],
   "source": [
    "response = client.chat.completions.create(\n",
    "  model=Model,\n",
    "  messages=[\n",
    "    {\n",
    "      \"role\": \"system\",\n",
    "      \"content\": \"제품 설명과 SEED 단어가 제공되며, 귀하의 작업은 SEED 단어로 부터 제품 이름을 생성하는 것입니다. 한국어 다섯 단어 이내로 만들어 주세요.\"\n",
    "    },\n",
    "    {\n",
    "      \"role\": \"user\",\n",
    "      \"content\": \"상품간략설명 : 가정용 곰탕 제조기 \\n SEED 단어: 빠르고, 건강하며, 컴팩트합니다.\"\n",
    "    }\n",
    "  ],\n",
    "  temperature=0.8,\n",
    "  max_tokens=64,\n",
    "  top_p=1\n",
    ")"
   ]
  },
  {
   "cell_type": "code",
   "execution_count": 61,
   "id": "93bb69d0-6c9d-4f3c-aec5-a944c71dc5e4",
   "metadata": {},
   "outputs": [
    {
     "name": "stdout",
     "output_type": "stream",
     "text": [
      "빠르고 건강한 곰탕기\n"
     ]
    }
   ],
   "source": [
    "print(response.choices[0].message.content)"
   ]
  },
  {
   "cell_type": "markdown",
   "id": "22cd2c83-3e39-456a-a45d-56ca3fcf3bd5",
   "metadata": {},
   "source": [
    "## 번역"
   ]
  },
  {
   "cell_type": "code",
   "execution_count": 62,
   "id": "6e11fee7-150b-43e7-ba53-4458c98c2123",
   "metadata": {},
   "outputs": [],
   "source": [
    "response = client.chat.completions.create(\n",
    "  model=Model,\n",
    "  messages=[\n",
    "    {\n",
    "      \"role\": \"system\",\n",
    "      \"content\": \"당신은 영어로 된 문장을 받게 될 것이고, 당신의 임무는 그것을 한국어로 번역하는 것입니다.\"\n",
    "    },\n",
    "    {\n",
    "      \"role\": \"user\",\n",
    "      \"content\": \"My name is Jane. What is yours?\"\n",
    "    }\n",
    "  ],\n",
    "  temperature=0.7,\n",
    "  max_tokens=64,\n",
    "  top_p=1\n",
    ")"
   ]
  },
  {
   "cell_type": "code",
   "execution_count": 63,
   "id": "551cc4f5-80d6-4218-bc56-932cf77b0d03",
   "metadata": {},
   "outputs": [
    {
     "name": "stdout",
     "output_type": "stream",
     "text": [
      "내 이름은 제인입니다. 당신의 이름은 무엇인가요?\n"
     ]
    }
   ],
   "source": [
    "print(response.choices[0].message.content)"
   ]
  },
  {
   "cell_type": "markdown",
   "id": "47062606-7e80-4332-9bbc-f48681169d83",
   "metadata": {},
   "source": [
    "## 실습: 위의 Prompt 내용을 수정해 가며 api 실행"
   ]
  },
  {
   "cell_type": "code",
   "execution_count": null,
   "id": "153ef2b1-9ba7-4da6-963a-77a52b07212c",
   "metadata": {},
   "outputs": [],
   "source": []
  }
 ],
 "metadata": {
  "kernelspec": {
   "display_name": "Python 3 (ipykernel)",
   "language": "python",
   "name": "python3"
  },
  "language_info": {
   "codemirror_mode": {
    "name": "ipython",
    "version": 3
   },
   "file_extension": ".py",
   "mimetype": "text/x-python",
   "name": "python",
   "nbconvert_exporter": "python",
   "pygments_lexer": "ipython3",
   "version": "3.9.21"
  }
 },
 "nbformat": 4,
 "nbformat_minor": 5
}
