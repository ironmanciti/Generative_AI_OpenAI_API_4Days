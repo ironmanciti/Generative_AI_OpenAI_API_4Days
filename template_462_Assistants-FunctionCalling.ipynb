{
 "cells": [
  {
   "cell_type": "markdown",
   "id": "e0619d6b-69f6-4f0a-91fa-85eebe422e45",
   "metadata": {},
   "source": [
    "# Assistants API - Function Calling(함수 호출)\n",
    "\n",
    "함수 호출을 사용하면 Assistants API에 함수를 설명하고 인수와 함께 호출해야 하는 함수를 지능적으로 반환하도록 할 수 있습니다.\n",
    "\n",
    "이 예에서는 날씨 assistant를 만들고 assistant가 호출할 수 있는 도구로 `get_current_temp`, `get_rain_probability` 함수를 정의합니다. 사용자 쿼리에 따라 모델은 2023년 11월 6일 이후에 출시된 최신 모델을 사용하는 경우 병렬 함수 호출을 호출합니다. 병렬 함수 호출을 사용하는 예시에서는 assistant에게 오늘 특정 도시의 날씨가 어떨지와 비가 올 확률을 물어봅니다. 스트리밍으로 어시스턴트의 응답을 출력하는 방법도 보여줍니다.\n"
   ]
  },
  {
   "cell_type": "code",
   "execution_count": null,
   "id": "3581d97a",
   "metadata": {},
   "outputs": [],
   "source": []
  },
  {
   "cell_type": "code",
   "execution_count": null,
   "id": "17e0c5a4",
   "metadata": {},
   "outputs": [],
   "source": []
  },
  {
   "cell_type": "markdown",
   "id": "c1203d8d-8661-409d-bb54-bbf32979494e",
   "metadata": {},
   "source": [
    "### 1단계: 함수 정의\n",
    "어시스턴트를 생성할 때 먼저 어시스턴트의 tools 매개변수 아래에 기능을 정의합니다."
   ]
  },
  {
   "cell_type": "code",
   "execution_count": null,
   "id": "2f648bde",
   "metadata": {},
   "outputs": [],
   "source": [
    "#!pip install -U yfinance"
   ]
  },
  {
   "cell_type": "code",
   "execution_count": null,
   "id": "824e4835",
   "metadata": {},
   "outputs": [],
   "source": []
  },
  {
   "cell_type": "markdown",
   "id": "4f7b82b3-d4a8-4c71-87bd-42fcd18383f6",
   "metadata": {},
   "source": [
    "### 2단계: 스레드 생성 및 메시지 추가\n",
    "사용자가 대화를 시작할 때 스레드를 생성하고 사용자가 질문을 하면 스레드에 메시지를 추가합니다."
   ]
  },
  {
   "cell_type": "code",
   "execution_count": null,
   "id": "2410c64a",
   "metadata": {},
   "outputs": [],
   "source": []
  },
  {
   "cell_type": "markdown",
   "id": "be50703a-ade6-40d7-b8ae-41e6316f8ab9",
   "metadata": {},
   "source": [
    "### 3단계: 실행 시작\n",
    "하나 이상의 기능을 트리거하는 사용자 메시지가 포함된 스레드에서 Run을 시작하면 Run이 `pending` 상태로 들어갑니다. 처리가 끝난 후 Run은 Run의 상태를 확인할 수 있는 `require_action` 상태로 전환됩니다. 이는 Run 실행을 계속하려면 도구(tools)를 실행하고 해당 출력을 Assistant에 제출해야 함을 나타냅니다. 우리 예의 경우에는 사용자 쿼리로 인해 병렬 함수 호출이 발생했음을 나타내는 두 개의 tool_call이 표시됩니다."
   ]
  },
  {
   "cell_type": "markdown",
   "id": "0a20afa0-a97c-43a9-b469-5be9f2bfe8ef",
   "metadata": {},
   "source": [
    "실행(Runs)은 비동기적으로 이루어지므로, 실행 객체(Run object)를 폴링하여 최종 상태에 도달할 때까지 상태를 모니터링해야 합니다. 편리함을 위해 'create_and_poll' SDK helper는 실행을 생성하고 완료될 때까지 폴링하는 작업을 도와줍니다. 실행이 완료되면 어시스턴트가 스레드에 추가한 메시지를 나열할 수 있습니다. 마지막으로, required_action에서 모든 도구 출력을 가져와 'submit_tool_outputs_and_poll' helper에 한 번에 제출하면 됩니다."
   ]
  },
  {
   "cell_type": "code",
   "execution_count": null,
   "id": "42500fd4",
   "metadata": {},
   "outputs": [],
   "source": [
    "# 스레드 실행을 생성하고 결과를 폴링\n",
    "# 실행 상태가 완료되었는지 확인\n",
    "  # 실행된 스레드의 메시지를 가져옴\n",
    "  # 실행 상태를 출력"
   ]
  },
  {
   "cell_type": "code",
   "execution_count": null,
   "id": "df2b1968",
   "metadata": {},
   "outputs": [],
   "source": [
    "# 외부 함수 호출 필요 목록"
   ]
  },
  {
   "cell_type": "code",
   "execution_count": null,
   "id": "d26337fd",
   "metadata": {},
   "outputs": [],
   "source": [
    "# assistants 가 생성한 함수 호출에 필요한 parameter"
   ]
  },
  {
   "cell_type": "code",
   "execution_count": null,
   "id": "8ad32241",
   "metadata": {},
   "outputs": [],
   "source": [
    "# string을 dictionary로 변환"
   ]
  },
  {
   "cell_type": "code",
   "execution_count": null,
   "id": "2758c8a9",
   "metadata": {},
   "outputs": [],
   "source": [
    "# 도구 출력을 저장할 리스트를 정의\n",
    "# 필요한 작업 섹션의 각 도구를 순회\n",
    "  # 도구 이름에 따라 출력 값을 추가"
   ]
  },
  {
   "cell_type": "code",
   "execution_count": null,
   "id": "9da032b0",
   "metadata": {},
   "outputs": [],
   "source": [
    "# 도구 출력이 있는 경우 submit_tool_outputs_and_poll 이용\n",
    "    # 도구 출력이 성공적으로 제출되었음을 출력\n",
    "    # 도구 출력 제출 실패 메시지 출력\n",
    "  # 제출할 도구 출력이 없음을 출력\n",
    "# 실행 상태가 완료되었는지 다시 확인\n",
    "  # 실행된 스레드의 메시지를 가져옴\n",
    "  # 실행 상태를 출력"
   ]
  },
  {
   "cell_type": "code",
   "execution_count": null,
   "id": "faeb5ace",
   "metadata": {},
   "outputs": [],
   "source": []
  },
  {
   "cell_type": "markdown",
   "id": "17f83b53-b1b0-4020-8711-69a5a998128c",
   "metadata": {},
   "source": [
    "### Thread에 새로운 message 추가 및 Run 생성"
   ]
  },
  {
   "cell_type": "code",
   "execution_count": null,
   "id": "2dc14c9e",
   "metadata": {},
   "outputs": [],
   "source": []
  },
  {
   "cell_type": "code",
   "execution_count": null,
   "id": "9ef69084",
   "metadata": {},
   "outputs": [],
   "source": [
    "# 스레드 실행을 생성하고 결과를 폴링\n",
    "# 실행 상태가 완료되었는지 확인\n",
    "  # 실행된 스레드의 메시지를 가져옴\n",
    "  # 실행 상태를 출력"
   ]
  },
  {
   "cell_type": "code",
   "execution_count": null,
   "id": "5b72b2db",
   "metadata": {},
   "outputs": [],
   "source": []
  },
  {
   "cell_type": "code",
   "execution_count": null,
   "id": "0aae0ccb",
   "metadata": {},
   "outputs": [],
   "source": [
    "# messages 객체의 데이터에서 role과 content 값을 추출하여 리스트에 저장\n",
    "# 추출한 값들을 출력"
   ]
  },
  {
   "cell_type": "markdown",
   "id": "3a97d2a6-010b-4ef1-8adc-5a82f1164ada",
   "metadata": {},
   "source": [
    "## 실습 : Prompt 수정하여 실행"
   ]
  },
  {
   "cell_type": "code",
   "execution_count": null,
   "id": "784c77af",
   "metadata": {},
   "outputs": [],
   "source": []
  }
 ],
 "metadata": {
  "kernelspec": {
   "display_name": "Python 3 (ipykernel)",
   "language": "python",
   "name": "python3"
  },
  "language_info": {
   "codemirror_mode": {
    "name": "ipython",
    "version": 3
   },
   "file_extension": ".py",
   "mimetype": "text/x-python",
   "name": "python",
   "nbconvert_exporter": "python",
   "pygments_lexer": "ipython3",
   "version": "3.9.16"
  }
 },
 "nbformat": 4,
 "nbformat_minor": 5
}
