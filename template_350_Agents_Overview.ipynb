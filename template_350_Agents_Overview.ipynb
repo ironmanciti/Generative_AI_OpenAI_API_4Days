{
 "cells": [
  {
   "cell_type": "markdown",
   "id": "0b869109-7086-4f83-ae78-ea679d71a423",
   "metadata": {},
   "source": [
    "# OpenAI Agent \n",
    "\n",
    "OpenAI 플랫폼을 사용하여 사용자를 대신해 행동(예: 컴퓨터 제어 등)을 수행할 수 있는 **에이전트(Agent)** 를 구축할 수 있습니다.  \n",
    "Python용 **Agent SDK**를 사용하면 백엔드에서 이러한 에이전트의 **오케스트레이션(조율) 로직**을 만들 수 있습니다.\n",
    "\n",
    "**OpenAI Agents SDK**는 **에이전트 기반 AI 애플리케이션**을 개발할 수 있게 해주는 도구입니다.  \n",
    "\n",
    "**핵심 구성 요소**  \n",
    "\n",
    "- **에이전트 (Agents)**:  \n",
    "  LLM에 **지시문(instructions)** 과 **도구(tools)** 를 장착한 실행 단위  \n",
    "- **핸드오프 (Handoffs)**:  \n",
    "  특정 작업을 다른 에이전트에게 **위임**할 수 있도록 해줌  \n",
    "- **가드레일 (Guardrails)**:  \n",
    "  에이전트에게 전달되는 입력을 **검증**하는 장치\n",
    "\n",
    "### 주요 기능 요약:\n",
    "\n",
    "- **에이전트 루프 (Agent Loop)**:  \n",
    "  도구 실행 → 결과 전달 → LLM 호출 → 반복 실행 → 완료까지 자동 처리\n",
    "\n",
    "- **핸드오프 (Handoffs)**:  \n",
    "  여러 에이전트 간의 **협업과 위임**을 유연하게 처리 가능\n",
    "\n",
    "- **가드레일 (Guardrails)**:  \n",
    "  에이전트 입력을 **사전 검사/검증**하여, 조건을 만족하지 않으면 **조기 종료 가능**\n",
    "\n",
    "- **함수 기반 도구 (Function Tools)**:  \n",
    "  Python 함수 하나를 **자동으로 에이전트 도구로 변환**,  \n",
    "  **Pydantic 기반 스키마 자동 생성** 및 검증 포함\n",
    "\n",
    "- **추적(Tracing)**:  \n",
    "  워크플로우를 **시각화/디버깅/모니터링** 가능하며,  \n",
    "  OpenAI의 평가/파인튜닝/디스틸레이션 툴과 통합 가능"
   ]
  },
  {
   "cell_type": "code",
   "execution_count": null,
   "id": "df59a076",
   "metadata": {},
   "outputs": [],
   "source": [
    "# pip install openai-agents"
   ]
  },
  {
   "cell_type": "code",
   "execution_count": null,
   "id": "4fa46daa",
   "metadata": {},
   "outputs": [],
   "source": []
  },
  {
   "cell_type": "markdown",
   "id": "f6967ace-0ad5-41a4-b1dc-9d4e86fd8179",
   "metadata": {},
   "source": [
    "### Simple Example"
   ]
  },
  {
   "cell_type": "code",
   "execution_count": null,
   "id": "788157e4",
   "metadata": {},
   "outputs": [],
   "source": []
  },
  {
   "cell_type": "markdown",
   "id": "c629e8e3-5810-4366-a0bd-4910e87cd028",
   "metadata": {},
   "source": [
    "### Simple Agent"
   ]
  },
  {
   "cell_type": "code",
   "execution_count": null,
   "id": "0f30b0dd",
   "metadata": {},
   "outputs": [],
   "source": []
  },
  {
   "cell_type": "markdown",
   "id": "212412e5-dc1a-4ef6-a23b-5595568aa7b6",
   "metadata": {},
   "source": [
    "----------------------------\n",
    "**`Runner.run_streamed()`는 비동기로 실행되며 `RunResultStreaming`을 반환합니다.**  \n",
    "이 함수는 LLM을 **스트리밍 모드**로 호출하며, **LLM으로부터 받은 응답을 실시간으로 이벤트 형태로 스트리밍하여 전달**합니다."
   ]
  },
  {
   "cell_type": "code",
   "execution_count": null,
   "id": "cf4998d5",
   "metadata": {},
   "outputs": [],
   "source": [
    "    # print(event)"
   ]
  },
  {
   "cell_type": "markdown",
   "id": "f2f59523-5ac7-4315-b381-d36b0a0a1d83",
   "metadata": {},
   "source": [
    "------------------------\n",
    "## 도구 (Tools)\n",
    "\n",
    "**도구(Tools)** 는 에이전트가 **행동을 수행할 수 있도록 해주는 기능**입니다.  \n",
    "예를 들어, **데이터를 가져오거나**, **코드를 실행하고**, **외부 API를 호출하거나**, 심지어 **컴퓨터를 사용하는 작업**까지도 가능합니다.\n",
    "\n",
    "Agent SDK에서는 도구를 다음 **세 가지 유형**으로 구분합니다:  \n",
    "\n",
    "### 1. **Hosted tools (호스팅 도구)**  \n",
    "이 도구들은 **LLM 서버 내에서**, AI 모델과 함께 실행됩니다.  \n",
    "OpenAI는 다음과 같은 호스팅 도구를 제공합니다:\n",
    "- 검색 기반 정보 검색 (Retrieval)\n",
    "- 웹 검색 (Web search)\n",
    "- 컴퓨터 사용 (Computer use)\n",
    "\n",
    "### 2. **Function calling (함수 호출 도구)**  \n",
    "이 방식은 **Python 함수**를 도구로 등록하여 사용할 수 있게 해줍니다. 즉, 여러분이 직접 정의한 함수도 LLM이 도구처럼 호출할 수 있습니다.  \n",
    "\n",
    "**Agents SDK**에서는 **모든 Python 함수를 도구(tool)** 로 사용할 수 있습니다. SDK는 이러한 도구를 자동으로 설정해줍니다:\n",
    "\n",
    "1. **도구 이름**은 Python 함수의 이름에서 자동으로 생성됩니다.  \n",
    "\n",
    "2. **도구 설명(description)** 은 함수의 **docstring**에서 가져옵니다.  \n",
    "\n",
    "3. 함수 입력값의 **스키마(schema)** 는 함수의 **인자(arguments)** 로부터 자동 생성됩니다.\n",
    "\n",
    "4. 각 입력값에 대한 **설명**도 함수의 docstring에서 추출됩니다.  \n",
    "\n",
    "### 3. **Agents as tools (에이전트를 도구처럼 사용)**  \n",
    "이 방식은 **하나의 에이전트를 도구로 사용**할 수 있게 해줍니다.  \n",
    "즉, **핸드오프 없이도** 에이전트가 다른 에이전트를 호출할 수 있습니다.\n",
    "\n",
    "-------------------------"
   ]
  },
  {
   "cell_type": "markdown",
   "id": "ff7c6d43-17b4-437a-ad76-4e8b88e8ca39",
   "metadata": {},
   "source": [
    "`Runner.run()`을 호출하면, 최종 결과가 나올 때까지 루프가 실행됩니다.  이 루프의 동작 방식은 다음과 같습니다:\n",
    "\n",
    "1. **LLM 호출:**  \n",
    "   에이전트에 설정된 모델과 옵션, 그리고 대화 기록(message history)을 바탕으로 LLM을 호출.  \n",
    "\n",
    "2. **LLM 응답 처리:**  \n",
    "   모델이 응답을 반환하며, 여기에는 **툴 호출(tool calls)**이 포함될 수 있습니다.\n",
    "\n",
    "3. **최종 출력이 있는 경우:**  \n",
    "   응답에 **최종 출력(final output)**이 포함되어 있다면, 이를 반환하고 루프를 종료.\n",
    "\n",
    "4. **핸드오프가 있는 경우:**  \n",
    "   응답에 **다른 에이전트로의 핸드오프(handoff)**가 있으면, 현재 에이전트를 새로운 에이전트로 설정한 후 1단계부터 다시 시작.\n",
    "\n",
    "5. **툴 호출 처리:**  \n",
    "   툴 호출이 있을 경우, 해당 툴을 실행하고 결과 메시지를 기록한 다음 1단계로 되돌아갑니다.\n",
    "\n",
    "\n",
    "**Final Output(최종 출력)** 은 루프에서 에이전트가 생성한 마지막 결과물입니다.\n",
    "\n",
    "- 에이전트에 `output_type`이 설정되어 있다면:  \n",
    "  → LLM이 해당 형식에 맞는 structured output(구조화된 출력)을 반환할 때 루프가 종료\n",
    "\n",
    "- `output_type`이 설정되지 않은 경우:  \n",
    "  → 툴 호출이나 핸드오프가 포함되지 않은 첫 번째 LLM 응답이 최종 출력으로 간주"
   ]
  },
  {
   "cell_type": "code",
   "execution_count": null,
   "id": "870ed507",
   "metadata": {},
   "outputs": [],
   "source": [
    "# 함수 호출 example\n",
    "def multiply(x: float, y: float) -> float:"
   ]
  },
  {
   "cell_type": "code",
   "execution_count": null,
   "id": "7aa12146",
   "metadata": {},
   "outputs": [],
   "source": []
  },
  {
   "cell_type": "markdown",
   "id": "00171390-4f9b-49d4-8962-994d59fa8f75",
   "metadata": {},
   "source": [
    "## Guardrails (가드레일)\n",
    "\n",
    "**가드레일(Guardrails)** 은 에이전트와 **병렬로 실행되며**, 사용자 입력에 대해 **검사와 유효성 검증**을 수행할 수 있게 해줍니다.\n",
    "\n",
    "예를 들어, 아주 똑똑하지만 **느리고 비용이 많이 드는 모델**을 사용하는 에이전트를 악의적인 사용자가 수학 숙제를 대신 풀어달라고 요청하는 경우,\n",
    "빠르고 저렴한 모델을 활용한 가드레일을 실행하여, 사용자의 입력이 악의적인 목적(예: 숙제 대행)인지 먼저 검사할 수 있습니다.  \n",
    "가드레일이 의심스러운 입력을 감지하면 즉시 오류를 발생시켜 고비용 모델의 실행을 막고 시간과 비용을 절약할 수 있습니다."
   ]
  },
  {
   "cell_type": "code",
   "execution_count": null,
   "id": "5b993c90",
   "metadata": {},
   "outputs": [],
   "source": [
    "# guardrail 에이전트의 출력 형식을 정의\n",
    "# is_homework: 숙제인지 여부\n",
    "# reasoning: 숙제로 판단한 이유 설명\n",
    "class HomeworkOutput(BaseModel):"
   ]
  },
  {
   "cell_type": "code",
   "execution_count": null,
   "id": "6e0d3b7f",
   "metadata": {},
   "outputs": [],
   "source": [
    "# 숙제 여부를 판단하는 guardrail 전용 에이전트 정의\n",
    "# 수학 질문 전용 튜터 에이전트 정의\n",
    "# 역사 질문 전용 튜터 에이전트 정의\n",
    "# 입력이 '숙제 질문'인지 판단하는 guardrail 함수 정의\n",
    "# triage_agent에서 InputGuardrail로 사용됨\n",
    "    # guardrail_agent를 실행하여 숙제 여부 판단\n",
    "    # 결과를 HomeworkOutput 모델 형태로 변환\n",
    "    # GuardrailFunctionOutput을 반환\n",
    "    # is_homework가 False이면 tripwire_triggered를 True로 설정하여 실행을 중단시킴"
   ]
  },
  {
   "cell_type": "code",
   "execution_count": null,
   "id": "93eed0a6",
   "metadata": {},
   "outputs": [],
   "source": [
    "# 사용자 질문이 숙제인지 확인하고,\n",
    "# 숙제라면 수학 튜터 또는 역사 튜터 에이전트로 전달(handoff)하는 판단 에이전트 정의\n",
    "# triage_agent를 테스트하는 비동기 함수 정의\n",
    "        # 첫 번째 테스트: 역사 관련 숙제 질문\n",
    "# main 함수 실행 (Notebook 또는 async 환경에서 사용 가능)"
   ]
  },
  {
   "cell_type": "markdown",
   "id": "bb73d199-6d98-4306-8b8e-17e64b135a9c",
   "metadata": {},
   "source": [
    "### 구조화된 출력"
   ]
  },
  {
   "cell_type": "code",
   "execution_count": null,
   "id": "b43a4a4e",
   "metadata": {},
   "outputs": [],
   "source": [
    "# 캘린더 이벤트 데이터 구조 정의\n",
    "class CalendarEvent(BaseModel):\n",
    "# 에이전트 정의: 텍스트에서 캘린더 이벤트 정보를 추출\n",
    "# 📌 실행 함수 정의\n",
    "# 📌 비동기 함수 실행"
   ]
  },
  {
   "cell_type": "code",
   "execution_count": null,
   "id": "1a8ab22d",
   "metadata": {},
   "outputs": [],
   "source": []
  }
 ],
 "metadata": {
  "kernelspec": {
   "display_name": "Python 3 (ipykernel)",
   "language": "python",
   "name": "python3"
  },
  "language_info": {
   "codemirror_mode": {
    "name": "ipython",
    "version": 3
   },
   "file_extension": ".py",
   "mimetype": "text/x-python",
   "name": "python",
   "nbconvert_exporter": "python",
   "pygments_lexer": "ipython3",
   "version": "3.9.21"
  }
 },
 "nbformat": 4,
 "nbformat_minor": 5
}
