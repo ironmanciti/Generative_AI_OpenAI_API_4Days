{
 "cells": [
  {
   "cell_type": "markdown",
   "id": "e0619d6b-69f6-4f0a-91fa-85eebe422e45",
   "metadata": {},
   "source": [
    "# Assistants API\n",
    "\n",
    "- Chat Completion API는 stateless 하게 동작하므로 history를 기억하지 못함.\n",
    "\n",
    "Assistants API를 사용하면 자체 애플리케이션 내에 AI 도우미를 구축할 수 있습니다. 어시스턴트에는 instruction(지침)이 있으며 모델, 도구 및 파일을 활용하여 사용자 쿼리에 응답할 수 있습니다. Assistants API는 현재 코드 해석기, 파일 검색 및 함수 호출의 세 가지 유형의 도구를 지원합니다.  \n",
    "\n",
    "<img src=\"https://i.imgur.com/lpsWewR.png\" />\n",
    "\n",
    "Assistants 플레이그라운드(https://platform.openai.com/playground?mode=assistant)를 사용 하거나 아래에 설명된 것과 같이 Assistants API의 기능을 탐색할 수 있습니다."
   ]
  },
  {
   "cell_type": "code",
   "execution_count": 1,
   "id": "7a0399e0-6377-4e2b-a155-488cb32821ea",
   "metadata": {},
   "outputs": [],
   "source": [
    "import os\n",
    "import openai\n",
    "import sys\n",
    "sys.path.append('./')\n",
    "\n",
    "from dotenv import load_dotenv, find_dotenv\n",
    "_ = load_dotenv(find_dotenv()) # read local .env file"
   ]
  },
  {
   "cell_type": "markdown",
   "id": "9317c693-6639-458a-998c-72304b2e0d97",
   "metadata": {},
   "source": [
    "### 코드 해석기 (Code Interpreter)\n",
    "\n",
    "Assistants가 샌드박스 실행 환경에서 Python 코드를 작성하고 실행할 수 있습니다. 이 도구는 다양한 데이터와 포맷의 파일을 처리할 수 있으며, 데이터와 그래프 이미지가 포함된 파일을 생성할 수 있습니다. 코드 해석기를 사용하면 어시스턴트가 코드를 반복적으로 실행하여 어려운 코드 및 수학 문제를 해결할 수 있습니다. 어시스턴트가 실행에 실패한 코드를 작성하면 코드 실행이 성공할 때까지 다른 코드 실행을 시도하여 이 코드를 반복할 수 있습니다."
   ]
  },
  {
   "cell_type": "markdown",
   "id": "f11f5b57-ac33-4d4f-84f7-f1ffe0aaff0d",
   "metadata": {},
   "source": [
    "### Step 1 : assistant 생성  \n",
    "\n",
    "- assistant는 model , instructions및 같은 여러 매개변수를 사용하여 사용자의 메시지에 응답하도록 구성할 수 있는 엔터티를 나타냅니다.\n",
    "\n",
    "Instruction: 어시스턴트와 모델이 어떻게 행동하거나 반응해야 하는지 지시  \n",
    "Model: 모델 지정   \n",
    "Tools: API는 OpenAI에서 구축하고 호스팅하는 코드 해석기 및 검색을 지원합니다.  \n",
    "Functions: 함수 호출을 사용하면 Assistants API에 함수를 설명하고 인수와 함께 호출해야 하는 함수를 지능적으로 반환하도록 할 수 있습니다.  \n",
    "\n",
    "### 이 예에서는 코드 해석기 도구가 활성화된 개인 수학 교사인 도우미를 만듭니다.  \n",
    "예) code interpreter가 활성화된 개인 수학 교사 assistant를 생성하여 주어진 수학 문제를 푸는 python code 생성\n",
    "\n",
    "https://platform.openai.com/docs/assistants/tools/code-interpreter"
   ]
  },
  {
   "cell_type": "code",
   "execution_count": 2,
   "id": "3ff45975-57e7-46dd-9579-744a1535ca4c",
   "metadata": {},
   "outputs": [],
   "source": [
    "from openai import OpenAI\n",
    "client = OpenAI()\n",
    "\n",
    "Model = \"gpt-4o-mini\""
   ]
  },
  {
   "cell_type": "code",
   "execution_count": 3,
   "id": "35daa4a9-6052-40d7-ae36-686ae081fd8c",
   "metadata": {},
   "outputs": [
    {
     "data": {
      "text/plain": [
       "Assistant(id='asst_0N7ieLjLZ2CnbxkKbRibCYkm', created_at=1730530400, description=None, instructions='당신은 개인 수학 교사입니다. 수학 문제를 풀기 위해 코드를 작성하고 실행 시키세요.', metadata={}, model='gpt-4o-mini', name='Math Tutor', object='assistant', tools=[CodeInterpreterTool(type='code_interpreter')], response_format='auto', temperature=1.0, tool_resources=ToolResources(code_interpreter=ToolResourcesCodeInterpreter(file_ids=[]), file_search=None), top_p=1.0)"
      ]
     },
     "execution_count": 3,
     "metadata": {},
     "output_type": "execute_result"
    }
   ],
   "source": [
    "assistant = client.beta.assistants.create(\n",
    "    name=\"Math Tutor\",\n",
    "    instructions=\"당신은 개인 수학 교사입니다. 수학 문제를 풀기 위해 코드를 작성하고 실행 시키세요.\",\n",
    "    tools=[{\"type\": \"code_interpreter\"}],\n",
    "    model=Model\n",
    ")\n",
    "assistant"
   ]
  },
  {
   "cell_type": "code",
   "execution_count": 4,
   "id": "240a6cf1-d12a-42bf-9b2e-07540eaefac5",
   "metadata": {},
   "outputs": [
    {
     "name": "stdout",
     "output_type": "stream",
     "text": [
      "asst_0N7ieLjLZ2CnbxkKbRibCYkm\n",
      "Math Tutor\n",
      "당신은 개인 수학 교사입니다. 수학 문제를 풀기 위해 코드를 작성하고 실행 시키세요.\n",
      "[CodeInterpreterTool(type='code_interpreter')]\n"
     ]
    }
   ],
   "source": [
    "print(assistant.id)\n",
    "print(assistant.name)\n",
    "print(assistant.instructions)\n",
    "print(assistant.tools)"
   ]
  },
  {
   "cell_type": "markdown",
   "id": "837e7ba4-5e9d-4ec4-9f18-57d152df45ad",
   "metadata": {},
   "source": [
    "### Step 2 : Thread 생성\n",
    "\n",
    "- 스레드는 사용자와 하나 이상의 Assistant 간의 대화를 나타냅니다. 사용자(또는 AI 애플리케이션)가 어시스턴트와 대화를 시작할 때 스레드를 생성할 수 있습니다.  \n",
    "사용자가 대화를 시작하자마자 사용자당 하나의 스레드를 생성하는 것이 좋습니다. 메시지를 생성하여 이 스레드에 사용자별 컨텍스트와 파일을 전달합니다.   \n",
    "\n",
    "- Assistant와 Thread는 독립적으로 존재 합니다."
   ]
  },
  {
   "cell_type": "code",
   "execution_count": 5,
   "id": "6b56570b-36db-4062-a51d-0d705f7b1055",
   "metadata": {},
   "outputs": [
    {
     "data": {
      "text/plain": [
       "Thread(id='thread_rXSuRmiNSDSw7ckkvCl6qGmk', created_at=1730530401, metadata={}, object='thread', tool_resources=ToolResources(code_interpreter=None, file_search=None))"
      ]
     },
     "execution_count": 5,
     "metadata": {},
     "output_type": "execute_result"
    }
   ],
   "source": [
    "thread = client.beta.threads.create()\n",
    "thread"
   ]
  },
  {
   "cell_type": "code",
   "execution_count": 6,
   "id": "ed021772-86db-437e-939f-d578dd9f9116",
   "metadata": {},
   "outputs": [
    {
     "data": {
      "text/plain": [
       "'thread_rXSuRmiNSDSw7ckkvCl6qGmk'"
      ]
     },
     "execution_count": 6,
     "metadata": {},
     "output_type": "execute_result"
    }
   ],
   "source": [
    "thread.id"
   ]
  },
  {
   "cell_type": "markdown",
   "id": "fbc2f82d-2ca6-4f1e-ace5-3f63bc2fcaa7",
   "metadata": {},
   "source": [
    "### Step 3 : Thread에 message 추가\n",
    "\n",
    "사용자나 애플리케이션이 생성한 메시지의 내용은 스레드에 메시지 개체로 추가됩니다. 메시지에는 텍스트와 파일이 모두 포함될 수 있습니다. 스레드에 추가할 수 있는 메시지 수에는 제한이 없습니다. 모델의 컨텍스트 창에 맞지 ​​않는 모든 컨텍스트를 스마트하게 자릅니다. 어시스턴트 API를 사용하면 특정 RUN에 대해 모델에 전달되는 입력 토큰 수에 대한 제어를 위임합니다. 즉, 경우에 따라 어시스턴트 실행 비용에 대한 제어 권한이 줄어들지만 복잡성을 처리할 필요는 없습니다. "
   ]
  },
  {
   "cell_type": "code",
   "execution_count": 7,
   "id": "8487396e-d8f1-40ca-a723-0e3a75f1ef37",
   "metadata": {},
   "outputs": [
    {
     "data": {
      "text/plain": [
       "Message(id='msg_RmhePeyNbuacTp08ga5LjB6f', assistant_id=None, attachments=[], completed_at=None, content=[TextContentBlock(text=Text(annotations=[], value='방정식 `3x + 11 = 14`를 풀려고해. 도와줘.'), type='text')], created_at=1730530403, incomplete_at=None, incomplete_details=None, metadata={}, object='thread.message', role='user', run_id=None, status=None, thread_id='thread_rXSuRmiNSDSw7ckkvCl6qGmk')"
      ]
     },
     "execution_count": 7,
     "metadata": {},
     "output_type": "execute_result"
    }
   ],
   "source": [
    "message = client.beta.threads.messages.create(\n",
    "    thread_id=thread.id,\n",
    "    role=\"user\",\n",
    "    #content=\"I need to solve the equation `3x + 11 = 14`. Can you help me?\"\n",
    "    content=\"방정식 `3x + 11 = 14`를 풀려고해. 도와줘.\"\n",
    ")\n",
    "\n",
    "message"
   ]
  },
  {
   "cell_type": "code",
   "execution_count": 8,
   "id": "fad323fb-0825-4bb9-a4cf-8e97ebeba7d3",
   "metadata": {},
   "outputs": [
    {
     "data": {
      "text/plain": [
       "{'id': 'msg_RmhePeyNbuacTp08ga5LjB6f',\n",
       " 'assistant_id': None,\n",
       " 'attachments': [],\n",
       " 'completed_at': None,\n",
       " 'content': [TextContentBlock(text=Text(annotations=[], value='방정식 `3x + 11 = 14`를 풀려고해. 도와줘.'), type='text')],\n",
       " 'created_at': 1730530403,\n",
       " 'incomplete_at': None,\n",
       " 'incomplete_details': None,\n",
       " 'metadata': {},\n",
       " 'object': 'thread.message',\n",
       " 'role': 'user',\n",
       " 'run_id': None,\n",
       " 'status': None,\n",
       " 'thread_id': 'thread_rXSuRmiNSDSw7ckkvCl6qGmk',\n",
       " '_request_id': 'req_0625a7d37dbabf3eb902e62c09f6e6fc',\n",
       " '__exclude_fields__': {'__exclude_fields__', '_request_id'}}"
      ]
     },
     "execution_count": 8,
     "metadata": {},
     "output_type": "execute_result"
    }
   ],
   "source": [
    "# message 객체의 모든 속성과 그 값을 사전 형태로 반환\n",
    "vars(message)"
   ]
  },
  {
   "cell_type": "markdown",
   "id": "8442d29b-e724-4062-b8de-a89e1ddb565e",
   "metadata": {},
   "source": [
    "### Step 4 : Run 생성\n",
    "\n",
    "모든 사용자 메시지가 스레드에 추가되면 특정 Assistant를 사용하여 스레드를 Run할 수 있습니다. Run을 생성하면 Assistant와 관련된 모델 및 도구를 사용하여 응답을 생성합니다. 이러한 응답은 스레드에 assistant메시지로 추가됩니다."
   ]
  },
  {
   "cell_type": "markdown",
   "id": "0a20afa0-a97c-43a9-b469-5be9f2bfe8ef",
   "metadata": {},
   "source": [
    "### 방법 1 - streaming 사용\n",
    "OpenAI의 AssistantEventHandler를 사용하여 Run을 만들고 응답을 스트리밍할 수 있습니다. --> 동기적 방식"
   ]
  },
  {
   "cell_type": "code",
   "execution_count": 9,
   "id": "4c80affa-deae-42da-af7a-29056a35d866",
   "metadata": {},
   "outputs": [],
   "source": [
    "from typing_extensions import override\n",
    "from openai import AssistantEventHandler\n",
    " \n",
    "# 먼저, 이벤트 핸들러 클래스(EventHandler)를 생성하여\n",
    "# 응답 스트림에서 이벤트를 어떻게 처리할지 정의합니다.\n",
    "class EventHandler(AssistantEventHandler):    \n",
    "  # 텍스트 생성이 완료되었을 때 호출되는 메서드\n",
    "  @override\n",
    "  def on_text_created(self, text) -> None:\n",
    "    print(f\"\\nassistant > \", end=\"\", flush=True)\n",
    "      \n",
    "  # 텍스트 생성 중간에 호출되는 메서드\n",
    "  @override\n",
    "  def on_text_delta(self, delta, snapshot):\n",
    "    print(delta.value, end=\"\", flush=True)\n",
    "      \n",
    "  # 도구 호출이 생성되었을 때 호출되는 메서드\n",
    "  def on_tool_call_created(self, tool_call):\n",
    "    print(f\"\\nassistant > {tool_call.type}\\n\", flush=True)\n",
    "  \n",
    "  # 도구 호출 중간에 호출되는 메서드\n",
    "  def on_tool_call_delta(self, delta, snapshot):\n",
    "    if delta.type == 'code_interpreter':\n",
    "      if delta.code_interpreter.input:\n",
    "        print(delta.code_interpreter.input, end=\"\", flush=True)\n",
    "      if delta.code_interpreter.outputs:\n",
    "        print(f\"\\n\\noutput >\", flush=True)\n",
    "        for output in delta.code_interpreter.outputs:\n",
    "          if output.type == \"logs\":\n",
    "            print(f\"\\n{output.logs}\", flush=True)"
   ]
  },
  {
   "cell_type": "code",
   "execution_count": 10,
   "id": "8c41c953-6e17-4af1-afbb-3a20fd9d4322",
   "metadata": {},
   "outputs": [
    {
     "name": "stdout",
     "output_type": "stream",
     "text": [
      "\n",
      "assistant > code_interpreter\n",
      "\n",
      "import sympy as sp\n",
      "\n",
      "# 방정식 정의\n",
      "x = sp.symbols('x')\n",
      "equation = 3*x + 11 - 14\n",
      "\n",
      "# 방정식을 푼다\n",
      "solution = sp.solve(equation, x)\n",
      "solution[0]\n",
      "assistant > 방정식 \\( 3x + 11 = 14 \\)의 해는 \\( x = 1 \\)입니다. 도움이 더 필요하시면 말씀해 주세요, 고객님!"
     ]
    }
   ],
   "source": [
    "event_handler = EventHandler()\n",
    "\n",
    "# 그런 다음, `stream` SDK 도우미와 `EventHandler` 클래스를 사용하여\n",
    "# Run을 생성하고 응답을 스트리밍합니다.\n",
    "with client.beta.threads.runs.stream(\n",
    "  thread_id=thread.id,\n",
    "  assistant_id=assistant.id,\n",
    "  instructions=\"사용자를 고객님이라고 부르세요. 이 사용자는 프리미엄 계정을 가지고 있습니다.\",  # 어시스턴트에게 제공할 지시사항\n",
    "  event_handler=event_handler,  # EventHandler 클래스 인스턴스를 이벤트 핸들러로 사용\n",
    ") as stream:\n",
    "  stream.until_done()  # 스트림이 완료될 때까지 대기"
   ]
  },
  {
   "cell_type": "markdown",
   "id": "bd9820cb-45a1-4cef-9229-7e6e70ecc1f5",
   "metadata": {},
   "source": [
    "### 방법 2 - streaming 사용 않음\n",
    "RUN은 비동기식입니다. 즉, 터미널 상태에 도달할 때까지 Run 개체를 폴링하여 상태를 모니터링해야 한다는 뜻입니다. 'create_and_poll' SDK는 Run 생성과 완료 폴링을 모두 지원합니다."
   ]
  },
  {
   "cell_type": "code",
   "execution_count": 11,
   "id": "8f8e5e05-db5d-44f5-81b8-4d109febb5f7",
   "metadata": {},
   "outputs": [
    {
     "data": {
      "text/plain": [
       "{'id': 'run_kuNT4manhHRBZs2sgkat3vOq',\n",
       " 'assistant_id': 'asst_0N7ieLjLZ2CnbxkKbRibCYkm',\n",
       " 'cancelled_at': None,\n",
       " 'completed_at': 1730530420,\n",
       " 'created_at': 1730530418,\n",
       " 'expires_at': None,\n",
       " 'failed_at': None,\n",
       " 'incomplete_details': None,\n",
       " 'instructions': '사용자를 고객님이라고 부르세요. 이 사용자는 프리미엄 계정을 가지고 있습니다.',\n",
       " 'last_error': None,\n",
       " 'max_completion_tokens': None,\n",
       " 'max_prompt_tokens': None,\n",
       " 'metadata': {},\n",
       " 'model': 'gpt-4o-mini',\n",
       " 'object': 'thread.run',\n",
       " 'parallel_tool_calls': True,\n",
       " 'required_action': None,\n",
       " 'response_format': 'auto',\n",
       " 'started_at': 1730530419,\n",
       " 'status': 'completed',\n",
       " 'thread_id': 'thread_rXSuRmiNSDSw7ckkvCl6qGmk',\n",
       " 'tool_choice': 'auto',\n",
       " 'tools': [CodeInterpreterTool(type='code_interpreter')],\n",
       " 'truncation_strategy': TruncationStrategy(type='auto', last_messages=None),\n",
       " 'usage': Usage(completion_tokens=24, prompt_tokens=275, total_tokens=299),\n",
       " 'temperature': 1.0,\n",
       " 'top_p': 1.0,\n",
       " 'tool_resources': {},\n",
       " '_request_id': 'req_182771e1027d991c1466ba2e67b147fe',\n",
       " '__exclude_fields__': {'__exclude_fields__', '_request_id'}}"
      ]
     },
     "execution_count": 11,
     "metadata": {},
     "output_type": "execute_result"
    }
   ],
   "source": [
    "# `create_and_poll` 메서드를 사용하여 새로운 실행(run)을 생성하고 해당 실행이 완료될 때까지 폴링합니다.\n",
    "run = client.beta.threads.runs.create_and_poll(\n",
    "  thread_id=thread.id,  # 실행할 스레드의 ID\n",
    "  assistant_id=assistant.id,  # 실행할 어시스턴트의 ID\n",
    "  instructions=\"사용자를 고객님이라고 부르세요. 이 사용자는 프리미엄 계정을 가지고 있습니다.\",   # 어시스턴트에게 제공할 지시사항\n",
    ")\n",
    "\n",
    "vars(run)"
   ]
  },
  {
   "cell_type": "code",
   "execution_count": 12,
   "id": "d40264d4-e736-4e61-858c-301759d104f2",
   "metadata": {},
   "outputs": [
    {
     "name": "stdout",
     "output_type": "stream",
     "text": [
      "SyncCursorPage[Message](data=[Message(id='msg_6NKrQ01vZr2tCqhwDhD9Zqzt', assistant_id='asst_0N7ieLjLZ2CnbxkKbRibCYkm', attachments=[], completed_at=None, content=[TextContentBlock(text=Text(annotations=[], value='추가적인 도움이 필요하시거나 다른 질문이 있으시면 언제든지 말씀해 주세요. 고객님!'), type='text')], created_at=1730530420, incomplete_at=None, incomplete_details=None, metadata={}, object='thread.message', role='assistant', run_id='run_kuNT4manhHRBZs2sgkat3vOq', status=None, thread_id='thread_rXSuRmiNSDSw7ckkvCl6qGmk'), Message(id='msg_beC9YdWXTQUl9iyEE9WHYEyL', assistant_id='asst_0N7ieLjLZ2CnbxkKbRibCYkm', attachments=[], completed_at=None, content=[TextContentBlock(text=Text(annotations=[], value='방정식 \\\\( 3x + 11 = 14 \\\\)의 해는 \\\\( x = 1 \\\\)입니다. 도움이 더 필요하시면 말씀해 주세요, 고객님!'), type='text')], created_at=1730530417, incomplete_at=None, incomplete_details=None, metadata={}, object='thread.message', role='assistant', run_id='run_VY1WsxYR6Aqz44xr2yLhxj4m', status=None, thread_id='thread_rXSuRmiNSDSw7ckkvCl6qGmk'), Message(id='msg_RmhePeyNbuacTp08ga5LjB6f', assistant_id=None, attachments=[], completed_at=None, content=[TextContentBlock(text=Text(annotations=[], value='방정식 `3x + 11 = 14`를 풀려고해. 도와줘.'), type='text')], created_at=1730530403, incomplete_at=None, incomplete_details=None, metadata={}, object='thread.message', role='user', run_id=None, status=None, thread_id='thread_rXSuRmiNSDSw7ckkvCl6qGmk')], object='list', first_id='msg_6NKrQ01vZr2tCqhwDhD9Zqzt', last_id='msg_RmhePeyNbuacTp08ga5LjB6f', has_more=False)\n"
     ]
    }
   ],
   "source": [
    "# 실행 상태 확인\n",
    "if run.status == 'completed': \n",
    "  messages = client.beta.threads.messages.list(\n",
    "    thread_id=thread.id\n",
    "  )\n",
    "  print(messages)\n",
    "else:\n",
    "  print(run.status)"
   ]
  },
  {
   "cell_type": "code",
   "execution_count": 13,
   "id": "6ad61950-b08a-4358-b03f-2e264c756c07",
   "metadata": {},
   "outputs": [
    {
     "data": {
      "text/plain": [
       "'assistant'"
      ]
     },
     "execution_count": 13,
     "metadata": {},
     "output_type": "execute_result"
    }
   ],
   "source": [
    "messages.data[0].role"
   ]
  },
  {
   "cell_type": "code",
   "execution_count": 14,
   "id": "4d8d77c8-eca0-4141-bcc0-261d19d8c4be",
   "metadata": {},
   "outputs": [
    {
     "data": {
      "text/plain": [
       "'추가적인 도움이 필요하시거나 다른 질문이 있으시면 언제든지 말씀해 주세요. 고객님!'"
      ]
     },
     "execution_count": 14,
     "metadata": {},
     "output_type": "execute_result"
    }
   ],
   "source": [
    "messages.data[0].content[0].text.value"
   ]
  },
  {
   "cell_type": "code",
   "execution_count": 16,
   "id": "12608ff7-2625-48e2-92e4-4c6b37333934",
   "metadata": {},
   "outputs": [
    {
     "name": "stdout",
     "output_type": "stream",
     "text": [
      "role: user\n",
      "방정식 `3x + 11 = 14`를 풀려고해. 도와줘.\n",
      "------------------------------------------------------------------------------------------------------------------------------------------------------\n",
      "role: assistant\n",
      "방정식 \\( 3x + 11 = 14 \\)의 해는 \\( x = 1 \\)입니다. 도움이 더 필요하시면 말씀해 주세요, 고객님!\n",
      "------------------------------------------------------------------------------------------------------------------------------------------------------\n",
      "role: assistant\n",
      "추가적인 도움이 필요하시거나 다른 질문이 있으시면 언제든지 말씀해 주세요. 고객님!\n",
      "------------------------------------------------------------------------------------------------------------------------------------------------------\n"
     ]
    }
   ],
   "source": [
    "# messages 객체의 데이터에서 role과 content 값을 추출하여 리스트에 저장\n",
    "values = [(messages.data[i].role, messages.data[i].content[0].text.value) for i in range(len(messages.data)-1, -1, -1)]\n",
    "\n",
    "# 추출한 값들을 출력\n",
    "for role, value in values:\n",
    "    print(f\"role: {role}\")  # 역할(role) 출력\n",
    "    print(value)  # 내용(value) 출력\n",
    "    print(150*\"-\")  # 구분선 출력"
   ]
  },
  {
   "cell_type": "markdown",
   "id": "e27ee005-6f12-4d1b-abe5-ab295a9c73a7",
   "metadata": {},
   "source": [
    "## Code Interpreter에 파일 전달\n",
    "Assistant 에 전달된 파일은 이 Assistant를 사용하는 모든 Run에서 액세스할 수 있습니다.  \n",
    "\n",
    "다음은 OpenAI의 code interpreter 도구를 사용하여 업로드된 mydata.csv 파일을 바탕으로 사용자에게 응답하는 샘플 코드입니다. 이 코드는 사용자가 특정 질문을 할 때 CSV 파일을 읽고, 해당 질문에 맞는 응답을 제공하는 예제입니다.\n",
    "\n",
    "가정: 사용자가 학생의 이름을 입력하면 해당 학생의 나이와 성적을 반환하는 예제\n",
    "\n",
    "#### 1. CSV 파일 업로드 및 어시스턴트 생성 코드"
   ]
  },
  {
   "cell_type": "code",
   "execution_count": 17,
   "id": "6af4fd93-613b-48ee-8b54-27b047256f7d",
   "metadata": {},
   "outputs": [
    {
     "name": "stdout",
     "output_type": "stream",
     "text": [
      "CSV 파일이 data/mydata.csv에 저장되었습니다.\n"
     ]
    }
   ],
   "source": [
    "import pandas as pd\n",
    "\n",
    "# 예시 데이터 생성\n",
    "data = {\n",
    "    \"name\": [\"Alice\", \"Bob\", \"Charlie\"],\n",
    "    \"age\": [14, 15, 13],\n",
    "    \"grade\": [\"A\", \"B\", \"A\"]\n",
    "}\n",
    "\n",
    "# 데이터프레임 생성\n",
    "df = pd.DataFrame(data)\n",
    "\n",
    "# CSV 파일로 저장\n",
    "csv_file_path = \"data/mydata.csv\"\n",
    "df.to_csv(csv_file_path, index=False)\n",
    "\n",
    "print(f\"CSV 파일이 {csv_file_path}에 저장되었습니다.\")"
   ]
  },
  {
   "cell_type": "code",
   "execution_count": 71,
   "id": "c65ee101-5d55-4eee-8eab-a95cf3ddc455",
   "metadata": {},
   "outputs": [
    {
     "data": {
      "text/plain": [
       "FileObject(id='file-zHiYN4Jg2kLpwzea345GF9g8', bytes=52, created_at=1730531747, filename='mydata.csv', object='file', purpose='assistants', status='processed', status_details=None)"
      ]
     },
     "execution_count": 71,
     "metadata": {},
     "output_type": "execute_result"
    }
   ],
   "source": [
    "# \"mydata.csv\" 파일을 업로드\n",
    "file = client.files.create(\n",
    "  file=open(\"data/mydata.csv\", \"rb\"),\n",
    "  purpose='assistants'\n",
    ")\n",
    "file"
   ]
  },
  {
   "cell_type": "code",
   "execution_count": 72,
   "id": "15fb47dd-8ee0-40ea-9bf1-c6dc7dea5f18",
   "metadata": {},
   "outputs": [
    {
     "name": "stdout",
     "output_type": "stream",
     "text": [
      "어시스턴트가 생성되었습니다.\n"
     ]
    }
   ],
   "source": [
    "# 파일 ID를 사용하여 어시스턴트 생성\n",
    "assistant = client.beta.assistants.create(\n",
    "  instructions=\"당신은 개인 비서입니다. 학생 정보에 관해 질문을 받으면 코드 해석기를 사용하여 CSV 파일에서 세부정보를 가져옵니다. 한국어로 답합니다.\",\n",
    "  model=Model,\n",
    "  tools=[{\"type\": \"code_interpreter\"}],\n",
    "  tool_resources={\n",
    "    \"code_interpreter\": {\n",
    "      \"file_ids\": [file.id]\n",
    "    }\n",
    "  }\n",
    ")\n",
    "\n",
    "print(\"어시스턴트가 생성되었습니다.\")"
   ]
  },
  {
   "cell_type": "markdown",
   "id": "2410b7d4-20ab-4ba0-a1cf-fe87d8c558c0",
   "metadata": {},
   "source": [
    "#### 2. 사용자 질문에 응답하는 코드 인터프리터 코드"
   ]
  },
  {
   "cell_type": "code",
   "execution_count": 73,
   "id": "abd84e2b-85a8-4beb-b0bc-e8ffd139f69f",
   "metadata": {},
   "outputs": [],
   "source": [
    "thread = client.beta.threads.create(\n",
    "  messages=[\n",
    "    {\n",
    "      \"role\": \"user\",\n",
    "      \"content\": \"Alice 의 나이와 학년은 어떻게 되나요?\",\n",
    "      \"attachments\": [\n",
    "        {\n",
    "          \"file_id\": file.id,\n",
    "          \"tools\": [{\"type\": \"code_interpreter\"}]\n",
    "        }\n",
    "      ]\n",
    "    }\n",
    "  ]\n",
    ")"
   ]
  },
  {
   "cell_type": "code",
   "execution_count": 74,
   "id": "daafe701-e01b-4471-adbd-45657f4a6313",
   "metadata": {},
   "outputs": [],
   "source": [
    "run = client.beta.threads.runs.create_and_poll(\n",
    "  thread_id=thread.id,  # 실행할 스레드의 ID\n",
    "  assistant_id=assistant.id,  # 실행할 어시스턴트의 ID\n",
    "  instructions=\"사용자를 고객님이라고 부르세요. 이 사용자는 프리미엄 계정을 가지고 있습니다.\",   # 어시스턴트에게 제공할 지시사항\n",
    ")"
   ]
  },
  {
   "cell_type": "code",
   "execution_count": 75,
   "id": "15ac3746-4790-4bdb-9cbd-0e3b767702cb",
   "metadata": {},
   "outputs": [
    {
     "name": "stdout",
     "output_type": "stream",
     "text": [
      "SyncCursorPage[Message](data=[Message(id='msg_CmOt1IMRqeFNmS70b90O0zPd', assistant_id='asst_4oVbn6fFnuUywx3Ymp7LmDCD', attachments=[], completed_at=None, content=[TextContentBlock(text=Text(annotations=[], value='업로드하신 파일의 내용은 CSV 형식으로, 다음과 같은 데이터가 포함되어 있습니다:\\n\\n```\\nname,age,grade\\nAlice,14,A\\nBob,15,B\\nCharlie,13,A\\n```\\n\\n따라서 Alice의 나이는 14세이고, 학년은 A입니다. 추가로 궁금한 점이 있다면 말씀해 주세요!'), type='text')], created_at=1730531756, incomplete_at=None, incomplete_details=None, metadata={}, object='thread.message', role='assistant', run_id='run_bcCEnwUzTBBjY6eg9ZLMYCIh', status=None, thread_id='thread_tzoi6JUgGkl7ktMYrUnWTspt'), Message(id='msg_wYxD5jIMw7bsATBgEE97aMkA', assistant_id='asst_4oVbn6fFnuUywx3Ymp7LmDCD', attachments=[], completed_at=None, content=[TextContentBlock(text=Text(annotations=[], value='고객님, 업로드하신 파일을 확인하여 Alice의 나이와 학년 정보를 추출하겠습니다. 잠시만 기다려 주세요.'), type='text')], created_at=1730531751, incomplete_at=None, incomplete_details=None, metadata={}, object='thread.message', role='assistant', run_id='run_bcCEnwUzTBBjY6eg9ZLMYCIh', status=None, thread_id='thread_tzoi6JUgGkl7ktMYrUnWTspt'), Message(id='msg_UOynKnK041jImc7iVvapa5jd', assistant_id=None, attachments=[Attachment(file_id='file-zHiYN4Jg2kLpwzea345GF9g8', tools=[CodeInterpreterTool(type='code_interpreter')])], completed_at=None, content=[TextContentBlock(text=Text(annotations=[], value='Alice 의 나이와 학년은 어떻게 되나요?'), type='text')], created_at=1730531750, incomplete_at=None, incomplete_details=None, metadata={}, object='thread.message', role='user', run_id=None, status=None, thread_id='thread_tzoi6JUgGkl7ktMYrUnWTspt')], object='list', first_id='msg_CmOt1IMRqeFNmS70b90O0zPd', last_id='msg_UOynKnK041jImc7iVvapa5jd', has_more=False)\n"
     ]
    }
   ],
   "source": [
    "# 실행 상태 확인\n",
    "if run.status == 'completed': \n",
    "  messages = client.beta.threads.messages.list(\n",
    "    thread_id=thread.id\n",
    "  )\n",
    "  print(messages)\n",
    "else:\n",
    "  print(run.status)"
   ]
  },
  {
   "cell_type": "code",
   "execution_count": 76,
   "id": "d5fe3e25-f984-4873-9565-55d8732f1f18",
   "metadata": {},
   "outputs": [
    {
     "name": "stdout",
     "output_type": "stream",
     "text": [
      "role: user\n",
      "Alice 의 나이와 학년은 어떻게 되나요?\n",
      "------------------------------------------------------------------------------------------------------------------------------------------------------\n",
      "role: assistant\n",
      "고객님, 업로드하신 파일을 확인하여 Alice의 나이와 학년 정보를 추출하겠습니다. 잠시만 기다려 주세요.\n",
      "------------------------------------------------------------------------------------------------------------------------------------------------------\n",
      "role: assistant\n",
      "업로드하신 파일의 내용은 CSV 형식으로, 다음과 같은 데이터가 포함되어 있습니다:\n",
      "\n",
      "```\n",
      "name,age,grade\n",
      "Alice,14,A\n",
      "Bob,15,B\n",
      "Charlie,13,A\n",
      "```\n",
      "\n",
      "따라서 Alice의 나이는 14세이고, 학년은 A입니다. 추가로 궁금한 점이 있다면 말씀해 주세요!\n",
      "------------------------------------------------------------------------------------------------------------------------------------------------------\n"
     ]
    }
   ],
   "source": [
    "# messages 객체의 데이터에서 role과 content 값을 추출하여 리스트에 저장\n",
    "values = [(messages.data[i].role, messages.data[i].content[0].text.value) for i in range(len(messages.data)-1, -1, -1)]\n",
    "\n",
    "# 추출한 값들을 출력\n",
    "for role, value in values:\n",
    "    print(f\"role: {role}\")  # 역할(role) 출력\n",
    "    print(value)  # 내용(value) 출력\n",
    "    print(150*\"-\")  # 구분선 출력"
   ]
  },
  {
   "cell_type": "markdown",
   "id": "296b7cc6-dd64-4f9d-a218-fb9fa88933e8",
   "metadata": {},
   "source": [
    "### Code Interpreter에서 생성된 이미지 및 파일 읽기\n",
    "API의 코드 인터프리터는 이미지 다이어그램, CSV, PDF 생성과 같은 파일을 출력합니다. 생성되는 파일에는 두 가지 유형이 있습니다.\n",
    "\n",
    "- 이미지  \n",
    "- 데이터 파일(예: csvAssistant에서 생성된 데이터가 포함된 파일)\n",
    "  \n",
    "file_id를 읽고 Code Interpreter가 이미지를 생성하면 Assistant Message 응답 필드 에서 이 파일을 찾아 다운로드할 수 있습니다 ."
   ]
  },
  {
   "cell_type": "code",
   "execution_count": 88,
   "id": "c6ca503e-28c5-42ec-94c4-2913dabd287a",
   "metadata": {},
   "outputs": [],
   "source": [
    "thread = client.beta.threads.create(\n",
    "  messages=[\n",
    "    {\n",
    "      \"role\": \"user\",\n",
    "      \"content\": \"학생정보를 나이와 학년 분포를 막대그래프로 시각화해서 이미지로 만들어줘. 이미지에는 한글이 들어가지 않도록 영문으로 만들어줘.\",\n",
    "      \"attachments\": [\n",
    "        {\n",
    "          \"file_id\": file.id,\n",
    "          \"tools\": [{\"type\": \"code_interpreter\"}]\n",
    "        }\n",
    "      ]\n",
    "    }\n",
    "  ]\n",
    ")"
   ]
  },
  {
   "cell_type": "code",
   "execution_count": 89,
   "id": "0d6579b0-7ea0-40a4-8d0f-440ab3b569be",
   "metadata": {},
   "outputs": [],
   "source": [
    "run = client.beta.threads.runs.create_and_poll(\n",
    "  thread_id=thread.id,  # 실행할 스레드의 ID\n",
    "  assistant_id=assistant.id,  # 실행할 어시스턴트의 ID\n",
    "  instructions=\"사용자를 고객님이라고 부르세요. 이 사용자는 프리미엄 계정을 가지고 있습니다.\",   # 어시스턴트에게 제공할 지시사항\n",
    ")"
   ]
  },
  {
   "cell_type": "code",
   "execution_count": 90,
   "id": "b4e4d415-710a-4f1d-beab-fdc376f3d8cf",
   "metadata": {},
   "outputs": [
    {
     "name": "stdout",
     "output_type": "stream",
     "text": [
      "SyncCursorPage[Message](data=[Message(id='msg_Kz6n92JX1hDBK7gbEMJ3b6RM', assistant_id='asst_4oVbn6fFnuUywx3Ymp7LmDCD', attachments=[Attachment(file_id='file-TFL1hFr76eVGDWRsvvAOtkGs', tools=[CodeInterpreterTool(type='code_interpreter')])], completed_at=None, content=[TextContentBlock(text=Text(annotations=[FilePathAnnotation(end_index=165, file_path=FilePath(file_id='file-TFL1hFr76eVGDWRsvvAOtkGs'), start_index=121, text='sandbox:/mnt/data/age_grade_distribution.png', type='file_path')], value='고객님, 학생의 나이와 학년 분포를 나타낸 막대 그래프 이미지를 생성하였습니다. 아래의 링크를 통해 이미지를 다운로드하실 수 있습니다.\\n\\n[Download Age and Grade Distribution Image](sandbox:/mnt/data/age_grade_distribution.png)'), type='text')], created_at=1730531888, incomplete_at=None, incomplete_details=None, metadata={}, object='thread.message', role='assistant', run_id='run_X5WAvEPeR5li6xh8NRbiqJNb', status=None, thread_id='thread_6ExwGYsGKB1xhCdVFrZV1tcp'), Message(id='msg_yoBfTCcwumiJbpyvlGdrdCtc', assistant_id='asst_4oVbn6fFnuUywx3Ymp7LmDCD', attachments=[], completed_at=None, content=[TextContentBlock(text=Text(annotations=[], value='고객님, 데이터는 다음과 같은 구조로 되어 있습니다:\\n\\n- **name**: 학생 이름\\n- **age**: 학생 나이\\n- **grade**: 학생 학년\\n\\n데이터를 통해 나이와 학년 분포를 막대 그래프로 시각화하겠습니다. 이를 위해 각 학년별 나이를 집계하여 그래프를 생성한 다음 이미지를 만들겠습니다.'), type='text')], created_at=1730531877, incomplete_at=None, incomplete_details=None, metadata={}, object='thread.message', role='assistant', run_id='run_X5WAvEPeR5li6xh8NRbiqJNb', status=None, thread_id='thread_6ExwGYsGKB1xhCdVFrZV1tcp'), Message(id='msg_gWFLO7EMEMwHNu8jcYQZfMQ0', assistant_id=None, attachments=[Attachment(file_id='file-zHiYN4Jg2kLpwzea345GF9g8', tools=[CodeInterpreterTool(type='code_interpreter')])], completed_at=None, content=[TextContentBlock(text=Text(annotations=[], value='학생정보를 나이와 학년 분포를 막대그래프로 시각화해서 이미지로 만들어줘. 이미지에는 한글이 들어가지 않도록 영문으로 만들어줘.'), type='text')], created_at=1730531872, incomplete_at=None, incomplete_details=None, metadata={}, object='thread.message', role='user', run_id=None, status=None, thread_id='thread_6ExwGYsGKB1xhCdVFrZV1tcp')], object='list', first_id='msg_Kz6n92JX1hDBK7gbEMJ3b6RM', last_id='msg_gWFLO7EMEMwHNu8jcYQZfMQ0', has_more=False)\n"
     ]
    }
   ],
   "source": [
    "# 실행 상태 확인\n",
    "if run.status == 'completed': \n",
    "  messages = client.beta.threads.messages.list(\n",
    "    thread_id=thread.id\n",
    "  )\n",
    "  print(messages)\n",
    "else:\n",
    "  print(run.status)"
   ]
  },
  {
   "cell_type": "code",
   "execution_count": 91,
   "id": "943fc6c4-e68f-4552-a013-cd699bcb3eb4",
   "metadata": {},
   "outputs": [
    {
     "name": "stdout",
     "output_type": "stream",
     "text": [
      "role: user\n",
      "학생정보를 나이와 학년 분포를 막대그래프로 시각화해서 이미지로 만들어줘. 이미지에는 한글이 들어가지 않도록 영문으로 만들어줘.\n",
      "------------------------------------------------------------------------------------------------------------------------------------------------------\n",
      "role: assistant\n",
      "고객님, 데이터는 다음과 같은 구조로 되어 있습니다:\n",
      "\n",
      "- **name**: 학생 이름\n",
      "- **age**: 학생 나이\n",
      "- **grade**: 학생 학년\n",
      "\n",
      "데이터를 통해 나이와 학년 분포를 막대 그래프로 시각화하겠습니다. 이를 위해 각 학년별 나이를 집계하여 그래프를 생성한 다음 이미지를 만들겠습니다.\n",
      "------------------------------------------------------------------------------------------------------------------------------------------------------\n",
      "role: assistant\n",
      "고객님, 학생의 나이와 학년 분포를 나타낸 막대 그래프 이미지를 생성하였습니다. 아래의 링크를 통해 이미지를 다운로드하실 수 있습니다.\n",
      "\n",
      "[Download Age and Grade Distribution Image](sandbox:/mnt/data/age_grade_distribution.png)\n",
      "------------------------------------------------------------------------------------------------------------------------------------------------------\n"
     ]
    }
   ],
   "source": [
    "# messages 객체의 데이터에서 role과 content 값을 추출하여 리스트에 저장\n",
    "values = [(messages.data[i].role, messages.data[i].content[0].text.value) for i in range(len(messages.data)-1, -1, -1)]\n",
    "\n",
    "# 추출한 값들을 출력\n",
    "for role, value in values:\n",
    "    print(f\"role: {role}\")  # 역할(role) 출력\n",
    "    print(value)  # 내용(value) 출력\n",
    "    print(150*\"-\")  # 구분선 출력"
   ]
  },
  {
   "cell_type": "code",
   "execution_count": 92,
   "id": "0c427522-b838-4e01-8d6d-fa55c0cb1afb",
   "metadata": {},
   "outputs": [
    {
     "data": {
      "text/plain": [
       "'file-TFL1hFr76eVGDWRsvvAOtkGs'"
      ]
     },
     "execution_count": 92,
     "metadata": {},
     "output_type": "execute_result"
    }
   ],
   "source": [
    "file_id = messages.data[0].content[0].text.annotations[0].file_path.file_id\n",
    "file_id"
   ]
  },
  {
   "cell_type": "code",
   "execution_count": 93,
   "id": "9297bb65-06f0-4862-9d78-f10b6e808b57",
   "metadata": {},
   "outputs": [],
   "source": [
    "# 클라이언트 파일에서 이미지 데이터를 가져옴\n",
    "image_data = client.files.content(file_id)\n",
    "\n",
    "# 이미지 데이터를 바이트 형태로 읽음\n",
    "image_data_bytes = image_data.read()\n",
    "\n",
    "# \"output\" 디렉토리에 파일 생성\n",
    "with open(\"output/my-image.png\", \"wb\") as file:\n",
    "    file.write(image_data_bytes)"
   ]
  },
  {
   "cell_type": "markdown",
   "id": "d1f95646-1381-41a7-b488-ab61880369f6",
   "metadata": {},
   "source": [
    "### Code Interpreter의 입력 및 출력 로그"
   ]
  },
  {
   "cell_type": "code",
   "execution_count": 94,
   "id": "35fb511f-0ef3-4293-a46f-d2d96a641fba",
   "metadata": {},
   "outputs": [
    {
     "data": {
      "text/plain": [
       "{'id': 'step_IzCK1rkURYbhZu8nS6awsh4B',\n",
       " 'assistant_id': 'asst_4oVbn6fFnuUywx3Ymp7LmDCD',\n",
       " 'cancelled_at': None,\n",
       " 'completed_at': 1730531889,\n",
       " 'created_at': 1730531888,\n",
       " 'expired_at': None,\n",
       " 'failed_at': None,\n",
       " 'last_error': None,\n",
       " 'metadata': None,\n",
       " 'object': 'thread.run.step',\n",
       " 'run_id': 'run_X5WAvEPeR5li6xh8NRbiqJNb',\n",
       " 'status': 'completed',\n",
       " 'step_details': MessageCreationStepDetails(message_creation=MessageCreation(message_id='msg_Kz6n92JX1hDBK7gbEMJ3b6RM'), type='message_creation'),\n",
       " 'thread_id': 'thread_6ExwGYsGKB1xhCdVFrZV1tcp',\n",
       " 'type': 'message_creation',\n",
       " 'usage': Usage(completion_tokens=59, prompt_tokens=1252, total_tokens=1311),\n",
       " 'expires_at': None}"
      ]
     },
     "execution_count": 94,
     "metadata": {},
     "output_type": "execute_result"
    }
   ],
   "source": [
    "run_steps = client.beta.threads.runs.steps.list(\n",
    "  thread_id=thread.id,\n",
    "  run_id=run.id\n",
    ")\n",
    "\n",
    "vars(run_steps.data[0])"
   ]
  },
  {
   "cell_type": "markdown",
   "id": "b05d5859-0edd-41f4-ae67-85a333e79a80",
   "metadata": {},
   "source": [
    "## 실습: 다음과 같이 수정하여 실행\n",
    "\n",
    "Assistant - 개인 재무상담 봇  \n",
    "Thread - 내 집 마련 계획  \n",
    "\n",
    "각자의 Prompt를 작성하여 API 실행"
   ]
  },
  {
   "cell_type": "code",
   "execution_count": null,
   "id": "f6dff701-24a5-44f6-bd4b-27e315d39ed4",
   "metadata": {},
   "outputs": [],
   "source": []
  }
 ],
 "metadata": {
  "kernelspec": {
   "display_name": "Python 3 (ipykernel)",
   "language": "python",
   "name": "python3"
  },
  "language_info": {
   "codemirror_mode": {
    "name": "ipython",
    "version": 3
   },
   "file_extension": ".py",
   "mimetype": "text/x-python",
   "name": "python",
   "nbconvert_exporter": "python",
   "pygments_lexer": "ipython3",
   "version": "3.9.21"
  }
 },
 "nbformat": 4,
 "nbformat_minor": 5
}
