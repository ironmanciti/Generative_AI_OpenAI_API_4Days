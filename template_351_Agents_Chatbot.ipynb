{
 "cells": [
  {
   "cell_type": "markdown",
   "id": "a3e58e37-9329-46e0-afcc-a9ce9fd23940",
   "metadata": {},
   "source": [
    "# 대화형 Agent 구성"
   ]
  },
  {
   "cell_type": "code",
   "execution_count": null,
   "id": "a1ed4895",
   "metadata": {},
   "outputs": [],
   "source": [
    "# pip install openai-agents"
   ]
  },
  {
   "cell_type": "code",
   "execution_count": null,
   "id": "8e6d06d1",
   "metadata": {},
   "outputs": [],
   "source": []
  },
  {
   "cell_type": "markdown",
   "id": "ca1aa339-6c05-4eb0-ab56-327d69d93abf",
   "metadata": {},
   "source": [
    "### 대화형 Agent"
   ]
  },
  {
   "cell_type": "code",
   "execution_count": null,
   "id": "2f6fec1c",
   "metadata": {},
   "outputs": [],
   "source": [
    "    # 간단한 에이전트 정의\n",
    "    # 고유한 대화 추적 그룹 ID 생성\n",
    "    # 대화 히스토리를 담을 리스트 (초기에는 비어 있음)\n",
    "    # 트레이싱 컨텍스트 내에서 실행\n",
    "            # 사용자 입력 받기\n",
    "            # 입력을 이전 대화 기록과 함께 구성\n",
    "            # 에이전트 실행\n",
    "            # 에이전트 응답 출력\n",
    "            # 대화 기록 업데이트\n",
    "# 비동기 함수 실행 (노트북에서는 asyncio.run 대신 await main() 사용 가능)"
   ]
  },
  {
   "cell_type": "code",
   "execution_count": null,
   "id": "23affde7",
   "metadata": {},
   "outputs": [],
   "source": []
  }
 ],
 "metadata": {
  "kernelspec": {
   "display_name": "Python 3 (ipykernel)",
   "language": "python",
   "name": "python3"
  },
  "language_info": {
   "codemirror_mode": {
    "name": "ipython",
    "version": 3
   },
   "file_extension": ".py",
   "mimetype": "text/x-python",
   "name": "python",
   "nbconvert_exporter": "python",
   "pygments_lexer": "ipython3",
   "version": "3.9.21"
  }
 },
 "nbformat": 4,
 "nbformat_minor": 5
}
