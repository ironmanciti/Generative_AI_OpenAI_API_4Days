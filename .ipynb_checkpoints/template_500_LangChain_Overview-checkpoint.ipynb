{
 "cells": [
  {
   "cell_type": "markdown",
   "id": "b1110c45",
   "metadata": {
    "id": "2TypDOiTPbjE"
   },
   "source": [
    "# LangChain 기능 소개\n",
    "\n",
    "- 1. 프롬프트 템플릿과 로더를 사용하여 체인 구성  \n",
    "- 2. Runnable과 LangChain 표현 언어  \n",
    "- 3. RAG 체인 구축  \n",
    "- 4. 체인이 달린 도구 사용  "
   ]
  },
  {
   "cell_type": "markdown",
   "id": "c644340c",
   "metadata": {
    "id": "TOUiSLMxPzZY"
   },
   "source": [
    "## LangChain 개요\n",
    "\n",
    "LangChain으로 개발된 애플리케이션은 일반적으로 세 가지 범주로 나뉩니다.\n",
    "\n",
    "- 챗봇 : LLM을 이용하여 보다 지능적인 마케팅, 고객 지원, 교육 상호작용 구현.\n",
    "- 검색 증강 생성(RAG) Q&A : 대용량 문서 요약, 데이터 분석, 외부 소스를 참조하여 코드 생성에 사용.\n",
    "- 에이전트 시스템은 다중 에이전트 설정과 인간 상호작용을 포함하며 복잡한 워크플로우를 위해 LangGraph를 활용. 공급망 관리 및 운영 최적화와 같은 분야에 적용 가능.\n",
    "\n",
    "LangChain은 자연어를 실행 가능한 프로그램으로 변환하는 파이프라인을 생성할 수 있게 합니다. 이러한 체인을 활용함으로써 사용자는 자연어를 입력하고 보고서, 분석 또는 컴퓨터 프로그램과 같은 출력을 받을 수 있습니다."
   ]
  },
  {
   "cell_type": "code",
   "execution_count": null,
   "id": "5e677d33",
   "metadata": {},
   "outputs": [],
   "source": [
    "# !pip install -qU \\\n",
    "# python-dotenv \\\n",
    "# langchain \\\n",
    "# langchain-community \\\n",
    "# openai \\\n",
    "# anthropic \\\n",
    "# langchain-openai \\\n",
    "# langchain-anthropic \\\n",
    "# langchain-google-genai"
   ]
  },
  {
   "cell_type": "code",
   "execution_count": null,
   "id": "77466f98",
   "metadata": {},
   "outputs": [],
   "source": [
    "# env 파일에서 API 키를 로드"
   ]
  },
  {
   "cell_type": "markdown",
   "id": "b715f7c7",
   "metadata": {
    "id": "XEi1gjmpW8ab"
   },
   "source": [
    "## LLM 연결\n",
    "\n",
    "OpenAI 및 Anthropic API에 연결합니다. 원하는 모델을 지정하여 ChatOpenAI 및 ChatAnthropic 클래스의 인스턴스를 만듭니다. llm_claude3 인스턴스를 사용하여 간단한 쿼리를 호출하여 설정을 확인합니다."
   ]
  },
  {
   "cell_type": "code",
   "execution_count": null,
   "id": "a59ac91e",
   "metadata": {},
   "outputs": [],
   "source": []
  },
  {
   "cell_type": "code",
   "execution_count": null,
   "id": "602f780f",
   "metadata": {},
   "outputs": [],
   "source": []
  },
  {
   "cell_type": "code",
   "execution_count": null,
   "id": "6bb863c9",
   "metadata": {},
   "outputs": [],
   "source": []
  },
  {
   "cell_type": "code",
   "execution_count": null,
   "id": "af336e76",
   "metadata": {},
   "outputs": [],
   "source": []
  },
  {
   "cell_type": "markdown",
   "id": "dc49a5b7",
   "metadata": {},
   "source": [
    "### Messages\n",
    "- Message: AI(인공지능) 모델이 생성한 메시지를 나타냅니다.  \n",
    "예를 들어, AI 모델이 사용자의 질문에 대해 응답을 생성할 때 이 클래스가 사용됩니다.\n",
    "\n",
    "- manMessage: 사람(사용자)이 생성한 메시지를 나타냅니다.  \n",
    "사용자가 입력한 텍스트나 질문 등이 여기에 해당됩니다.\n",
    "\n",
    "- stemMessage: AI 행동을 프라이밍하기 위한 메시지.\n",
    "시스템 메시지는 일반적으로 일련의 입력 메시지 중 첫 번째로 전달됩니다. 일반적으로 대화의 흐름을 제어하거나 특정 지침을 제공하기 위해 사용됩니다.\n",
    "\n",
    "** 프라이밍(Priming)은 시스템 메시지에서 특정 행동이나 반응을 유도하기 위해 미리 정보를 제공하거나 맥락을 설정하는 방법"
   ]
  },
  {
   "cell_type": "code",
   "execution_count": null,
   "id": "2ae3cae5",
   "metadata": {},
   "outputs": [],
   "source": []
  },
  {
   "cell_type": "code",
   "execution_count": null,
   "id": "9f25dff3",
   "metadata": {},
   "outputs": [],
   "source": [
    "# system과 human/user 메시지를 이용한 기본 요청"
   ]
  },
  {
   "cell_type": "code",
   "execution_count": null,
   "id": "86b6716d",
   "metadata": {},
   "outputs": [],
   "source": []
  },
  {
   "cell_type": "code",
   "execution_count": null,
   "id": "772af5fd",
   "metadata": {},
   "outputs": [],
   "source": [
    "# import textwrap\n",
    "# #텍스트를 지정된 너비에 맞게 줄 바꿈하여 하나의 문자열로 반환\n",
    "# answer = textwrap.fill(response.content, width=100)\n",
    "# print(answer)"
   ]
  },
  {
   "cell_type": "code",
   "execution_count": null,
   "id": "478f1ec0",
   "metadata": {},
   "outputs": [],
   "source": []
  },
  {
   "cell_type": "markdown",
   "id": "139a670d",
   "metadata": {},
   "source": [
    "### 수학 선생님"
   ]
  },
  {
   "cell_type": "code",
   "execution_count": null,
   "id": "c1955782",
   "metadata": {},
   "outputs": [],
   "source": []
  },
  {
   "cell_type": "code",
   "execution_count": null,
   "id": "f22e3f67",
   "metadata": {},
   "outputs": [],
   "source": []
  },
  {
   "cell_type": "markdown",
   "id": "9a93db34",
   "metadata": {},
   "source": [
    "### Chat Model을 이용한 Conversation 구현"
   ]
  },
  {
   "cell_type": "code",
   "execution_count": null,
   "id": "bfdf4597",
   "metadata": {},
   "outputs": [],
   "source": [
    "# 채팅 기록을 저장할 리스트를 초기화\n",
    "# 시스템 메시지를 생성하여 채팅 기록에 추가\n",
    "# 무한 루프 시작\n",
    "    # 사용자로부터 입력을 받음\n",
    "    # 사용자가 \"quit\"를 입력하면 루프를 종료\n",
    "    # 사용자 메시지를 채팅 기록에 추가\n",
    "    # llm_gpt4 모델을 사용하여 응답을 생성\n",
    "    # AI 응답을 채팅 기록에 추가\n",
    "    # AI 응답을 출력\n",
    "# 전체 대화 기록을 출력"
   ]
  },
  {
   "cell_type": "markdown",
   "id": "449e62ce",
   "metadata": {
    "id": "2fi6_NvW3MaE"
   },
   "source": [
    "##  1. 프롬프트 템플릿과 로더를 사용하여 체인 구성  \n",
    "\n",
    "- LLM에서의 Chain 은 Data Processing 에서의 Pipeline 과 유사한 개념"
   ]
  },
  {
   "cell_type": "markdown",
   "id": "6f4b638f",
   "metadata": {
    "id": "G447ezl5X5ye"
   },
   "source": [
    "### 체인의 구성 요소 - Runnables\n",
    "- 프롬프트 : LLM의 응답을 안내하는 템플릿  \n",
    "- LLM 또는 채팅 모델 : 프롬프트에 따라 응답을 생성하는 엔진  \n",
    "- 출력 파서 : LLM의 출력을 파싱하는 도구  \n",
    "- 도구 : LLM이 API에서 추가 정보를 추출하거나 코드를 실행하여 LLM을 에이전트로 전환할 수 있게 해주는 확장 기능  \n",
    "- 일반 함수 : 서로 연결될 수 있는 추가적인 일반 함수"
   ]
  },
  {
   "cell_type": "code",
   "execution_count": null,
   "id": "3bb95396",
   "metadata": {},
   "outputs": [],
   "source": [
    "# simple prompt template 생성\n",
    "# {topic} 변수에서 사용자의 query 가 대체된다.\n",
    "# prompt template 을 이용하여 prompt 생성"
   ]
  },
  {
   "cell_type": "code",
   "execution_count": null,
   "id": "850f7520",
   "metadata": {},
   "outputs": [],
   "source": [
    "# pipe operator \"|\"\" 를 이용하여 하나 이상의 chain 을 결합"
   ]
  },
  {
   "cell_type": "markdown",
   "id": "065fb7f5",
   "metadata": {
    "id": "EJzXNZCnZRCr"
   },
   "source": [
    "### document loader 를 이용하여 script 요약\n",
    "더 고급 체인을 만들기 위해 LangChain을 사용하여 YouTube 비디오를 필사합니다. 먼저 YouTube Transcript API를 설치합니다. 그런 다음 LangChain의 커뮤니티 문서 로더에서 YouTube Loader를 가져옵니다. 로더에 비디오 URL을 전달하면 필사본을 추출할 수 있으며, 이는 문서 목록으로 반환됩니다. 원시 필사본을 얻으려면 이러한 문서에서 페이지 콘텐츠를 추출하거나 문서를 체인에 직접 전달하기만 하면 됩니다."
   ]
  },
  {
   "cell_type": "code",
   "execution_count": null,
   "id": "880d9fe1",
   "metadata": {},
   "outputs": [],
   "source": [
    "# !pip install --upgrade --quiet youtube-transcript-api"
   ]
  },
  {
   "cell_type": "code",
   "execution_count": null,
   "id": "8219ae23",
   "metadata": {},
   "outputs": [],
   "source": [
    "# LangChain 커뮤니티에서 제공하는 Youtube Loader를 임포트\n",
    "# YoutubeLoader를 사용하여 유튜브 URL에서 로더를 생성\n",
    "# 비디오의 자막을 문서로 로드"
   ]
  },
  {
   "cell_type": "code",
   "execution_count": null,
   "id": "a2e9ed41",
   "metadata": {},
   "outputs": [],
   "source": []
  },
  {
   "cell_type": "markdown",
   "id": "f37a3dbf",
   "metadata": {
    "id": "oEScwvtSck_C"
   },
   "source": [
    "이제, 대본이 주어진 YouTube 비디오를 요약하는 체인을 설정해 보겠습니다. 비디오 대본을 입력 변수로 프롬프트 템플릿에 주입한 다음 파이프 연산자를 사용하여 체인을 설정합니다. 비디오 대본으로 호출하면 원시 텍스트를 수동으로 추출하지 않고도 간결한 요약을 얻을 수 있습니다."
   ]
  },
  {
   "cell_type": "code",
   "execution_count": null,
   "id": "baee12da",
   "metadata": {},
   "outputs": [],
   "source": [
    "# 전사된 내용을 chain에 사용합니다.\n",
    "# prompt template 생성\n",
    "# prompt instance 생성"
   ]
  },
  {
   "cell_type": "code",
   "execution_count": null,
   "id": "aa5539dc",
   "metadata": {},
   "outputs": [],
   "source": [
    "# chain 생성"
   ]
  },
  {
   "cell_type": "code",
   "execution_count": null,
   "id": "14814e0c",
   "metadata": {},
   "outputs": [],
   "source": []
  },
  {
   "cell_type": "markdown",
   "id": "53112957",
   "metadata": {
    "id": "BWWyBVnI82BW"
   },
   "source": [
    "### Built-in Chains 이용 예\n",
    "\n",
    "- create_stuff_documents_chain : 모델에 문서 목록을 전달하기 위한 체인을 생성"
   ]
  },
  {
   "cell_type": "code",
   "execution_count": null,
   "id": "b9130a3f",
   "metadata": {},
   "outputs": [],
   "source": [
    "# create_stuff_documents_chain은 문서 목록을 받아 모두 하나의 프롬프트로 형식화합니다.\n",
    "# create_stuff_documents_chain 의 input variable 이름은 context 여야 합니다.\n",
    "# prompt instance 생성\n",
    "# chain 생성"
   ]
  },
  {
   "cell_type": "code",
   "execution_count": null,
   "id": "c348dc5e",
   "metadata": {},
   "outputs": [],
   "source": []
  },
  {
   "cell_type": "markdown",
   "id": "2a9e39ea",
   "metadata": {},
   "source": [
    "## 2. Runnable과 LangChain 표현 언어  \n",
    "\n",
    "- LCEL(LangChain Expression Language) 는 Runnables 를 chain 으로 구성하는 방법\n",
    "\n",
    "LCEL은 기본 구성 요소에서 복잡한 체인을 구축하는 것을 간소화합니다. 파이프 연산자(|)를 사용하여 다양한 구성 요소를 체인으로 연결하고 한 요소에서 다음 요소로 출력을 공급합니다. 이런 방식으로 구성된 체인의 간단한 예로는 모델과 출력 파서가 결합된 프롬프트가 있습니다.  이러한 구성 요소들을 runnables 라고 부릅니다.  \n",
    "\n",
    "`chain=prompt | model | output_parser`\n",
    "\n",
    "- Chain 구성  \n",
    "    - 체인에 대한 입력(일반적으로 사전)\n",
    "    - 입력은 프롬프트로 전송됩니다.\n",
    "    - 프롬프트 값은 LLM 또는 채팅 모델로 전송됩니다.\n",
    "    - Chatmodel이 채팅 메시지를 반환합니다.\n",
    "    - 파서는 채팅 메시지에서 문자열을 추출합니다.\n",
    "    - 문자열은 체인의 출력입니다\n",
    "\n",
    "- LangChain의 runnable 객체들:\n",
    "\n",
    "    - RunnableSequence : 여러 runnable 구성 요소를 연결하여 각 구성 요소가 입력을 처리하고 출력을 다음 구성 요소에 전달\n",
    "    - RunnableLambda : Python의 호출 가능한 요소(함수 등)를 실행 가능한 구성 요소로 바꿔서 체인으로 통합\n",
    "    - RunnablePassthrough : 입력을 변경하지 않고 통과시키거나 출력에 추가 키를 추가. placeholder 역할을 하거나 시퀀스에 유연하게 통합할 수 있다.\n",
    "    - RunnableParallel : 여러 개의 실행 파일을 동시에 실행하여 두 개의 체인이 동일한 입력에서 실행되지만 다른 출력을 반환하는 분기를 허용."
   ]
  },
  {
   "cell_type": "markdown",
   "id": "1bec15cd",
   "metadata": {},
   "source": [
    "### Runnables"
   ]
  },
  {
   "cell_type": "code",
   "execution_count": null,
   "id": "4063e6a0",
   "metadata": {},
   "outputs": [],
   "source": []
  },
  {
   "cell_type": "markdown",
   "id": "ea77eaf8",
   "metadata": {
    "id": "InN3aD1qGwmD"
   },
   "source": [
    "###  \"|\" 연산자를 이용하여 Runnable Sequence chain 생성"
   ]
  },
  {
   "cell_type": "code",
   "execution_count": null,
   "id": "a3a68caf",
   "metadata": {},
   "outputs": [],
   "source": []
  },
  {
   "cell_type": "code",
   "execution_count": null,
   "id": "fa024234",
   "metadata": {},
   "outputs": [],
   "source": []
  },
  {
   "cell_type": "markdown",
   "id": "a56cd1ff",
   "metadata": {
    "id": "j_VLKGZ1HO7d"
   },
   "source": [
    "### RunnableLambda 사용"
   ]
  },
  {
   "cell_type": "code",
   "execution_count": null,
   "id": "db280c0f",
   "metadata": {},
   "outputs": [],
   "source": [
    "# RunnableLambda를 사용하여 Python 함수를 체인에 삽입합니다.\n",
    "# 사용자 정의 람다 함수를 정의하고 이를 RunnableLambda에 래핑합니다."
   ]
  },
  {
   "cell_type": "code",
   "execution_count": null,
   "id": "f7c473bb",
   "metadata": {},
   "outputs": [],
   "source": []
  },
  {
   "cell_type": "code",
   "execution_count": null,
   "id": "d69b6b4f",
   "metadata": {},
   "outputs": [],
   "source": []
  },
  {
   "cell_type": "markdown",
   "id": "7cdf6e01",
   "metadata": {},
   "source": [
    "&nbsp;"
   ]
  },
  {
   "cell_type": "markdown",
   "id": "f900d445",
   "metadata": {
    "id": "E8q2V33ttqTg"
   },
   "source": [
    "함수를 명시적으로 RunnableLambda로 변환하지 않고도 체인에서 함수를 사용할 수 있습니다"
   ]
  },
  {
   "cell_type": "code",
   "execution_count": null,
   "id": "2c457762",
   "metadata": {},
   "outputs": [],
   "source": [
    "# RunnableLambda로 변환하지 않고 체인에서 함수 사용"
   ]
  },
  {
   "cell_type": "code",
   "execution_count": null,
   "id": "3fb37220",
   "metadata": {},
   "outputs": [],
   "source": []
  },
  {
   "cell_type": "markdown",
   "id": "d9eaae05",
   "metadata": {
    "id": "ktwM5hWrOTvQ"
   },
   "source": [
    "### placeholder 로 사용되는 RunnablePassthrough\n",
    "\n",
    "체인 내에서 데이터를 변경하지 않고 다음 단계로 전달하는 데 사용됩니다. 주로 디버깅하거나 체인의 특정 부분을 테스트할 때 유용합니다."
   ]
  },
  {
   "cell_type": "code",
   "execution_count": null,
   "id": "b177fc1d",
   "metadata": {},
   "outputs": [],
   "source": [
    "# RunnablePassthrough instance 생성\n",
    "# 요약 및 길이 계산과 함께 파이프 연산자를 사용하여 시퀀스 생성"
   ]
  },
  {
   "cell_type": "code",
   "execution_count": null,
   "id": "73cc2621",
   "metadata": {},
   "outputs": [],
   "source": []
  },
  {
   "cell_type": "markdown",
   "id": "c224b7b7",
   "metadata": {
    "id": "YOnoJI94Pu0Z"
   },
   "source": [
    "### RunnablePassthrough for assignment\n",
    "- 데이터를 그대로 통과시키는 역할을 하면서 추가적으로 특정 키에 값을 할당\n",
    "- 체인을 통과하는 데이터에 \"요약\" 필드의 길이를 계산하고 length라는 키로 추가"
   ]
  },
  {
   "cell_type": "code",
   "execution_count": null,
   "id": "0bdaacea",
   "metadata": {},
   "outputs": [],
   "source": [
    "# 요약을 dictionary로 변환하는 사용자 정의 람다 함수 정의\n",
    "# Dict 입력에 mapping argument를 merge RunnablePassthrough 인스턴스 생성\n",
    "# summarization chain 생성\n",
    "# 요약과 assign_passthrough를 결합하여 전체 체인을 생성\n",
    "# Use the chain"
   ]
  },
  {
   "cell_type": "code",
   "execution_count": null,
   "id": "187800c7",
   "metadata": {},
   "outputs": [],
   "source": []
  },
  {
   "cell_type": "markdown",
   "id": "dff8e4d9",
   "metadata": {
    "id": "87QUb996RXRC"
   },
   "source": [
    "### RunnableParallel \n",
    "- 체인의 특정 단계에서 입력을 동시에 여러 작업에 전달하고 각각의 결과를 수집하여 반환합니다"
   ]
  },
  {
   "cell_type": "code",
   "execution_count": null,
   "id": "0bd8ac5a",
   "metadata": {},
   "outputs": [],
   "source": [
    "#summarization chain 생성\n",
    "# summary 와 길이 계산을 병렬로 처리하기 위해 RunnableParallel 인스턴스를 만듭니다.\n",
    "# parellel runnable과 summarization 결합"
   ]
  },
  {
   "cell_type": "markdown",
   "id": "e723bd77",
   "metadata": {
    "id": "B2s-x-iRvWrY"
   },
   "source": [
    "## 3. RAG Chain 만들기\n",
    "\n",
    "RAG는 외부 데이터로 대형 언어 모델(LLM)의 지식을 증강하는 기술입니다. RAG 애플리케이션은 두 단계로 구축할 수 있습니다:   \n",
    "   \n",
    "1) 외부 데이터 색인화   \n",
    "2) 검색 및 출력 생성."
   ]
  },
  {
   "cell_type": "code",
   "execution_count": null,
   "id": "b10a5e04",
   "metadata": {},
   "outputs": [],
   "source": [
    "# !pip install -U langchain-chroma"
   ]
  },
  {
   "cell_type": "code",
   "execution_count": null,
   "id": "56cc6441",
   "metadata": {},
   "outputs": [],
   "source": [
    "# directory 경로 정의"
   ]
  },
  {
   "cell_type": "code",
   "execution_count": null,
   "id": "14db75f1",
   "metadata": {},
   "outputs": [],
   "source": [
    "# Step 1: WebBaseLoader를 사용하여 apple.com에서 콘텐츠 스크래핑\n",
    "# WebBaseLoader는 웹 페이지를 로드하고 해당 내용을 추출합니다.\n",
    "# 웹 콘텐츠에 대한 로더를 만듭니다\n",
    "# Step 2: 스크래핑된 콘텐츠를 청크로 분할\n",
    "# CharacterTextSplitter는 텍스트를 더 작은 덩어리로 나눕니다.\n",
    "# 분할된 문서에 대한 정보 표시"
   ]
  },
  {
   "cell_type": "code",
   "execution_count": null,
   "id": "abf5160a",
   "metadata": {},
   "outputs": [],
   "source": [
    "# Step 3: 문서 청크에 대한 임베딩을 만듭니다.\n",
    "# Step 4: 임베딩을 사용하여 벡터 저장소를 생성하고 유지합니다.\n",
    "# Step 5: 벡터 저장소 쿼리\n",
    "# 벡터 저장소를 쿼리하기 위한 검색기 생성"
   ]
  },
  {
   "cell_type": "code",
   "execution_count": null,
   "id": "e2825f34",
   "metadata": {},
   "outputs": [],
   "source": []
  },
  {
   "cell_type": "code",
   "execution_count": null,
   "id": "914fdfca",
   "metadata": {},
   "outputs": [],
   "source": [
    "    # \"context\"는 입력 데이터에서 'question' 값을 가져오고, 이를 retriever에 전달하여 유사한 문서 검색"
   ]
  },
  {
   "cell_type": "code",
   "execution_count": null,
   "id": "6775b975",
   "metadata": {},
   "outputs": [],
   "source": []
  },
  {
   "cell_type": "markdown",
   "id": "0e01ab81",
   "metadata": {},
   "source": [
    "## 4. 체인이 달린 도구 사용  \n",
    "\n",
    "- 도구는 에이전트, 체인 또는 대형 언어 모델(LLM)이 세상과 상호 작용할 수 있게 하는 인터페이스입니다.\n",
    "    - Python REPL, Wikipdedia, YouTube, Zapier, Gradio, etc"
   ]
  },
  {
   "cell_type": "code",
   "execution_count": null,
   "id": "9b0fefa5",
   "metadata": {},
   "outputs": [],
   "source": [
    "# !pip install --upgrade --quiet youtube_search"
   ]
  },
  {
   "cell_type": "code",
   "execution_count": null,
   "id": "8b80442b",
   "metadata": {},
   "outputs": [],
   "source": [
    "# YouTubeSearchTool 인스턴스 생성\n",
    "# 아무 키워드로 유튜브 검색 실행"
   ]
  },
  {
   "cell_type": "code",
   "execution_count": null,
   "id": "629f1e09",
   "metadata": {},
   "outputs": [],
   "source": [
    "# YouTube 도구를 LLM에 바인딩하여 parameter 정보를 알아냄"
   ]
  },
  {
   "cell_type": "code",
   "execution_count": null,
   "id": "227cf211",
   "metadata": {},
   "outputs": [],
   "source": [
    "# llm_with_tools 에서 parameter 정보를 알아낸다"
   ]
  },
  {
   "cell_type": "code",
   "execution_count": null,
   "id": "45359c46",
   "metadata": {},
   "outputs": [],
   "source": []
  },
  {
   "cell_type": "code",
   "execution_count": null,
   "id": "40fb923c",
   "metadata": {},
   "outputs": [],
   "source": [
    "# llm_with_tools에서 추출된 인수로 \n",
    "# YouTubeSearchTool을 사용하여 유튜브 검색 실행한는 chain 생성"
   ]
  },
  {
   "cell_type": "code",
   "execution_count": null,
   "id": "04f5fce0",
   "metadata": {},
   "outputs": [],
   "source": []
  },
  {
   "cell_type": "code",
   "execution_count": null,
   "id": "f82ed25b",
   "metadata": {},
   "outputs": [],
   "source": []
  },
  {
   "cell_type": "code",
   "execution_count": null,
   "id": "3f6820ca",
   "metadata": {},
   "outputs": [],
   "source": []
  }
 ],
 "metadata": {
  "colab": {
   "provenance": []
  },
  "kernelspec": {
   "display_name": "Python 3 (ipykernel)",
   "language": "python",
   "name": "python3"
  },
  "language_info": {
   "codemirror_mode": {
    "name": "ipython",
    "version": 3
   },
   "file_extension": ".py",
   "mimetype": "text/x-python",
   "name": "python",
   "nbconvert_exporter": "python",
   "pygments_lexer": "ipython3",
   "version": "3.9.16"
  }
 },
 "nbformat": 4,
 "nbformat_minor": 5
}
