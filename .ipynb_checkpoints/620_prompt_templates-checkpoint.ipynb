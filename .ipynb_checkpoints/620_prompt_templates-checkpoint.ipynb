{
 "cells": [
  {
   "cell_type": "markdown",
   "metadata": {
    "id": "itgSZDGeuQIw"
   },
   "source": [
    "# Prompt Template"
   ]
  },
  {
   "cell_type": "code",
   "execution_count": 1,
   "metadata": {
    "colab": {
     "base_uri": "https://localhost:8080/"
    },
    "id": "aUUXRmpPTRxB",
    "outputId": "57325999-71b5-4da9-968c-b8fb7893d155"
   },
   "outputs": [],
   "source": [
    "# !pip install -qU \\\n",
    "# python-dotenv \\\n",
    "# langchain \\\n",
    "# langchain-community \\\n",
    "# openai \\\n",
    "# anthropic \\\n",
    "# langchain-openai \\\n",
    "# langchain-anthropic \\\n",
    "# langchain-google-genai"
   ]
  },
  {
   "cell_type": "code",
   "execution_count": 4,
   "metadata": {
    "colab": {
     "base_uri": "https://localhost:8080/"
    },
    "id": "fap_NphGcFQl",
    "outputId": "f87c82bb-7e3a-4c3a-aa98-d91c674173ff"
   },
   "outputs": [
    {
     "data": {
      "text/plain": [
       "True"
      ]
     },
     "execution_count": 4,
     "metadata": {},
     "output_type": "execute_result"
    }
   ],
   "source": [
    "from dotenv import load_dotenv\n",
    "from langchain_openai import ChatOpenAI\n",
    "\n",
    "load_dotenv()"
   ]
  },
  {
   "cell_type": "code",
   "execution_count": 5,
   "metadata": {
    "id": "MyHpEqO6v9Ho"
   },
   "outputs": [],
   "source": [
    "Model = \"gpt-4o-mini-2024-07-18\"\n",
    "\n",
    "model = ChatOpenAI(model=Model)"
   ]
  },
  {
   "cell_type": "code",
   "execution_count": 6,
   "metadata": {
    "colab": {
     "base_uri": "https://localhost:8080/"
    },
    "id": "PPVHZazqxHYu",
    "outputId": "8ebf03b9-4ed9-4a74-d7d0-aecb8086197a"
   },
   "outputs": [
    {
     "name": "stdout",
     "output_type": "stream",
     "text": [
      "{'----------- Prompt with Placeholder -----------'}\n",
      "messages=[HumanMessage(content='\\n    You are a helpful assistant.\\n    Human: 판다곰에 관한 슬픈 이야기를 해 주세요.\\n    Assistant:\\n')]\n"
     ]
    }
   ],
   "source": [
    "from langchain.prompts import ChatPromptTemplate\n",
    "from langchain_core.messages import HumanMessage\n",
    "\n",
    "# 플레이스홀더가 포함된 템플릿 정의\n",
    "template = \"\"\"\n",
    "    You are a helpful assistant.\n",
    "    Human: {animal}에 관한 {adjective} 이야기를 해 주세요.\n",
    "    Assistant:\n",
    "\"\"\"\n",
    "# 템플릿으로부터 ChatPromptTemplate 생성\n",
    "prompt_template = ChatPromptTemplate.from_template(template)\n",
    "\n",
    "# 템플릿에 플레이스홀더 값을 채워서 프롬프트 생성\n",
    "prompt = prompt_template.invoke({\"adjective\": \"슬픈\", \"animal\": \"판다곰\"})\n",
    "\n",
    "# 프롬프트 출력\n",
    "print({\"----------- Prompt with Placeholder -----------\"})\n",
    "print(prompt)"
   ]
  },
  {
   "cell_type": "code",
   "execution_count": 7,
   "metadata": {
    "colab": {
     "base_uri": "https://localhost:8080/"
    },
    "id": "T-UbKNbXPP8e",
    "outputId": "3d65f4f9-7c50-4f56-af3f-b306ba8f6880"
   },
   "outputs": [
    {
     "name": "stdout",
     "output_type": "stream",
     "text": [
      "옛날 옛적, 한 깊은 숲 속에 사랑스러운 판다곰 한 마리가 살고 있었습니다. 이름은 '푸푸'였어요. 푸푸는 항상 밝고 행복한 표정을 지으며, 친구들과 함께 나뭇잎을 먹고 놀며\n",
      "즐거운 시간을 보냈습니다.  하지만 어느 날, 숲에 큰 변화가 찾아왔습니다. 인간들이 숲을 개발하기 시작하면서 푸푸의 집과 친구들이 살던 공간이 점점 줄어들었어요. 푸푸는 자신의\n",
      "소중한 집과 친구들을 잃어가는 것이 너무 슬펐습니다. 나무가 베어지고, 소음이 가득한 곳에서 살게 되자 푸푸는 점점 우울해졌습니다.  푸푸는 다친 친구들을 돌보았지만, 그들 중\n",
      "일부는 더 이상 돌아오지 못했습니다. 푸푸는 그리움에 잠 못 이루는 날들이 많아졌고, 나뭇잎의 맛도 예전 같지 않게 느껴졌습니다. 더 이상 함께 웃고 뛰놀던 친구들이 옆에 없다는\n",
      "사실이 푸푸의 마음을 아프게 했습니다.  그러던 어느 날, 푸푸는 숲 깊숙한 곳에서 작은 새끼 판다를 발견했습니다. 그 새끼 판다는 부모를 잃고 혼자 남겨진 것이었어요. 푸푸는 그\n",
      "작은 판다를 품에 안고 함께 살기로 결심했습니다. 그렇게 두 판다는 서로 의지하며 새로운 가족이 되었고, 푸푸는 다시 조금씩 행복을 느끼기 시작했습니다.  하지만 푸푸는 잃어버린\n",
      "친구들과 숲을 그리워하며, 그들을 위해 매일 밤 노래를 부르기로 했습니다. 그 노래는 슬프면서도 아름다웠고, 그 숲에서 살아가는 모든 생명들에게 전해졌습니다. 푸푸의 노래는 숲의\n",
      "평화를 기원하며, 언젠가 다시 친구들과 함께할 수 있기를 바라는 마음이었습니다.  푸푸는 이제 혼자가 아니었지만, 그 슬픔과 그리움은 언제나 마음 속에 남아 있었습니다. 하지만\n",
      "그는 사랑하는 새끼 판다와 함께 희망을 잃지 않고, 다시 행복한 날들이 오기를 기다렸습니다.\n"
     ]
    }
   ],
   "source": [
    "import textwrap\n",
    "\n",
    "# 모델을 사용하여 프롬프트에 대한 응답을 생성\n",
    "response = model.invoke(prompt)\n",
    "\n",
    "# 응답 내용을 100자 너비로 줄바꿈 처리\n",
    "wrapped_text = textwrap.fill(response.content, width=100)\n",
    "\n",
    "# 줄바꿈 처리된 텍스트를 출력\n",
    "print(wrapped_text)"
   ]
  },
  {
   "cell_type": "code",
   "execution_count": 31,
   "metadata": {
    "colab": {
     "base_uri": "https://localhost:8080/"
    },
    "id": "o03iGReZBTKS",
    "outputId": "2cc4e196-a356-45c0-fb09-2d584a98599b"
   },
   "outputs": [
    {
     "name": "stdout",
     "output_type": "stream",
     "text": [
      "\n",
      "----- Prompt with System and Human Messages ------\n",
      "\n",
      "messages=[SystemMessage(content='당신은 강아지에 대한 농담을 잘하는 코미디언입니다.'), HumanMessage(content='3 개의 농담을 해 주세요.')]\n"
     ]
    }
   ],
   "source": [
    "# Prompt using message\n",
    "messages = [\n",
    "    (\"system\", \"당신은 {topic}에 대한 농담을 잘하는 코미디언입니다.\"),\n",
    "    (\"human\", \"{joke_count} 개의 농담을 해 주세요.\"),\n",
    "]\n",
    "\n",
    "prompt_template = ChatPromptTemplate.from_messages(messages)\n",
    "prompt = prompt_template.invoke({\"topic\": \"강아지\", \"joke_count\": 3})\n",
    "print(\"\\n----- Prompt with System and Human Messages ------\\n\")\n",
    "print(prompt)"
   ]
  },
  {
   "cell_type": "code",
   "execution_count": 32,
   "metadata": {
    "colab": {
     "base_uri": "https://localhost:8080/"
    },
    "id": "-dRnW7ieDU6B",
    "outputId": "b128df16-4fd5-432e-99f6-acbca7095ace"
   },
   "outputs": [
    {
     "name": "stdout",
     "output_type": "stream",
     "text": [
      "1. 왜 강아지가 항상 꼬리를 흔들깁니까? \n",
      "- 자신이 할 말이 없어서 꼬리로 인사를 하는 거예요!\n",
      "\n",
      "2. 강아지가 왜 컴퓨터를 못 쓸까요? \n",
      "- 고양이가 마우스를 쥐어서 주기 때문에요!\n",
      "\n",
      "3. 강아지가 왜 비행기를 탈 수 없을까요? \n",
      "- 비행기 안에서 짖으면 다른 승객들이 모두 깨져버릴 테니까요!\n"
     ]
    }
   ],
   "source": [
    "response = model.invoke(prompt)\n",
    "print(response.content)"
   ]
  },
  {
   "cell_type": "code",
   "execution_count": null,
   "metadata": {
    "id": "48JctDMjOHhV"
   },
   "outputs": [],
   "source": []
  }
 ],
 "metadata": {
  "colab": {
   "provenance": []
  },
  "kernelspec": {
   "display_name": "Python 3 (ipykernel)",
   "language": "python",
   "name": "python3"
  },
  "language_info": {
   "codemirror_mode": {
    "name": "ipython",
    "version": 3
   },
   "file_extension": ".py",
   "mimetype": "text/x-python",
   "name": "python",
   "nbconvert_exporter": "python",
   "pygments_lexer": "ipython3",
   "version": "3.9.16"
  }
 },
 "nbformat": 4,
 "nbformat_minor": 4
}
