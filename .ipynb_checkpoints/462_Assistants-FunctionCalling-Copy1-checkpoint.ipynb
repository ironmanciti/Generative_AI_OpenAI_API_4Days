{
 "cells": [
  {
   "attachments": {},
   "cell_type": "markdown",
   "id": "e0619d6b-69f6-4f0a-91fa-85eebe422e45",
   "metadata": {},
   "source": [
    "# Assistants API - Function Calling(함수 호출)\n",
    "\n",
    "함수 호출을 사용하면 Assistants API에 함수를 설명하고 인수와 함께 호출해야 하는 함수를 지능적으로 반환하도록 할 수 있습니다.\n",
    "\n",
    "이 예에서는 날씨 assistant를 만들고 assistant가 호출할 수 있는 도구로 `get_current_temp`, `get_rain_probability` 함수를 정의합니다. 사용자 쿼리에 따라 모델은 2023년 11월 6일 이후에 출시된 최신 모델을 사용하는 경우 병렬 함수 호출을 호출합니다. 병렬 함수 호출을 사용하는 예시에서는 assistant에게 오늘 특정 도시의 날씨가 어떨지와 비가 올 확률을 물어봅니다. 스트리밍으로 어시스턴트의 응답을 출력하는 방법도 보여줍니다.\n"
   ]
  },
  {
   "cell_type": "code",
   "execution_count": 1,
   "id": "7a0399e0-6377-4e2b-a155-488cb32821ea",
   "metadata": {},
   "outputs": [],
   "source": [
    "import os\n",
    "import openai\n",
    "import sys\n",
    "sys.path.append('./')\n",
    "\n",
    "from dotenv import load_dotenv, find_dotenv\n",
    "_ = load_dotenv(find_dotenv()) # read local .env file"
   ]
  },
  {
   "cell_type": "markdown",
   "id": "c1203d8d-8661-409d-bb54-bbf32979494e",
   "metadata": {},
   "source": [
    "### 1단계: 함수 정의\n",
    "어시스턴트를 생성할 때 먼저 어시스턴트의 tools 매개변수 아래에 기능을 정의합니다."
   ]
  },
  {
   "cell_type": "code",
   "execution_count": 2,
   "id": "772e82b4-fdb8-4a0b-914b-13799011a47d",
   "metadata": {},
   "outputs": [],
   "source": [
    "from openai import OpenAI\n",
    "client = OpenAI()\n",
    "\n",
    "Model = \"gpt-4o-mini\""
   ]
  },
  {
   "cell_type": "code",
   "execution_count": 3,
   "id": "b7a3f2ce-a4e9-48ee-8745-33e76c8fb5c0",
   "metadata": {},
   "outputs": [],
   "source": [
    "assistant = client.beta.assistants.create(\n",
    "  instructions=\"당신은 날씨 봇입니다. 제공된 function을 사용하여 질문에 답하세요.\",\n",
    "  model=Model,\n",
    "  tools=[\n",
    "    {\n",
    "      \"type\": \"function\",\n",
    "      \"function\": {\n",
    "        \"name\": \"get_current_temperature\",\n",
    "        \"description\": \"특정 위치의 현재 온도를 가져옵니다.\",\n",
    "        \"parameters\": {\n",
    "          \"type\": \"object\",\n",
    "          \"properties\": {\n",
    "            \"location\": {\n",
    "              \"type\": \"string\",\n",
    "              \"description\": \"도시/도, e.g., 인천/경기도\"\n",
    "            },\n",
    "              \"unit\": {\n",
    "              \"type\": \"string\",\n",
    "              \"enum\": [\"Celsius\", \"Fahrenheit\"],\n",
    "              \"description\": \"The temperature unit to use. Infer this from the user's location.\"\n",
    "            }\n",
    "          },\n",
    "          \"required\": [\"location\", \"unit\"]\n",
    "        }\n",
    "      }\n",
    "    },\n",
    "    {\n",
    "      \"type\": \"function\",\n",
    "      \"function\": {\n",
    "        \"name\": \"get_rain_probability\",\n",
    "        \"description\": \"특정 지역에 비가 올 확률을 가져옵니다.\",\n",
    "        \"parameters\": {\n",
    "          \"type\": \"object\",\n",
    "          \"properties\": {\n",
    "            \"location\": {\n",
    "              \"type\": \"string\",\n",
    "              \"description\": \"도시/도, e.g., 인천/경기도\"\n",
    "            }\n",
    "          },\n",
    "          \"required\": [\"location\"]\n",
    "        }\n",
    "      }\n",
    "    },\n",
    "  ]\n",
    ")"
   ]
  },
  {
   "cell_type": "markdown",
   "id": "4f7b82b3-d4a8-4c71-87bd-42fcd18383f6",
   "metadata": {},
   "source": [
    "### 2단계: 스레드 생성 및 메시지 추가\r\n",
    "사용자가 대화를 시작할 때 스레드를 생성하고 사용자가 질문을 하면 스레드에 메시지를 추가합니다."
   ]
  },
  {
   "cell_type": "code",
   "execution_count": 4,
   "id": "35812d39-0b51-49db-a256-20b1583b80ad",
   "metadata": {},
   "outputs": [],
   "source": [
    "# 새로운 스레드를 생성\n",
    "thread = client.beta.threads.create()\n",
    "\n",
    "# 생성된 스레드에 사용자 메시지를 추가\n",
    "message = client.beta.threads.messages.create(\n",
    "  thread_id=thread.id,  # 생성된 스레드의 ID를 지정\n",
    "  role=\"user\",          # 메시지의 역할을 'user'로 설정\n",
    "  content=\"오늘 부산의 날씨는 어때요? 비가 올 확률은 어때요? 비가 올 때는 어떻게 해야 하나요?\",  # 사용자가 보낸 메시지 내용\n",
    ")"
   ]
  },
  {
   "cell_type": "markdown",
   "id": "be50703a-ade6-40d7-b8ae-41e6316f8ab9",
   "metadata": {},
   "source": [
    "### 3단계: 실행 시작\n",
    "하나 이상의 기능을 트리거하는 사용자 메시지가 포함된 스레드에서 Run을 시작하면 Run이 `pending` 상태로 들어갑니다. 처리가 끝난 후 Run은 Run의 상태를 확인할 수 있는 `require_action` 상태로 전환됩니다. 이는 Run 실행을 계속하려면 도구(tools)를 실행하고 해당 출력을 Assistant에 제출해야 함을 나타냅니다. 우리 예의 경우에는 사용자 쿼리로 인해 병렬 함수 호출이 발생했음을 나타내는 두 개의 tool_call이 표시됩니다."
   ]
  },
  {
   "cell_type": "markdown",
   "id": "0a20afa0-a97c-43a9-b469-5be9f2bfe8ef",
   "metadata": {},
   "source": [
    "#### streaming 없이 사용 \n",
    "실행(Runs)은 비동기적으로 이루어지므로, 실행 객체(Run object)를 폴링하여 최종 상태에 도달할 때까지 상태를 모니터링해야 합니다. 편리함을 위해 'create_and_poll' SDK helper는 실행을 생성하고 완료될 때까지 폴링하는 작업을 도와줍니다. 실행이 완료되면 어시스턴트가 스레드에 추가한 메시지를 나열할 수 있습니다. 마지막으로, required_action에서 모든 도구 출력을 가져와 'submit_tool_outputs_and_poll' helper에 한 번에 제출하면 됩니다."
   ]
  },
  {
   "cell_type": "code",
   "execution_count": 5,
   "id": "b6fffdee-7e80-4293-8038-4881ac08a61d",
   "metadata": {},
   "outputs": [
    {
     "name": "stdout",
     "output_type": "stream",
     "text": [
      "requires_action\n"
     ]
    }
   ],
   "source": [
    "# create_and_poll helper는 스레드 실행을 생성하고 결과를 폴링\n",
    "run = client.beta.threads.runs.create_and_poll(\n",
    "  thread_id=thread.id,\n",
    "  assistant_id=assistant.id,\n",
    ")\n",
    "\n",
    "# 실행 상태가 완료되었는지 확인\n",
    "if run.status == 'completed':\n",
    "  # 실행된 스레드의 메시지를 리스트로 가져와 출력\n",
    "  messages = client.beta.threads.messages.list(\n",
    "    thread_id=thread.id\n",
    "  )\n",
    "  print(messages)\n",
    "else:\n",
    "  # 실행 상태를 출력\n",
    "  print(run.status)"
   ]
  },
  {
   "cell_type": "code",
   "execution_count": 6,
   "id": "b1fb8670-a1d4-465b-b932-3109080a74b0",
   "metadata": {},
   "outputs": [
    {
     "data": {
      "text/plain": [
       "[RequiredActionFunctionToolCall(id='call_xrXhR8xsPJANga4rlApzuxXz', function=Function(arguments='{\"location\": \"부산\", \"unit\": \"Celsius\"}', name='get_current_temperature'), type='function'),\n",
       " RequiredActionFunctionToolCall(id='call_Bw28ZhpVd8qeaVfbJ06HjPoW', function=Function(arguments='{\"location\": \"부산\"}', name='get_rain_probability'), type='function')]"
      ]
     },
     "execution_count": 6,
     "metadata": {},
     "output_type": "execute_result"
    }
   ],
   "source": [
    "run.required_action.submit_tool_outputs.tool_calls"
   ]
  },
  {
   "cell_type": "code",
   "execution_count": 7,
   "id": "67c00b87-405d-4f34-86eb-4f4d3e5d17b5",
   "metadata": {},
   "outputs": [
    {
     "data": {
      "text/plain": [
       "[{'tool_call_id': 'call_xrXhR8xsPJANga4rlApzuxXz', 'output': '57'},\n",
       " {'tool_call_id': 'call_Bw28ZhpVd8qeaVfbJ06HjPoW', 'output': '0.06'}]"
      ]
     },
     "execution_count": 7,
     "metadata": {},
     "output_type": "execute_result"
    }
   ],
   "source": [
    "# 도구 출력을 저장할 리스트 정의\n",
    "tool_outputs = []\n",
    "\n",
    "# required action의 각 tool을 순회\n",
    "for tool in run.required_action.submit_tool_outputs.tool_calls:\n",
    "  # tool 이름에 따라 해당 함수의 출력 값을 추가\n",
    "  if tool.function.name == \"get_current_temperature\":\n",
    "    tool_outputs.append({\n",
    "      \"tool_call_id\": tool.id,\n",
    "      \"output\": \"57\"   #함수 호출의 결과 값\n",
    "    })\n",
    "  elif tool.function.name == \"get_rain_probability\":\n",
    "    tool_outputs.append({\n",
    "      \"tool_call_id\": tool.id,\n",
    "      \"output\": \"0.06\"  # 함수 호출의 결과 값\n",
    "    })\n",
    "\n",
    "tool_outputs"
   ]
  },
  {
   "cell_type": "code",
   "execution_count": 8,
   "id": "fce77ba5-d886-4fa2-bdd1-50bd6ff1069d",
   "metadata": {},
   "outputs": [
    {
     "name": "stdout",
     "output_type": "stream",
     "text": [
      "Tool outputs submitted successfully.\n",
      "SyncCursorPage[Message](data=[Message(id='msg_ZkzxT1q92VikklSdHq5jiQ7n', assistant_id='asst_zkZzU04O6lH0KJeuIrkmRHvV', attachments=[], completed_at=None, content=[TextContentBlock(text=Text(annotations=[], value='부산의 현재 온도는 57도(약 14도 섭씨)이고, 비가 올 확률은 6%입니다. \\n\\n비가 올 때는 외출 전에 우산을 챙기고, 갑작스러운 비에 대비하는 것이 좋습니다. 또한, 미끄럼 방지를 위해 적절한 신발을 신는 것도 중요합니다.'), type='text')], created_at=1730533147, incomplete_at=None, incomplete_details=None, metadata={}, object='thread.message', role='assistant', run_id='run_gYoCnmii1VFKL0qxiLqdK32B', status=None, thread_id='thread_Ubkmx4MT0lVbeAcjUfBojoXm'), Message(id='msg_G6HhI7Lt9YdzuGtR8vxWvkKv', assistant_id=None, attachments=[], completed_at=None, content=[TextContentBlock(text=Text(annotations=[], value='오늘 부산의 날씨는 어때요? 비가 올 확률은 어때요? 비가 올 때는 어떻게 해야 하나요?'), type='text')], created_at=1730533120, incomplete_at=None, incomplete_details=None, metadata={}, object='thread.message', role='user', run_id=None, status=None, thread_id='thread_Ubkmx4MT0lVbeAcjUfBojoXm')], object='list', first_id='msg_ZkzxT1q92VikklSdHq5jiQ7n', last_id='msg_G6HhI7Lt9YdzuGtR8vxWvkKv', has_more=False)\n"
     ]
    }
   ],
   "source": [
    "# 모든 도구 출력을 가져와 'submit_tool_outputs_and_poll' helper에 한 번에 제출\n",
    "if tool_outputs:\n",
    "  try:\n",
    "    run = client.beta.threads.runs.submit_tool_outputs_and_poll(\n",
    "      thread_id=thread.id,\n",
    "      run_id=run.id,\n",
    "      tool_outputs=tool_outputs\n",
    "    )\n",
    "    # 도구 출력이 성공적으로 제출되었음을 출력\n",
    "    print(\"Tool outputs submitted successfully.\")\n",
    "  except Exception as e:\n",
    "    # 도구 출력 제출 실패 메시지 출력\n",
    "    print(\"Failed to submit tool outputs:\", e)\n",
    "else:\n",
    "  # 제출할 도구 출력이 없음을 출력\n",
    "  print(\"No tool outputs to submit.\")\n",
    "\n",
    "# 실행 상태가 완료되었는지 다시 확인\n",
    "if run.status == 'completed':\n",
    "  # 실행된 스레드의 메시지를 가져와 출력\n",
    "  messages = client.beta.threads.messages.list(\n",
    "    thread_id=thread.id\n",
    "  )\n",
    "  print(messages)\n",
    "else:\n",
    "  # 실행 상태를 출력\n",
    "  print(run.status)"
   ]
  },
  {
   "cell_type": "code",
   "execution_count": 9,
   "id": "86c469b5-0d6c-4b3e-a4e2-c24293f83c58",
   "metadata": {},
   "outputs": [
    {
     "name": "stdout",
     "output_type": "stream",
     "text": [
      "부산의 현재 온도는 57도(약 14도 섭씨)이고, 비가 올 확률은 6%입니다. \n",
      "\n",
      "비가 올 때는 외출 전에 우산을 챙기고, 갑작스러운 비에 대비하는 것이 좋습니다. 또한, 미끄럼 방지를 위해 적절한 신발을 신는 것도 중요합니다.\n"
     ]
    }
   ],
   "source": [
    "# 함수 호출 결과가 포함된 assistants 출력\n",
    "print(messages.data[0].content[0].text.value)"
   ]
  },
  {
   "cell_type": "markdown",
   "id": "17f83b53-b1b0-4020-8711-69a5a998128c",
   "metadata": {},
   "source": [
    "### Thread에 새로운 message 추가 및 Run 생성"
   ]
  },
  {
   "cell_type": "code",
   "execution_count": 10,
   "id": "bec5ba41-7ee4-4180-94b3-f9acc7a7976d",
   "metadata": {},
   "outputs": [],
   "source": [
    "message = client.beta.threads.messages.create(\n",
    "      thread_id=thread.id,\n",
    "      role=\"user\",\n",
    "      content=\"오늘 서울의 온도는 어떤가요? 비가 올 확률은 어떤가요? 비가 올 때 맛있는 음식은 무었인가요?\"\n",
    "    )"
   ]
  },
  {
   "cell_type": "code",
   "execution_count": 11,
   "id": "9dad2a7c-b2cd-40a0-a78a-b5b7d24d5e6b",
   "metadata": {},
   "outputs": [
    {
     "name": "stdout",
     "output_type": "stream",
     "text": [
      "requires_action\n"
     ]
    }
   ],
   "source": [
    "# 스레드 실행을 생성하고 결과를 폴링\n",
    "run = client.beta.threads.runs.create_and_poll(\n",
    "  thread_id=thread.id,\n",
    "  assistant_id=assistant.id,\n",
    ")\n",
    "\n",
    "# 실행 상태가 완료되었는지 확인\n",
    "if run.status == 'completed':\n",
    "  # 실행된 스레드의 메시지를 가져옴\n",
    "  messages = client.beta.threads.messages.list(\n",
    "    thread_id=thread.id\n",
    "  )\n",
    "  print(messages)\n",
    "else:\n",
    "  # 실행 상태를 출력\n",
    "  print(run.status)"
   ]
  },
  {
   "cell_type": "code",
   "execution_count": 12,
   "id": "6afa6a1e-f611-40a6-a485-81f63e845150",
   "metadata": {},
   "outputs": [
    {
     "data": {
      "text/plain": [
       "[RequiredActionFunctionToolCall(id='call_fkojnPCRsTu18EMTsZsFM9pe', function=Function(arguments='{\"location\": \"서울\", \"unit\": \"Celsius\"}', name='get_current_temperature'), type='function'),\n",
       " RequiredActionFunctionToolCall(id='call_RlqDdJ7Wwwj47ol9BDongR9G', function=Function(arguments='{\"location\": \"서울\"}', name='get_rain_probability'), type='function')]"
      ]
     },
     "execution_count": 12,
     "metadata": {},
     "output_type": "execute_result"
    }
   ],
   "source": [
    "run.required_action.submit_tool_outputs.tool_calls"
   ]
  },
  {
   "cell_type": "code",
   "execution_count": 13,
   "id": "042996cd-4258-475f-8cc8-c61743b16e34",
   "metadata": {},
   "outputs": [
    {
     "data": {
      "text/plain": [
       "[{'tool_call_id': 'call_fkojnPCRsTu18EMTsZsFM9pe', 'output': '57'},\n",
       " {'tool_call_id': 'call_RlqDdJ7Wwwj47ol9BDongR9G', 'output': '0.06'}]"
      ]
     },
     "execution_count": 13,
     "metadata": {},
     "output_type": "execute_result"
    }
   ],
   "source": [
    "# 도구 출력을 저장할 리스트를 정의\n",
    "tool_outputs = []\n",
    "\n",
    "# 필요한 작업 섹션의 각 도구를 순회\n",
    "for tool in run.required_action.submit_tool_outputs.tool_calls:\n",
    "  # 도구 이름에 따라 출력 값을 추가\n",
    "  if tool.function.name == \"get_current_temperature\":\n",
    "    tool_outputs.append({\n",
    "      \"tool_call_id\": tool.id,\n",
    "      \"output\": \"57\"\n",
    "    })\n",
    "  elif tool.function.name == \"get_rain_probability\":\n",
    "    tool_outputs.append({\n",
    "      \"tool_call_id\": tool.id,\n",
    "      \"output\": \"0.06\"\n",
    "    })\n",
    "\n",
    "tool_outputs"
   ]
  },
  {
   "cell_type": "code",
   "execution_count": 14,
   "id": "a6c3ce10-218b-471a-bfc0-6f8a673ee9d3",
   "metadata": {},
   "outputs": [
    {
     "name": "stdout",
     "output_type": "stream",
     "text": [
      "Tool outputs submitted successfully.\n",
      "SyncCursorPage[Message](data=[Message(id='msg_6QDZuljnDUueVIlA25zVLKGl', assistant_id='asst_zkZzU04O6lH0KJeuIrkmRHvV', attachments=[], completed_at=None, content=[TextContentBlock(text=Text(annotations=[], value='서울의 현재 온도는 57도(약 14도 섭씨)이고, 비가 올 확률은 6%입니다.\\n\\n비가 올 때 맛있는 음식으로는 따뜻한 국물 요리나 찌개가 좋습니다. 예를 들어, 속이 든든해지는 김치찌개나 삼계탕, 그리고 비 오는 날 먹기 좋은 떡볶이와 같은 간식도 추천드립니다!'), type='text')], created_at=1730533168, incomplete_at=None, incomplete_details=None, metadata={}, object='thread.message', role='assistant', run_id='run_MqXfGf345C3sXkAnQKNJzdQm', status=None, thread_id='thread_Ubkmx4MT0lVbeAcjUfBojoXm'), Message(id='msg_hj75FyD1NsOd7Nr9TRCagj5P', assistant_id=None, attachments=[], completed_at=None, content=[TextContentBlock(text=Text(annotations=[], value='오늘 서울의 온도는 어떤가요? 비가 올 확률은 어떤가요? 비가 올 때 맛있는 음식은 무었인가요?'), type='text')], created_at=1730533155, incomplete_at=None, incomplete_details=None, metadata={}, object='thread.message', role='user', run_id=None, status=None, thread_id='thread_Ubkmx4MT0lVbeAcjUfBojoXm'), Message(id='msg_ZkzxT1q92VikklSdHq5jiQ7n', assistant_id='asst_zkZzU04O6lH0KJeuIrkmRHvV', attachments=[], completed_at=None, content=[TextContentBlock(text=Text(annotations=[], value='부산의 현재 온도는 57도(약 14도 섭씨)이고, 비가 올 확률은 6%입니다. \\n\\n비가 올 때는 외출 전에 우산을 챙기고, 갑작스러운 비에 대비하는 것이 좋습니다. 또한, 미끄럼 방지를 위해 적절한 신발을 신는 것도 중요합니다.'), type='text')], created_at=1730533147, incomplete_at=None, incomplete_details=None, metadata={}, object='thread.message', role='assistant', run_id='run_gYoCnmii1VFKL0qxiLqdK32B', status=None, thread_id='thread_Ubkmx4MT0lVbeAcjUfBojoXm'), Message(id='msg_G6HhI7Lt9YdzuGtR8vxWvkKv', assistant_id=None, attachments=[], completed_at=None, content=[TextContentBlock(text=Text(annotations=[], value='오늘 부산의 날씨는 어때요? 비가 올 확률은 어때요? 비가 올 때는 어떻게 해야 하나요?'), type='text')], created_at=1730533120, incomplete_at=None, incomplete_details=None, metadata={}, object='thread.message', role='user', run_id=None, status=None, thread_id='thread_Ubkmx4MT0lVbeAcjUfBojoXm')], object='list', first_id='msg_6QDZuljnDUueVIlA25zVLKGl', last_id='msg_G6HhI7Lt9YdzuGtR8vxWvkKv', has_more=False)\n"
     ]
    }
   ],
   "source": [
    "# 도구 출력이 있는 경우 한 번에 제출\n",
    "if tool_outputs:\n",
    "  try:\n",
    "    run = client.beta.threads.runs.submit_tool_outputs_and_poll(\n",
    "      thread_id=thread.id,\n",
    "      run_id=run.id,\n",
    "      tool_outputs=tool_outputs\n",
    "    )\n",
    "    # 도구 출력이 성공적으로 제출되었음을 출력\n",
    "    print(\"Tool outputs submitted successfully.\")\n",
    "  except Exception as e:\n",
    "    # 도구 출력 제출 실패 메시지 출력\n",
    "    print(\"Failed to submit tool outputs:\", e)\n",
    "else:\n",
    "  # 제출할 도구 출력이 없음을 출력\n",
    "  print(\"No tool outputs to submit.\")\n",
    "\n",
    "# 실행 상태가 완료되었는지 다시 확인\n",
    "if run.status == 'completed':\n",
    "  # 실행된 스레드의 메시지를 가져옴\n",
    "  messages = client.beta.threads.messages.list(\n",
    "    thread_id=thread.id\n",
    "  )\n",
    "  print(messages)\n",
    "else:\n",
    "  # 실행 상태를 출력\n",
    "  print(run.status)"
   ]
  },
  {
   "cell_type": "code",
   "execution_count": 15,
   "id": "b4c333bb-619a-4f66-af6b-293a21459137",
   "metadata": {},
   "outputs": [
    {
     "name": "stdout",
     "output_type": "stream",
     "text": [
      "서울의 현재 온도는 57도(약 14도 섭씨)이고, 비가 올 확률은 6%입니다.\n",
      "\n",
      "비가 올 때 맛있는 음식으로는 따뜻한 국물 요리나 찌개가 좋습니다. 예를 들어, 속이 든든해지는 김치찌개나 삼계탕, 그리고 비 오는 날 먹기 좋은 떡볶이와 같은 간식도 추천드립니다!\n"
     ]
    }
   ],
   "source": [
    "print(messages.data[0].content[0].text.value)"
   ]
  },
  {
   "cell_type": "markdown",
   "id": "6c42869a-7a7b-4509-b735-f4c989a81338",
   "metadata": {},
   "source": [
    "### 실제 외부 함수 호출"
   ]
  },
  {
   "cell_type": "code",
   "execution_count": 16,
   "id": "036db8e7-ba1f-42e6-9b26-0a55b41fdcd9",
   "metadata": {},
   "outputs": [],
   "source": [
    "#!pip install -q yfinance\n",
    "import yfinance as yf"
   ]
  },
  {
   "cell_type": "code",
   "execution_count": 17,
   "id": "5b87b50e-de3b-4819-8030-9cbab68237df",
   "metadata": {},
   "outputs": [],
   "source": [
    "assistant = client.beta.assistants.create(\n",
    "  instructions=\"당신은 주식 봇입니다. 제공된 function을 사용하여 질문에 답하세요.\",\n",
    "  model=Model,\n",
    "  tools=[\n",
    "    {\n",
    "      \"type\": \"function\",\n",
    "      \"function\": {\n",
    "        \"name\": \"yf_stock\",\n",
    "        \"description\": \"특정 주식의 주가를 가져옵니다.\",\n",
    "        \"parameters\": {\n",
    "          \"type\": \"object\",\n",
    "          \"properties\": {\n",
    "            \"ticker\": {\n",
    "              \"type\": \"string\",\n",
    "              \"description\": \"주식 ticker\"\n",
    "            },\n",
    "          },\n",
    "          \"required\": [\"ticker\"]\n",
    "        }\n",
    "      }\n",
    "    },\n",
    "  ]\n",
    ")"
   ]
  },
  {
   "cell_type": "code",
   "execution_count": 18,
   "id": "52d8f0ed-ba9d-4add-9bbf-0a46478318fe",
   "metadata": {},
   "outputs": [
    {
     "data": {
      "text/plain": [
       "Message(id='msg_gZT4QDaoh3OWEVlWfxCyRl4N', assistant_id=None, attachments=[], completed_at=None, content=[TextContentBlock(text=Text(annotations=[], value='오늘 Apple 주가는 어때요? 주요 생산품은 무엇인가요?'), type='text')], created_at=1730533178, incomplete_at=None, incomplete_details=None, metadata={}, object='thread.message', role='user', run_id=None, status=None, thread_id='thread_fhkY4i8PnRUbcjivtXjaWz0O')"
      ]
     },
     "execution_count": 18,
     "metadata": {},
     "output_type": "execute_result"
    }
   ],
   "source": [
    "thread = client.beta.threads.create()\n",
    "\n",
    "message = client.beta.threads.messages.create(\n",
    "  thread_id=thread.id,\n",
    "  role=\"user\",\n",
    "  content=\"오늘 Apple 주가는 어때요? 주요 생산품은 무엇인가요?\",\n",
    ")\n",
    "message"
   ]
  },
  {
   "cell_type": "code",
   "execution_count": 19,
   "id": "4fed00c8-9493-4d5c-9fd5-ece35f28b29c",
   "metadata": {},
   "outputs": [
    {
     "name": "stdout",
     "output_type": "stream",
     "text": [
      "requires_action\n"
     ]
    }
   ],
   "source": [
    "# 스레드 실행을 생성하고 결과를 폴링\n",
    "run = client.beta.threads.runs.create_and_poll(\n",
    "  thread_id=thread.id,\n",
    "  assistant_id=assistant.id,\n",
    ")\n",
    "\n",
    "# 실행 상태가 완료되었는지 확인\n",
    "if run.status == 'completed':\n",
    "  # 실행된 스레드의 메시지를 가져옴\n",
    "  messages = client.beta.threads.messages.list(\n",
    "    thread_id=thread.id\n",
    "  )\n",
    "  print(messages)\n",
    "else:\n",
    "  # 실행 상태를 출력\n",
    "  print(run.status)"
   ]
  },
  {
   "cell_type": "code",
   "execution_count": 20,
   "id": "5df9d68a-4cb3-4ff9-a859-3382e8fcedbf",
   "metadata": {},
   "outputs": [
    {
     "data": {
      "text/plain": [
       "[RequiredActionFunctionToolCall(id='call_69QappgwHdQBdlO95wDRQo6x', function=Function(arguments='{\"ticker\": \"AAPL\"}', name='yf_stock'), type='function'),\n",
       " RequiredActionFunctionToolCall(id='call_UXrfVN9yaF1uZine7f4KjKmn', function=Function(arguments='{\"ticker\": \"AAPL\"}', name='yf_stock'), type='function')]"
      ]
     },
     "execution_count": 20,
     "metadata": {},
     "output_type": "execute_result"
    }
   ],
   "source": [
    "run.required_action.submit_tool_outputs.tool_calls"
   ]
  },
  {
   "cell_type": "code",
   "execution_count": 21,
   "id": "b546b438-f172-4b2f-9aa1-bff7ea33924b",
   "metadata": {},
   "outputs": [
    {
     "data": {
      "text/plain": [
       "'{\"ticker\": \"AAPL\"}'"
      ]
     },
     "execution_count": 21,
     "metadata": {},
     "output_type": "execute_result"
    }
   ],
   "source": [
    "run.required_action.submit_tool_outputs.tool_calls[0].function.arguments"
   ]
  },
  {
   "cell_type": "code",
   "execution_count": 22,
   "id": "cb1cec82-4a1c-4fc8-8d6a-ee0f5a77c824",
   "metadata": {},
   "outputs": [
    {
     "data": {
      "text/plain": [
       "{'ticker': 'AAPL'}"
      ]
     },
     "execution_count": 22,
     "metadata": {},
     "output_type": "execute_result"
    }
   ],
   "source": [
    "import json\n",
    "argument_dict = json.loads(run.required_action.submit_tool_outputs.tool_calls[0].function.arguments)\n",
    "argument_dict"
   ]
  },
  {
   "cell_type": "code",
   "execution_count": 23,
   "id": "b6e9b00f-d2c1-4aa5-a674-345544822887",
   "metadata": {},
   "outputs": [
    {
     "data": {
      "text/plain": [
       "'AAPL'"
      ]
     },
     "execution_count": 23,
     "metadata": {},
     "output_type": "execute_result"
    }
   ],
   "source": [
    "argument_dict['ticker']"
   ]
  },
  {
   "cell_type": "code",
   "execution_count": 24,
   "id": "8c95f8c3-4e1e-4129-a19e-979becd86462",
   "metadata": {},
   "outputs": [
    {
     "data": {
      "text/plain": [
       "[{'tool_call_id': 'call_69QappgwHdQBdlO95wDRQo6x',\n",
       "  'output': '210.6199951171875'},\n",
       " {'tool_call_id': 'call_UXrfVN9yaF1uZine7f4KjKmn',\n",
       "  'output': '210.6199951171875'}]"
      ]
     },
     "execution_count": 24,
     "metadata": {},
     "output_type": "execute_result"
    }
   ],
   "source": [
    "# 도구 출력을 저장할 리스트를 정의\n",
    "tool_outputs = []\n",
    "\n",
    "# 필요한 작업 섹션의 각 도구를 순회\n",
    "for tool in run.required_action.submit_tool_outputs.tool_calls:\n",
    "  # 도구 이름에 따라 출력 값을 추가\n",
    "  if tool.function.name == \"yf_stock\":\n",
    "    df = yf.download(argument_dict['ticker'], start='2024-01-01', end='2024-06-30', progress=False)\n",
    "    tool_outputs.append({\n",
    "      \"tool_call_id\": tool.id,\n",
    "      \"output\": str(df.Close.iloc[-1])\n",
    "    })\n",
    "\n",
    "tool_outputs"
   ]
  },
  {
   "cell_type": "code",
   "execution_count": 25,
   "id": "9f5ec69a-b5bc-4456-a15d-f5a0fa5c64e9",
   "metadata": {},
   "outputs": [
    {
     "name": "stdout",
     "output_type": "stream",
     "text": [
      "Tool outputs submitted successfully.\n",
      "SyncCursorPage[Message](data=[Message(id='msg_toLAn1MAJA6ckBicqeLPly61', assistant_id='asst_mz4yhoGKYTCB4PGuWB7Dy9CH', attachments=[], completed_at=None, content=[TextContentBlock(text=Text(annotations=[], value='오늘 Apple(AAPL) 주가는 약 210.62 달러입니다.\\n\\nApple의 주요 생산품은 다음과 같습니다:\\n1. **iPhone** - 스마트폰\\n2. **iPad** - 태블릿\\n3. **Mac** - 개인용 컴퓨터\\n4. **Apple Watch** - 스마트워치\\n5. **AirPods** - 무선 이어폰\\n6. **소프트웨어** - iOS, macOS, iPadOS 등\\n7. **서비스** - Apple Music, Apple TV+, App Store 등\\n\\n이 외에도 다양한 액세서리 및 애플리케이션을 생산하고 있습니다.'), type='text')], created_at=1730533188, incomplete_at=None, incomplete_details=None, metadata={}, object='thread.message', role='assistant', run_id='run_5suiBzx3Dd0d1NxfxVgZsNuW', status=None, thread_id='thread_fhkY4i8PnRUbcjivtXjaWz0O'), Message(id='msg_gZT4QDaoh3OWEVlWfxCyRl4N', assistant_id=None, attachments=[], completed_at=None, content=[TextContentBlock(text=Text(annotations=[], value='오늘 Apple 주가는 어때요? 주요 생산품은 무엇인가요?'), type='text')], created_at=1730533178, incomplete_at=None, incomplete_details=None, metadata={}, object='thread.message', role='user', run_id=None, status=None, thread_id='thread_fhkY4i8PnRUbcjivtXjaWz0O')], object='list', first_id='msg_toLAn1MAJA6ckBicqeLPly61', last_id='msg_gZT4QDaoh3OWEVlWfxCyRl4N', has_more=False)\n"
     ]
    }
   ],
   "source": [
    "# 도구 출력이 있는 경우 submit_tool_outputs_and_poll 이용\n",
    "if tool_outputs:\n",
    "  try:\n",
    "    run = client.beta.threads.runs.submit_tool_outputs_and_poll(\n",
    "      thread_id=thread.id,\n",
    "      run_id=run.id,\n",
    "      tool_outputs=tool_outputs\n",
    "    )\n",
    "    # 도구 출력이 성공적으로 제출되었음을 출력\n",
    "    print(\"Tool outputs submitted successfully.\")\n",
    "  except Exception as e:\n",
    "    # 도구 출력 제출 실패 메시지 출력\n",
    "    print(\"Failed to submit tool outputs:\", e)\n",
    "else:\n",
    "  # 제출할 도구 출력이 없음을 출력\n",
    "  print(\"No tool outputs to submit.\")\n",
    "\n",
    "# 실행 상태가 완료되었는지 다시 확인\n",
    "if run.status == 'completed':\n",
    "  # 실행된 스레드의 메시지를 가져옴\n",
    "  messages = client.beta.threads.messages.list(\n",
    "    thread_id=thread.id\n",
    "  )\n",
    "  print(messages)\n",
    "else:\n",
    "  # 실행 상태를 출력\n",
    "  print(run.status)"
   ]
  },
  {
   "cell_type": "code",
   "execution_count": 26,
   "id": "70b05b31-a00c-40a0-ac21-3d7cbb079be7",
   "metadata": {},
   "outputs": [
    {
     "name": "stdout",
     "output_type": "stream",
     "text": [
      "오늘 Apple(AAPL) 주가는 약 210.62 달러입니다.\n",
      "\n",
      "Apple의 주요 생산품은 다음과 같습니다:\n",
      "1. **iPhone** - 스마트폰\n",
      "2. **iPad** - 태블릿\n",
      "3. **Mac** - 개인용 컴퓨터\n",
      "4. **Apple Watch** - 스마트워치\n",
      "5. **AirPods** - 무선 이어폰\n",
      "6. **소프트웨어** - iOS, macOS, iPadOS 등\n",
      "7. **서비스** - Apple Music, Apple TV+, App Store 등\n",
      "\n",
      "이 외에도 다양한 액세서리 및 애플리케이션을 생산하고 있습니다.\n"
     ]
    }
   ],
   "source": [
    "print(messages.data[0].content[0].text.value)"
   ]
  },
  {
   "cell_type": "code",
   "execution_count": null,
   "id": "f18d08fe-3a7d-40d8-b4c2-059a87cc58ab",
   "metadata": {},
   "outputs": [],
   "source": []
  }
 ],
 "metadata": {
  "kernelspec": {
   "display_name": "Python 3 (ipykernel)",
   "language": "python",
   "name": "python3"
  },
  "language_info": {
   "codemirror_mode": {
    "name": "ipython",
    "version": 3
   },
   "file_extension": ".py",
   "mimetype": "text/x-python",
   "name": "python",
   "nbconvert_exporter": "python",
   "pygments_lexer": "ipython3",
   "version": "3.9.16"
  }
 },
 "nbformat": 4,
 "nbformat_minor": 5
}
