{
 "cells": [
  {
   "cell_type": "markdown",
   "metadata": {
    "id": "vUehOJlORE-j"
   },
   "source": [
    "# 프로젝트 6: 자동 음성 메시지 번역 시스템\n",
    "\n",
    "최첨단 음성-텍스트 기능을 위한 OpenAI의 Whisper API와 정확한 텍스트 번역을 위한 ChatCompletion API를 활용하여 모든 음성 메시지를 선택한 언어로 번역할 수 있는 엔드투엔드 솔루션 작성.\n",
    "\n",
    "- **음성 인식용 Whisper API**: 음성 메시지를 텍스트로 변환하는 OpenAI의 Whisper API\n",
    "- **번역용 ChatCompletion API**: 전사된 텍스트(transcribed text)를 원하는 언어로 번역하기 위해 ChatCompletion API\n",
    "\n"
   ]
  },
  {
   "cell_type": "markdown",
   "metadata": {
    "id": "8jMjjoCRjdMj"
   },
   "source": [
    "### Setting up API Key"
   ]
  },
  {
   "cell_type": "code",
   "execution_count": 1,
   "metadata": {
    "id": "lYFNyycCQ2p-"
   },
   "outputs": [],
   "source": [
    "import os\n",
    "import openai\n",
    "import sys\n",
    "sys.path.append('./')\n",
    "\n",
    "from dotenv import load_dotenv, find_dotenv\n",
    "_ = load_dotenv(find_dotenv()) # read local .env file"
   ]
  },
  {
   "cell_type": "code",
   "execution_count": 2,
   "metadata": {
    "id": "btc16h6ySPFA"
   },
   "outputs": [],
   "source": [
    "from openai import OpenAI\n",
    "\n",
    "client = OpenAI()"
   ]
  },
  {
   "cell_type": "markdown",
   "metadata": {
    "id": "9_OjVDWsUe4n"
   },
   "source": [
    "# Whisper로 오디오 파일 처리하기\n",
    "\n",
    "## 오디오 전사(Audio transcription)\n",
    "\n",
    "#### respose format\n",
    "- vtt(Web Video Text Tracks) 형식 - 비디오 자막에 주로 사용되며, 시간 코드와 함께 텍스트 정보를 포함  \n",
    "- text - TEXT 형식"
   ]
  },
  {
   "cell_type": "code",
   "execution_count": 3,
   "metadata": {
    "id": "MsoHQlVsSywU"
   },
   "outputs": [],
   "source": [
    "#audio_file = open(\"audio_file_whisper.mp3\", \"rb\")\n",
    "audio_file = open(\"data/voice_1.m4a\", \"rb\")  # 오디오 파일을 바이너리 읽기 모드로 열기\n",
    "\n",
    "# 오디오 파일을 전사하기 위한 요청\n",
    "transcript = client.audio.transcriptions.create(\n",
    "  model=\"whisper-1\",        # 사용할 전사 모델 지정\n",
    "  file=audio_file,                # 전사할 오디오 파일\n",
    "  response_format='vtt'     # 전사 결과의 형식 지정 - vtt 또는 text\n",
    ")"
   ]
  },
  {
   "cell_type": "code",
   "execution_count": 4,
   "metadata": {
    "colab": {
     "base_uri": "https://localhost:8080/"
    },
    "id": "bIrZ8nmPX4u3",
    "outputId": "d7327eef-25b6-4d24-8d45-e2c668610d88"
   },
   "outputs": [
    {
     "name": "stdout",
     "output_type": "stream",
     "text": [
      "WEBVTT\n",
      "\n",
      "00:00:00.000 --> 00:00:10.000\n",
      "한국의 자연은 울창한 산림과 아름다운 해안선 그리고 계절에 따라 변하는 매혹적인 경관으로 잘 알려져 있습니다.\n",
      "\n",
      "00:00:10.000 --> 00:00:19.000\n",
      "봄에는 전국에 피어나는 화려한 벚꽃이 매력적인 장관을 연출하고 가을에는 단풍이 산과 공원을 물들입니다.\n",
      "\n",
      "00:00:19.000 --> 00:00:25.000\n",
      "나는 우리나라를 그리고 우리나라의 산천을 정말로 사랑합니다.\n",
      "\n",
      "\n"
     ]
    }
   ],
   "source": [
    "print(transcript)"
   ]
  },
  {
   "cell_type": "markdown",
   "metadata": {
    "id": "x-6F2sWioRAf"
   },
   "source": [
    "### Whisper는 음성을 텍스트로 변환하고 다양한 언어를 영어로 번역할 수 있습니다.\n",
    "\n",
    "- 오디오가 어떤 언어로 되어 있든 오디오를 전사할 수 있습니다.  \n",
    "- 오디오를 영어로 번역하고 기록합니다."
   ]
  },
  {
   "cell_type": "code",
   "execution_count": 5,
   "metadata": {
    "colab": {
     "base_uri": "https://localhost:8080/"
    },
    "id": "9wFnlLoNZAJK",
    "outputId": "7ba3e243-94be-4f58-d4c4-ab2624d43aff"
   },
   "outputs": [
    {
     "data": {
      "text/plain": [
       "Translation(text='The nature of Korea is well known for its lush forests, beautiful coastlines, and fascinating landscapes that change with the seasons. In spring, the colorful cherry blossoms that bloom all over the country create an attractive landscape, and in autumn, the leaves color the mountains and parks. I really love our country and our mountains and rivers.')"
      ]
     },
     "execution_count": 5,
     "metadata": {},
     "output_type": "execute_result"
    }
   ],
   "source": [
    "#audio_file = open(\"audio_file_whisper.mp3\", \"rb\")\n",
    "audio_file = open(\"data/voice_1.m4a\", \"rb\")\n",
    "\n",
    "# 오디오 파일 번역 요청\n",
    "transcript_translated = client.audio.translations.create(\n",
    "  model=\"whisper-1\",        # 사용할 번역 모델 지정 (여기서는 'whisper-1')\n",
    "  file=audio_file                 # 번역할 오디오 파일\n",
    ")\n",
    "\n",
    "# 번역된 결과 출력\n",
    "transcript_translated"
   ]
  },
  {
   "cell_type": "code",
   "execution_count": 6,
   "metadata": {
    "colab": {
     "base_uri": "https://localhost:8080/",
     "height": 54
    },
    "id": "tPGHcR1Kqq8J",
    "outputId": "6851d3d4-a180-4c21-901e-997df75ecbf6"
   },
   "outputs": [
    {
     "data": {
      "text/plain": [
       "'The nature of Korea is well known for its lush forests, beautiful coastlines, and fascinating landscapes that change with the seasons. In spring, the colorful cherry blossoms that bloom all over the country create an attractive landscape, and in autumn, the leaves color the mountains and parks. I really love our country and our mountains and rivers.'"
      ]
     },
     "execution_count": 6,
     "metadata": {},
     "output_type": "execute_result"
    }
   ],
   "source": [
    "transcript_translated.text"
   ]
  },
  {
   "cell_type": "markdown",
   "metadata": {
    "id": "mzr2K30GUbUN"
   },
   "source": [
    "##ChatGPT 및 Whisper를 사용하여 모든 언어로 번역\n",
    "\n"
   ]
  },
  {
   "cell_type": "code",
   "execution_count": 7,
   "metadata": {
    "id": "CtAclzsPT3Ho"
   },
   "outputs": [],
   "source": [
    "# 번역 대상 언어 설정\n",
    "target_language = \"japanese\"\n",
    "\n",
    "# AI의 역할을 메시지 리스트에 추가\n",
    "messages = [\n",
    "    {\n",
    "        \"role\": \"system\",\n",
    "        \"content\": \"\"\"I want you to act as an algorithm for translation to language {}.\n",
    "                      System will provide you with a text, and your only task is to translate it to {}.\n",
    "                      Never break character.\"\"\".format(target_language, target_language)\n",
    "    }\n",
    "]\n",
    "# 번역할 텍스트를 메시지 리스트에 추가\n",
    "messages.append({\"role\": \"user\", \"content\": transcript_translated.text})\n",
    "\n",
    "# 대화형 AI로부터 번역 응답 생성 요청\n",
    "chat_response = client.chat.completions.create(\n",
    "    model=\"gpt-3.5-turbo\",        # 대화형 AI 모델 지정\n",
    "    messages=messages,      # 대화 내용\n",
    "    temperature=0.9,              # 창의성을 위한 온도 설정\n",
    "    max_tokens=2000,            # 생성할 최대 토큰 수\n",
    ")"
   ]
  },
  {
   "cell_type": "code",
   "execution_count": 8,
   "metadata": {
    "colab": {
     "base_uri": "https://localhost:8080/"
    },
    "id": "D3AglPCLR1_x",
    "outputId": "192e7183-30ac-43bf-fe0e-9b39faeee9f6"
   },
   "outputs": [
    {
     "name": "stdout",
     "output_type": "stream",
     "text": [
      "Assistant: 韓国の自然は、豊かな森林、美しい海岸線、そして季節ごとに変化する魅力的な景色でよく知られています。春には、全国各地で咲くカラフルな桜が魅力的な景観を作り出し、秋には、葉が山々や公園を彩ります。私は本当に、私たちの国と山々や川々を愛しています。\n"
     ]
    }
   ],
   "source": [
    "print(\"Assistant:\", chat_response.choices[0].message.content)"
   ]
  },
  {
   "cell_type": "code",
   "execution_count": null,
   "metadata": {
    "id": "kIb1xtNFSUAP"
   },
   "outputs": [],
   "source": []
  }
 ],
 "metadata": {
  "colab": {
   "provenance": []
  },
  "kernelspec": {
   "display_name": "Python 3 (ipykernel)",
   "language": "python",
   "name": "python3"
  },
  "language_info": {
   "codemirror_mode": {
    "name": "ipython",
    "version": 3
   },
   "file_extension": ".py",
   "mimetype": "text/x-python",
   "name": "python",
   "nbconvert_exporter": "python",
   "pygments_lexer": "ipython3",
   "version": "3.9.16"
  }
 },
 "nbformat": 4,
 "nbformat_minor": 4
}
