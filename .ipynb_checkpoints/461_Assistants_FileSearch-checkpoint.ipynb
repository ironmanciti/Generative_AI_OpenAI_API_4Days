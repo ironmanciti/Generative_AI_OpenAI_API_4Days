{
 "cells": [
  {
   "cell_type": "markdown",
   "id": "e0619d6b-69f6-4f0a-91fa-85eebe422e45",
   "metadata": {},
   "source": [
    "# Assistants API - 파일 검색\n",
    "\n",
    "- 파일 검색은 독점 제품 정보나 사용자가 제공한 문서 등 모델 외부의 지식으로 도우미를 강화합니다. OpenAI는 자동으로 문서를 구문 분석 및 청크하고, 임베딩을 생성 및 저장하며, 벡터 및 키워드 검색을 모두 사용하여 관련 콘텐츠를 검색하여 사용자 쿼리에 응답합니다.  \n",
    "\n",
    "- OpenAI의 Assistant에서 사용하는 파일 검색 기능은 RAG (Retrieval-Augmented Generation) 개념을 구현한 것입니다.\n",
    "\n",
    "- 작동 방식\n",
    "    - 문서 구문 분석 및 청크 처리: 파일을 작은 청크로 나누어 각 청크에 대한 임베딩을 생성합니다.\n",
    "    - 임베딩 생성 및 벡터 저장: 각 청크를 벡터화하여 검색을 위한 벡터 데이터베이스에 저장합니다.\n",
    "    - 벡터 및 키워드 검색: 사용자 쿼리와 관련된 벡터를 검색하거나 키워드 기반으로 관련 청크를 찾습니다.\n",
    "    - 응답 생성: 검색된 청크를 바탕으로 사용자 질문에 대한 응답을 생성합니다.\n",
    "  \n",
    "이 과정에서 벡터 검색을 통해 관련 정보를 효과적으로 검색하고, 검색된 정보를 생성 과정에 결합하여 응답하므로, 이는 전형적인 RAG 아키텍처의 특징을 따릅니다.\n",
    "\n",
    "이 실습에서는 회사의 재무제표에 대한 질문에 답변하는 데 도움이 되는  assistant를 만듭니다."
   ]
  },
  {
   "cell_type": "code",
   "execution_count": 1,
   "id": "7a0399e0-6377-4e2b-a155-488cb32821ea",
   "metadata": {},
   "outputs": [
    {
     "data": {
      "text/plain": [
       "True"
      ]
     },
     "execution_count": 1,
     "metadata": {},
     "output_type": "execute_result"
    }
   ],
   "source": [
    "import os\n",
    "import openai\n",
    "import sys\n",
    "sys.path.append('./')\n",
    "\n",
    "from dotenv import load_dotenv, find_dotenv\n",
    "load_dotenv(find_dotenv()) # read local .env file"
   ]
  },
  {
   "cell_type": "markdown",
   "id": "21b36d9a-c58e-44b6-bcdd-fc5daacd411a",
   "metadata": {},
   "source": [
    "### 1단계: 파일 검색이 활성화된 새 assistant 만들기\n",
    "Assistants tools parameter수에서 file_search가 활성화된 새 assistant를 만듭니다  \n",
    "file_search 도구가 활성화되면 모델은 사용자 메시지를 기반으로 콘텐츠를 검색할 시기를 결정합니다."
   ]
  },
  {
   "cell_type": "code",
   "execution_count": 2,
   "id": "af609606-235b-428f-8c95-3b0565951618",
   "metadata": {},
   "outputs": [],
   "source": [
    "from openai import OpenAI\n",
    "client = OpenAI()\n",
    "\n",
    "Model = \"gpt-4o-mini\""
   ]
  },
  {
   "cell_type": "code",
   "execution_count": 3,
   "id": "35daa4a9-6052-40d7-ae36-686ae081fd8c",
   "metadata": {},
   "outputs": [
    {
     "data": {
      "text/plain": [
       "Assistant(id='asst_U0AjjtEFAy8JE7oEt3i5b6mN', created_at=1743554243, description=None, instructions='당신은 전문 재무 분석가입니다. 지식 기반을 사용하여 감사된 재무제표에 대한 질문에 답하십시오.', metadata={}, model='gpt-4o-mini', name='Financial Analyst Assistant', object='assistant', tools=[FileSearchTool(type='file_search', file_search=FileSearch(max_num_results=None, ranking_options=FileSearchRankingOptions(score_threshold=0.0, ranker='default_2024_08_21')))], response_format='auto', temperature=1.0, tool_resources=ToolResources(code_interpreter=None, file_search=ToolResourcesFileSearch(vector_store_ids=[])), top_p=1.0, reasoning_effort=None)"
      ]
     },
     "execution_count": 3,
     "metadata": {},
     "output_type": "execute_result"
    }
   ],
   "source": [
    "assistant = client.beta.assistants.create(\n",
    "  name=\"Financial Analyst Assistant\",\n",
    "  instructions=\"당신은 전문 재무 분석가입니다. 지식 기반을 사용하여 감사된 재무제표에 대한 질문에 답하십시오.\",\n",
    "  model=Model,\n",
    "  tools=[{\"type\": \"file_search\"}],\n",
    ")\n",
    "\n",
    "assistant"
   ]
  },
  {
   "cell_type": "markdown",
   "id": "c1061b24-b41e-41c8-a22a-a71576909674",
   "metadata": {},
   "source": [
    "### 2단계: Vector Store 생성\n",
    "\n",
    "- 가격: FILE SEARCH 기능은 벡터 저장소(storage) 용량을 기준으로 하루에 $0.10/GB의 요금이 부과됩니다. 첫 번째 1GB는 무료로 제공됩니다​.\n",
    "- 보존기간: 생성된 벡터 저장소가 일주일 동안 비활성 상태로 남아 있으면 자동으로 삭제됩니다."
   ]
  },
  {
   "cell_type": "code",
   "execution_count": 5,
   "id": "2a243662-9e11-41d0-a454-2b2eaa15b4df",
   "metadata": {},
   "outputs": [
    {
     "name": "stdout",
     "output_type": "stream",
     "text": [
      "completed\n",
      "FileCounts(cancelled=0, completed=2, failed=0, in_progress=0, total=2)\n"
     ]
    }
   ],
   "source": [
    "# \"Financial Statements\"라는 벡터 스토어 생성\n",
    "vector_store = client.vector_stores.create(name=\"Financial Statements\")\n",
    " \n",
    "# OpenAI에 업로드할 파일 준비\n",
    "file_paths = [\"재무제표/goog-10k.pdf\", \"재무제표/brka-10k.pdf\"]\n",
    "file_streams = [open(path, \"rb\") for path in file_paths]\n",
    " \n",
    "# 업로드 및 폴링 SDK 도우미를 사용하여 파일을 업로드하고 벡터 스토어에 추가,\n",
    "# 파일 배치의 완료 상태를 폴링합니다.\n",
    "file_batch = client.vector_stores.file_batches.upload_and_poll(\n",
    "  vector_store_id=vector_store.id, files=file_streams\n",
    ")\n",
    " \n",
    "# 이 작업의 결과를 보기 위해 상태 및 파일 개수를 출력할 수 있습니다.\n",
    "print(file_batch.status)\n",
    "print(file_batch.file_counts)"
   ]
  },
  {
   "cell_type": "markdown",
   "id": "2bbf6fe0-c582-4796-bee0-6d5432c7c674",
   "metadata": {},
   "source": [
    "### 3단계: 새로운 Vector Store를 사용하도록 어시스턴트 업데이트\n",
    "어시스턴트가 파일에 액세스할 수 있도록 하려면 어시스턴트의 tool_resources를 새 vector_store ID로 업데이트합니다."
   ]
  },
  {
   "cell_type": "code",
   "execution_count": 6,
   "id": "079aad9c-8314-45f8-9581-965276c2cc58",
   "metadata": {},
   "outputs": [
    {
     "data": {
      "text/plain": [
       "Assistant(id='asst_U0AjjtEFAy8JE7oEt3i5b6mN', created_at=1743554243, description=None, instructions='당신은 전문 재무 분석가입니다. 지식 기반을 사용하여 감사된 재무제표에 대한 질문에 답하십시오.', metadata={}, model='gpt-4o-mini', name='Financial Analyst Assistant', object='assistant', tools=[FileSearchTool(type='file_search', file_search=FileSearch(max_num_results=None, ranking_options=FileSearchRankingOptions(score_threshold=0.0, ranker='default_2024_08_21')))], response_format='auto', temperature=1.0, tool_resources=ToolResources(code_interpreter=None, file_search=ToolResourcesFileSearch(vector_store_ids=['vs_67ec888e504481918a964e2e36723c8d'])), top_p=1.0, reasoning_effort=None)"
      ]
     },
     "execution_count": 6,
     "metadata": {},
     "output_type": "execute_result"
    }
   ],
   "source": [
    "assistant = client.beta.assistants.update(\n",
    "  assistant_id=assistant.id,\n",
    "  tool_resources={\"file_search\": {\"vector_store_ids\": [vector_store.id]}},\n",
    ")\n",
    "assistant"
   ]
  },
  {
   "cell_type": "markdown",
   "id": "2d0b5632-f49a-4aaf-b2a7-e67f5807b65a",
   "metadata": {},
   "source": [
    "### 4단계: 스레드 만들기\n",
    "스레드에 메시지 첨부 파일로 파일을 첨부할 수도 있습니다. 이렇게 하면 스레드와 연결된 또 다른 벡터 저장소가 생성됩니다. 또는 이 스레드에 이미 연결된 벡터 저장소가 있는 경우 새 파일을 기존 스레드 벡터 저장소에 연결합니다. 이 스레드에서 실행을 생성하면 파일 검색 도구는 어시스턴트의 vector_store와 스레드의 vector_store를 모두 쿼리합니다.  \n",
    "\n",
    "여기서 사용자는 Apple의 최신 10-K 파일을 추가로 첨부합니다. "
   ]
  },
  {
   "cell_type": "code",
   "execution_count": 7,
   "id": "dce5da43-2be3-4dbd-ac5a-213d8e48137e",
   "metadata": {},
   "outputs": [
    {
     "name": "stdout",
     "output_type": "stream",
     "text": [
      "ToolResourcesFileSearch(vector_store_ids=['vs_67ec88a5bc208191b5278c3ff9e3f759'])\n"
     ]
    }
   ],
   "source": [
    "# OpenAI에 사용자 제공 파일 업로드\n",
    "message_file = client.files.create(\n",
    "  file=open(\"재무제표/aapl-10k.pdf\", \"rb\"), purpose=\"assistants\"\n",
    ")\n",
    "\n",
    "# 스레드 생성 및 파일을 메시지에 첨부\n",
    "thread = client.beta.threads.create(\n",
    "  messages=[\n",
    "    {\n",
    "      \"role\": \"user\",\n",
    "      \"content\": \"2023년 10월 말에 AAPL의 발행 주식 수는 얼마였나요?\",\n",
    "      # 새 파일을 메시지에 첨부합니다.\n",
    "      \"attachments\": [\n",
    "        { \"file_id\": message_file.id, \n",
    "          \"tools\": [{\"type\": \"file_search\"}] }\n",
    "      ],\n",
    "    }\n",
    "  ]\n",
    ")\n",
    "\n",
    "# 이제 스레드에는 파일이 있는 벡터 저장소가 툴 리소스로 있습니다.\n",
    "print(thread.tool_resources.file_search)"
   ]
  },
  {
   "cell_type": "markdown",
   "id": "8442d29b-e724-4062-b8de-a89e1ddb565e",
   "metadata": {},
   "source": [
    "### 5단계: Run 만들기 및 출력 확인\r\n",
    "이제Run행을 생성하고 모델이 파일 검색 도구를 사용하여 사용자의 질문에 대한 응답을 제공하는 것을 관찰합니다."
   ]
  },
  {
   "cell_type": "code",
   "execution_count": 8,
   "id": "27944740-797a-49c1-b818-87b5fe2331de",
   "metadata": {},
   "outputs": [],
   "source": [
    "# `create_and_poll` 메서드를 사용하여 새로운 실행(run)을 생성하고 해당 실행이 완료될 때까지 폴링합니다.\n",
    "run = client.beta.threads.runs.create_and_poll(\n",
    "  thread_id=thread.id,  # 실행할 스레드의 ID\n",
    "  assistant_id=assistant.id,  # 실행할 어시스턴트의 ID\n",
    "  instructions=\"사용자를 고객님이라고 부르세요. 이 사용자는 프리미엄 계정을 가지고 있습니다.\",   # 어시스턴트에게 제공할 지시사항\n",
    ")"
   ]
  },
  {
   "cell_type": "code",
   "execution_count": 9,
   "id": "9de2fd71-e2c7-4bfd-933b-648f19500a7e",
   "metadata": {},
   "outputs": [
    {
     "name": "stdout",
     "output_type": "stream",
     "text": [
      "SyncCursorPage[Message](data=[Message(id='msg_cCJC7sdVPFR4fAiQqZwOCfVf', assistant_id='asst_U0AjjtEFAy8JE7oEt3i5b6mN', attachments=[], completed_at=None, content=[TextContentBlock(text=Text(annotations=[FileCitationAnnotation(end_index=72, file_citation=FileCitation(file_id='file-T277g7KrrXGajdB5rBNaGS'), start_index=60, text='【6:1†source】', type='file_citation')], value='2023년 10월 말에 Apple Inc. (AAPL)의 발행 주식 수는 15,943,425,000 주입니다【6:1†source】.'), type='text')], created_at=1743554732, incomplete_at=None, incomplete_details=None, metadata={}, object='thread.message', role='assistant', run_id='run_NoMpbFQ3Qy509ZLzApe6EC3W', status=None, thread_id='thread_zQ1qKnGqH666TvvcgnEKz64M'), Message(id='msg_i77ROfVqT5w4Uc2y5TTrVOx9', assistant_id=None, attachments=[Attachment(file_id='file-T277g7KrrXGajdB5rBNaGS', tools=[AttachmentToolAssistantToolsFileSearchTypeOnly(type='file_search')])], completed_at=None, content=[TextContentBlock(text=Text(annotations=[], value='2023년 10월 말에 AAPL의 발행 주식 수는 얼마였나요?'), type='text')], created_at=1743554726, incomplete_at=None, incomplete_details=None, metadata={}, object='thread.message', role='user', run_id=None, status=None, thread_id='thread_zQ1qKnGqH666TvvcgnEKz64M')], has_more=False, object='list', first_id='msg_cCJC7sdVPFR4fAiQqZwOCfVf', last_id='msg_i77ROfVqT5w4Uc2y5TTrVOx9')\n"
     ]
    }
   ],
   "source": [
    "# 실행 상태 확인\n",
    "if run.status == 'completed': \n",
    "  messages = client.beta.threads.messages.list(\n",
    "    thread_id=thread.id\n",
    "  )\n",
    "  print(messages)\n",
    "else:\n",
    "  print(run.status)"
   ]
  },
  {
   "cell_type": "code",
   "execution_count": 10,
   "id": "dded9e24-cae3-4d7d-adf7-c437458b5b1b",
   "metadata": {},
   "outputs": [
    {
     "data": {
      "text/plain": [
       "'2023년 10월 말에 Apple Inc. (AAPL)의 발행 주식 수는 15,943,425,000 주입니다【6:1†source】.'"
      ]
     },
     "execution_count": 10,
     "metadata": {},
     "output_type": "execute_result"
    }
   ],
   "source": [
    "messages.data[0].content[0].text.value"
   ]
  },
  {
   "cell_type": "markdown",
   "id": "17f83b53-b1b0-4020-8711-69a5a998128c",
   "metadata": {},
   "source": [
    "### Thread에 새로운 message 추가 및 Run 생성"
   ]
  },
  {
   "cell_type": "code",
   "execution_count": 11,
   "id": "32c2ac49-e2aa-43b3-91cc-48aaa7485d1c",
   "metadata": {},
   "outputs": [],
   "source": [
    "message = client.beta.threads.messages.create(\n",
    "      thread_id=thread.id,\n",
    "      role=\"user\",\n",
    "      content=\"2023년 Google의 당기 순이익은 얼마였나요? BERKSHIRE HATHAWAY INC. 와 어느 쪽의 당기 순이익이 더 많았나요?\"\n",
    "    )"
   ]
  },
  {
   "cell_type": "code",
   "execution_count": 12,
   "id": "d02c357d-f9e3-4505-9e2a-72c2761ff8c6",
   "metadata": {},
   "outputs": [],
   "source": [
    "# `create_and_poll` 메서드를 사용하여 새로운 실행(run)을 생성하고 해당 실행이 완료될 때까지 폴링합니다.\n",
    "run = client.beta.threads.runs.create_and_poll(\n",
    "  thread_id=thread.id,  # 실행할 스레드의 ID\n",
    "  assistant_id=assistant.id,  # 실행할 어시스턴트의 ID\n",
    "  instructions=\"사용자를 고객님이라고 부르세요. 이 사용자는 프리미엄 계정을 가지고 있습니다.\",   # 어시스턴트에게 제공할 지시사항\n",
    ")"
   ]
  },
  {
   "cell_type": "code",
   "execution_count": 13,
   "id": "f0554d5c-b9f3-499c-9d21-215e3691e5a5",
   "metadata": {},
   "outputs": [
    {
     "name": "stdout",
     "output_type": "stream",
     "text": [
      "SyncCursorPage[Message](data=[Message(id='msg_GZKLk9ET6Nm5HCCNpJA2N76S', assistant_id='asst_U0AjjtEFAy8JE7oEt3i5b6mN', attachments=[], completed_at=None, content=[TextContentBlock(text=Text(annotations=[FileCitationAnnotation(end_index=46, file_citation=FileCitation(file_id='file-SCCSnnzpyT2PgQkVtay2nP'), start_index=33, text='【11:0†source】', type='file_citation'), FileCitationAnnotation(end_index=110, file_citation=FileCitation(file_id='file-CCYU2QRu4iawQLdpRD9cTS'), start_index=97, text='【17:8†source】', type='file_citation')], value='2023년 Google의 당기 순이익은 약 71억 달러입니다【11:0†source】. 반면, Berkshire Hathaway Inc.의 당기 순이익은 약 425억 달러입니다【17:8†source】. 따라서 두 회사 중에서 Berkshire Hathaway Inc.의 당기 순이익이 더 많습니다.'), type='text')], created_at=1743554745, incomplete_at=None, incomplete_details=None, metadata={}, object='thread.message', role='assistant', run_id='run_JdR7iosbRrka7PL78NeMQDX0', status=None, thread_id='thread_zQ1qKnGqH666TvvcgnEKz64M'), Message(id='msg_5IHG4HTX6RdMIuBjq7rAaPxM', assistant_id=None, attachments=[], completed_at=None, content=[TextContentBlock(text=Text(annotations=[], value='2023년 Google의 당기 순이익은 얼마였나요? BERKSHIRE HATHAWAY INC. 와 어느 쪽의 당기 순이익이 더 많았나요?'), type='text')], created_at=1743554734, incomplete_at=None, incomplete_details=None, metadata={}, object='thread.message', role='user', run_id=None, status=None, thread_id='thread_zQ1qKnGqH666TvvcgnEKz64M'), Message(id='msg_cCJC7sdVPFR4fAiQqZwOCfVf', assistant_id='asst_U0AjjtEFAy8JE7oEt3i5b6mN', attachments=[], completed_at=None, content=[TextContentBlock(text=Text(annotations=[FileCitationAnnotation(end_index=72, file_citation=FileCitation(file_id='file-T277g7KrrXGajdB5rBNaGS'), start_index=60, text='【6:1†source】', type='file_citation')], value='2023년 10월 말에 Apple Inc. (AAPL)의 발행 주식 수는 15,943,425,000 주입니다【6:1†source】.'), type='text')], created_at=1743554732, incomplete_at=None, incomplete_details=None, metadata={}, object='thread.message', role='assistant', run_id='run_NoMpbFQ3Qy509ZLzApe6EC3W', status=None, thread_id='thread_zQ1qKnGqH666TvvcgnEKz64M'), Message(id='msg_i77ROfVqT5w4Uc2y5TTrVOx9', assistant_id=None, attachments=[Attachment(file_id='file-T277g7KrrXGajdB5rBNaGS', tools=[AttachmentToolAssistantToolsFileSearchTypeOnly(type='file_search')])], completed_at=None, content=[TextContentBlock(text=Text(annotations=[], value='2023년 10월 말에 AAPL의 발행 주식 수는 얼마였나요?'), type='text')], created_at=1743554726, incomplete_at=None, incomplete_details=None, metadata={}, object='thread.message', role='user', run_id=None, status=None, thread_id='thread_zQ1qKnGqH666TvvcgnEKz64M')], has_more=False, object='list', first_id='msg_GZKLk9ET6Nm5HCCNpJA2N76S', last_id='msg_i77ROfVqT5w4Uc2y5TTrVOx9')\n"
     ]
    }
   ],
   "source": [
    "# 실행 상태 확인\n",
    "if run.status == 'completed': \n",
    "  messages = client.beta.threads.messages.list(\n",
    "    thread_id=thread.id\n",
    "  )\n",
    "  print(messages)\n",
    "else:\n",
    "  print(run.status)"
   ]
  },
  {
   "cell_type": "code",
   "execution_count": 14,
   "id": "9e6bca19-d7f3-495b-8b50-44a204479f6e",
   "metadata": {},
   "outputs": [
    {
     "data": {
      "text/plain": [
       "'2023년 Google의 당기 순이익은 약 71억 달러입니다【11:0†source】. 반면, Berkshire Hathaway Inc.의 당기 순이익은 약 425억 달러입니다【17:8†source】. 따라서 두 회사 중에서 Berkshire Hathaway Inc.의 당기 순이익이 더 많습니다.'"
      ]
     },
     "execution_count": 14,
     "metadata": {},
     "output_type": "execute_result"
    }
   ],
   "source": [
    "messages.data[0].content[0].text.value"
   ]
  },
  {
   "cell_type": "code",
   "execution_count": 15,
   "id": "9dad2a7c-b2cd-40a0-a78a-b5b7d24d5e6b",
   "metadata": {},
   "outputs": [
    {
     "name": "stdout",
     "output_type": "stream",
     "text": [
      "role: user\n",
      "2023년 10월 말에 AAPL의 발행 주식 수는 얼마였나요?\n",
      "------------------------------------------------------------------------------------------------------------------------------------------------------\n",
      "role: assistant\n",
      "2023년 10월 말에 Apple Inc. (AAPL)의 발행 주식 수는 15,943,425,000 주입니다【6:1†source】.\n",
      "------------------------------------------------------------------------------------------------------------------------------------------------------\n",
      "role: user\n",
      "2023년 Google의 당기 순이익은 얼마였나요? BERKSHIRE HATHAWAY INC. 와 어느 쪽의 당기 순이익이 더 많았나요?\n",
      "------------------------------------------------------------------------------------------------------------------------------------------------------\n",
      "role: assistant\n",
      "2023년 Google의 당기 순이익은 약 71억 달러입니다【11:0†source】. 반면, Berkshire Hathaway Inc.의 당기 순이익은 약 425억 달러입니다【17:8†source】. 따라서 두 회사 중에서 Berkshire Hathaway Inc.의 당기 순이익이 더 많습니다.\n",
      "------------------------------------------------------------------------------------------------------------------------------------------------------\n"
     ]
    }
   ],
   "source": [
    "# messages 객체의 데이터에서 role과 content 값을 추출하여 리스트에 저장\n",
    "values = [(messages.data[i].role, messages.data[i].content[0].text.value) for i in range(len(messages.data)-1, -1, -1)]\n",
    "\n",
    "# 추출한 값들을 출력\n",
    "for role, value in values:\n",
    "    print(f\"role: {role}\")  # 역할(role) 출력\n",
    "    print(value)  # 내용(value) 출력\n",
    "    print(150*\"-\")  # 구분선 출력"
   ]
  },
  {
   "cell_type": "markdown",
   "id": "0551e494-00df-4a25-98ae-b42dc948a863",
   "metadata": {},
   "source": [
    "### 한글 PDF 분석"
   ]
  },
  {
   "cell_type": "code",
   "execution_count": 19,
   "id": "ade76d99-9143-4402-8129-20792beaedae",
   "metadata": {},
   "outputs": [],
   "source": [
    "# step1) 새 assistant 생성\n",
    "assistant = client.beta.assistants.create(\n",
    "  name=\"Financial Analyst Assistant\",\n",
    "  instructions=\"당신은 기업분석 전문가입니다. 지식 기반을 사용하여 증권사 기업분석에 대한 질문에 답하십시오.\",\n",
    "  model=Model,\n",
    "  tools=[{\"type\": \"file_search\"}],\n",
    ")"
   ]
  },
  {
   "cell_type": "code",
   "execution_count": 21,
   "id": "34799f56-5f90-497c-b00c-c5af7011a2f9",
   "metadata": {},
   "outputs": [
    {
     "name": "stdout",
     "output_type": "stream",
     "text": [
      "completed\n",
      "FileCounts(cancelled=0, completed=2, failed=0, in_progress=0, total=2)\n"
     ]
    }
   ],
   "source": [
    "# step2) 새 벡터 스토어 생성\n",
    "vector_store = client.vector_stores.create(name=\"기업분석보고서\")\n",
    " \n",
    "# OpenAI에 업로드할 파일 준비\n",
    "file_paths = [\"재무제표/네이버.pdf\", \"재무제표/LG엔솔.pdf\"]\n",
    "file_streams = [open(path, \"rb\") for path in file_paths]\n",
    " \n",
    "# 업로드 및 폴링 SDK 도우미를 사용하여 파일을 업로드하고 벡터 스토어에 추가,\n",
    "# 파일 배치의 완료 상태를 폴링합니다.\n",
    "file_batch = client.vector_stores.file_batches.upload_and_poll(\n",
    "  vector_store_id=vector_store.id, files=file_streams\n",
    ")\n",
    " \n",
    "# 이 작업의 결과를 보기 위해 상태 및 파일 개수를 출력할 수 있습니다.\n",
    "print(file_batch.status)\n",
    "print(file_batch.file_counts)"
   ]
  },
  {
   "cell_type": "code",
   "execution_count": 22,
   "id": "ea6d677b-29b1-47f5-b251-5109212ec888",
   "metadata": {},
   "outputs": [],
   "source": [
    "# step3) assistant update\n",
    "assistant = client.beta.assistants.update(\n",
    "  assistant_id=assistant.id,\n",
    "  tool_resources={\"file_search\": {\"vector_store_ids\": [vector_store.id]}},\n",
    ")"
   ]
  },
  {
   "cell_type": "code",
   "execution_count": 23,
   "id": "27420bc1-976d-4774-bf2e-a5857e965dfd",
   "metadata": {},
   "outputs": [
    {
     "name": "stdout",
     "output_type": "stream",
     "text": [
      "ToolResourcesFileSearch(vector_store_ids=['vs_67ec88f6202c8191bd5888dc8e43bc58'])\n"
     ]
    }
   ],
   "source": [
    "# OpenAI에 사용자 제공 파일 업로드\n",
    "message_file = client.files.create(\n",
    "  file=open(\"재무제표/에코프로비엠.pdf\", \"rb\"), purpose=\"assistants\"\n",
    ")\n",
    "\n",
    "# step 4) 스레드 생성 및 파일을 메시지에 첨부\n",
    "thread = client.beta.threads.create(\n",
    "  messages=[\n",
    "    {\n",
    "      \"role\": \"user\",\n",
    "      \"content\": \"LG에너지솔루션의 2024년 하반기 전망을 요약해 주세요. 에코프로비엠은 매출액이 줄은 것에 비해 왜 영업이익이 더 크게 줄어들었나요?\",\n",
    "      # 새 파일을 메시지에 첨부합니다.\n",
    "      \"attachments\": [\n",
    "        { \"file_id\": message_file.id, \n",
    "          \"tools\": [{\"type\": \"file_search\"}] }\n",
    "      ],\n",
    "    }\n",
    "  ]\n",
    ")\n",
    "\n",
    "# 이제 스레드에는 파일이 있는 벡터 저장소가 툴 리소스로 있습니다.\n",
    "print(thread.tool_resources.file_search)"
   ]
  },
  {
   "cell_type": "code",
   "execution_count": 24,
   "id": "2dabe5bd-0c8c-4fd6-b41d-643b5fafb47b",
   "metadata": {},
   "outputs": [],
   "source": [
    "# step 5) 새로운 실행(run)을 생성하고 해당 실행이 완료될 때까지 폴링\n",
    "run = client.beta.threads.runs.create_and_poll(\n",
    "  thread_id=thread.id,  # 실행할 스레드의 ID\n",
    "  assistant_id=assistant.id,  # 실행할 어시스턴트의 ID\n",
    "  instructions=\"사용자를 고객님이라고 부르세요. 이 사용자는 프리미엄 계정을 가지고 있습니다.\",   # 어시스턴트에게 제공할 지시사항\n",
    ")"
   ]
  },
  {
   "cell_type": "code",
   "execution_count": 25,
   "id": "da17dd47-272c-419e-8702-2d669991f1e1",
   "metadata": {},
   "outputs": [
    {
     "name": "stdout",
     "output_type": "stream",
     "text": [
      "고객님, LG에너지솔루션의 2024년 하반기 전망과 에코프로비엠의 매출 및 영업이익 감소 원인에 대해 요약해 드리겠습니다.\n",
      "\n",
      "### LG에너지솔루션의 2024년 하반기 전망\n",
      "1. **시장 회복의 중요성**: 2024년 하반기에 전통 자동차 제조업체의 모델 노후화가 본격화되는 가운데, GM의 신차 판매 성장세가 중요할 것이라고 전망됩니다. GM만이 신차 라인업을 바탕으로 판매가 증가하고 있으며, 이 판매가 다른 고객사의 부진을 얼마나 상쇄할 수 있을지가 관건입니다【4:1†source】.\n",
      "\n",
      "2. **실적 전망**: 2분기 영업이익은 예상치(2,859억 원)보다 26% 하회할 것으로 보이며, 이는 전기차 수요의 부진과 에너지 저장 시스템(ESS)에서의 적자 때문입니다【4:1†source】. 또한, 2024년의 매출은 약 28조 원으로 추정되고, 이는 전년 대비 16.5% 감소한 수치입니다【4:10†source】.\n",
      "\n",
      "### 에코프로비엠의 매출 및 영업이익 감소 원인\n",
      "1. **매출 감소**: 에코프로비엠의 매출액은 2024년 2분기 809.5억 원으로 전년 동기 대비 57.5% 감소했습니다. 이는 EV 배터리 부문의 판매 부진이 현실화되었기 때문입니다【4:16†source】【4:3†source】.\n",
      "\n",
      "2. **영업이익 감소**: 영업이익은 3.9억 원으로 전년 대비 96.6% 감소했습니다. 영업이익이 더 크게 줄어든 이유는 매출 감소에 따라 전체 고정비와 운영비가 매우 높은 비율로 전가되었기 때문이며, 이러한 구조는 매출이 줄어도 영업이익에 더 큰 타격을 주는 결과로 이어졌습니다【4:16†source】.\n",
      "\n",
      "이와 같이 LG에너지솔루션은 전반적인 시장 회복이 중요하며, 에코프로비엠은 심각한 매출과 영업이익 감소에 직면하고 있습니다. 추가적으로 궁금하신 사항이 있으시면 언제든지 말씀해 주세요!\n"
     ]
    }
   ],
   "source": [
    "# 실행 상태 확인\n",
    "if run.status == 'completed': \n",
    "  messages = client.beta.threads.messages.list(\n",
    "    thread_id=thread.id\n",
    "  )\n",
    "  print(messages.data[0].content[0].text.value)\n",
    "else:\n",
    "  print(run.status)"
   ]
  },
  {
   "cell_type": "code",
   "execution_count": 26,
   "id": "5a13b336-166c-4ca5-96f7-a1ec5c5772ca",
   "metadata": {},
   "outputs": [
    {
     "name": "stdout",
     "output_type": "stream",
     "text": [
      "고객님, 네이버의 2023년 4분기 영업이익과 한화 투자 증권의 목표가 상향 조정 이유에 대해 요약해 드리겠습니다.\n",
      "\n",
      "### 2023년 4분기 네이버 영업이익\n",
      "- **영업이익**: 4분기 영업이익은 **4,055억 원**으로 집계되었습니다【8:0†source】.\n",
      "\n",
      "### 한화 투자 증권의 목표가 상향 조정 이유\n",
      "- 한화 투자 증권은 네이버의 목표주가를 **28만 원으로 상향**했습니다. 이는 주로 다음과 같은 이유 때문입니다:\n",
      "  1. **웹툰 지분가치 상향**: 웹툰 사업의 성장 가능성이 높아지면서 지분 가치가 증가했습니다.\n",
      "  2. **광고/커머스 수익성 개선**: 광고 및 커머스 부문의 개선된 수익성이 반영되었습니다.\n",
      "  3. **영업이익 전망 상향**: 올해 영업이익 전망치를 기존 대비 **4% 상향 조정**했습니다【8:14†source】【8:17†source】.\n",
      "\n",
      "이와 같은 이유로 한화 투자 증권은 네이버의 기업 가치를 긍정적으로 평가하고 있습니다. 추가 질문이 있으시면 언제든지 말씀해 주세요!\n"
     ]
    }
   ],
   "source": [
    "# thread에 새로운 message 추가\n",
    "message = client.beta.threads.messages.create(\n",
    "      thread_id=thread.id,\n",
    "      role=\"user\",\n",
    "      content=\"2023년 4분기의 네이버의 영업이익은 얼마였나요? 한화 투자 증권이 목표가를 상향 조정한 이유는 무엇인가요?\"\n",
    "    )\n",
    "\n",
    "run = client.beta.threads.runs.create_and_poll(\n",
    "  thread_id=thread.id,  # 실행할 스레드의 ID\n",
    "  assistant_id=assistant.id,  # 실행할 어시스턴트의 ID\n",
    "  instructions=\"사용자를 고객님이라고 부르세요. 이 사용자는 프리미엄 계정을 가지고 있습니다.\",   # 어시스턴트에게 제공할 지시사항\n",
    ")\n",
    "\n",
    "if run.status == 'completed': \n",
    "  messages = client.beta.threads.messages.list(\n",
    "    thread_id=thread.id\n",
    "  )\n",
    "  print(messages.data[0].content[0].text.value)\n",
    "else:\n",
    "  print(run.status)"
   ]
  },
  {
   "cell_type": "markdown",
   "id": "98814b67-e1c3-48c8-907d-6a260e4305ae",
   "metadata": {},
   "source": [
    "## 실습 : Prompt 수정하여 실행"
   ]
  },
  {
   "cell_type": "code",
   "execution_count": null,
   "id": "d03d773c-5e24-4999-ba99-e4045ec5619a",
   "metadata": {},
   "outputs": [],
   "source": []
  }
 ],
 "metadata": {
  "kernelspec": {
   "display_name": "Python 3 (ipykernel)",
   "language": "python",
   "name": "python3"
  },
  "language_info": {
   "codemirror_mode": {
    "name": "ipython",
    "version": 3
   },
   "file_extension": ".py",
   "mimetype": "text/x-python",
   "name": "python",
   "nbconvert_exporter": "python",
   "pygments_lexer": "ipython3",
   "version": "3.9.21"
  }
 },
 "nbformat": 4,
 "nbformat_minor": 5
}
