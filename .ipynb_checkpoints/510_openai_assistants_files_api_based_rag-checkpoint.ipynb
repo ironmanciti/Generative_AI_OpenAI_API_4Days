{
 "cells": [
  {
   "cell_type": "markdown",
   "metadata": {},
   "source": [
    "# OpenAI Assistants 및 파일 API 기반 RAG 애플리케이션\n",
    "\n",
    "**Assistants API**를 사용하면 개발자는 영구 스레드 및 메시지, 파일, 자동 RAG를 포함하여 LLM 기반 애플리케이션에 필요한 상태 저장 작업을 처리할 수 있는 AI 도우미를 구축할 수 있습니다.\n",
    "\n",
    "어시스턴트에는 instruction이 있으며 모델, 도구 및 지식을 활용하여 사용자 쿼리에 응답할 수 있습니다. Assistants API는 현재 세 가지 유형의 도구를 지원합니다.\n",
    "\n",
    "- 코드 해석기\n",
    "- 검색\n",
    "- 함수 호출\n",
    "\n",
    "위에 나열된 OpenAI 호스팅 도구에 대한 'Assistant' 액세스 권한을 부여하면 도구 사용에 추가 비용이 발생합니다.\n",
    "\n",
    "**RAG**(Retrieval Augmented Generation)는 검색 기반 모델과 생성 모델의 기능을 사용하여 생성된 텍스트의 품질과 관련성을 향상시키는 자연어 처리에 사용되는 기술입니다.\n",
    "\n",
    "문서 기반 QA 봇은 RAG의 전형적인 사용 사례입니다. 'LangChain' 및 'LlamaIndex'와 같은 주류 LLM 프레임워크는 이러한 RAG 애플리케이션 구축을 지원합니다.\n",
    "\n",
    "이 튜토리얼에서는 OpenAI `Assistants` 및 `Files` API를 사용하여 RAG 애플리케이션을 개발하는 방법을 보여 드리겠습니다. OpenAI 호스팅 도구인 **`Retrieval`** 사용에 대한 추가 비용을 고려하면 코드가 더 깔끔하고, 솔루션이 더 우아할 수 있으며, 비용이 조금 더 많이 들 수 있습니다.\n",
    "\n",
    "이 솔루션을 사용하면 다음과 같은 지루한 작업을 처리할 필요가 없습니다.\n",
    "\n",
    "- 적절한 전략으로 텍스트 분할\n",
    "- 텍스트 덩어리(text chunks)를 벡터화\n",
    "- 벡터 데이터 세트 유지\n",
    "- 유사성 검색 (Similarity search)"
   ]
  },
  {
   "cell_type": "code",
   "execution_count": 1,
   "metadata": {
    "id": "ywRTtMmR2UKV"
   },
   "outputs": [],
   "source": [
    "import os\n",
    "import openai\n",
    "import sys\n",
    "sys.path.append('./')\n",
    "\n",
    "from dotenv import load_dotenv, find_dotenv\n",
    "_ = load_dotenv(find_dotenv()) # read local .env file\n",
    "\n",
    "openai.api_key  = os.environ['OPENAI_API_KEY']"
   ]
  },
  {
   "cell_type": "code",
   "execution_count": 2,
   "metadata": {
    "id": "LPz0oCZkEcwb"
   },
   "outputs": [],
   "source": [
    "openai_client = openai.OpenAI()"
   ]
  },
  {
   "cell_type": "markdown",
   "metadata": {
    "id": "lNi_L5_V9mZz"
   },
   "source": [
    "### 1. 기존 파일 검색\r\n",
    "\r\n",
    "OpenAI Files API를 통해 업로드된 파일은 유지됩니다. 해당 ID를 참조하면 확실히 재사용할 수 있습니다.\r\n",
    "\r\n",
    "이 단계에서는 이미 업로드된 파일을 검색하여 '2023-WilmerHale-VC-Report.pdf' PDF 파일이 있는지 확인합니존재하\n",
    "\r\n",
    "그렇다면 삭제하고 다시 업로드해보겠습니다."
   ]
  },
  {
   "cell_type": "code",
   "execution_count": 3,
   "metadata": {
    "id": "2LTwlGShzYJd"
   },
   "outputs": [],
   "source": [
    "# Retrieve the file list\n",
    "\n",
    "uploaded_files = openai_client.files.list()"
   ]
  },
  {
   "cell_type": "code",
   "execution_count": 4,
   "metadata": {
    "colab": {
     "base_uri": "https://localhost:8080/"
    },
    "id": "s0YAls8qzkoH",
    "outputId": "a2652496-3e9c-4c03-9ecf-a0277a063109"
   },
   "outputs": [
    {
     "data": {
      "text/plain": [
       "[FileObject(id='file-DnfxAX0779HxfCkNxPMCoGTw', bytes=1310948, created_at=1709727376, filename='2023-WilmerHale-VC-Report.pdf', object='file', purpose='assistants', status='processed', status_details=None),\n",
       " FileObject(id='file-czuds3Ze4cFJNhbnOWTJ6rRu', bytes=None, created_at=1704856972, filename='b94fe2a5-2c83-4ca9-9d50-64248b420083', object='file', purpose='assistants_output', status='processed', status_details=None),\n",
       " FileObject(id='file-QnLwFScZUvBdsQ5EY27nNvPd', bytes=49807, created_at=1704856931, filename='login_screen.png', object='file', purpose='assistants', status='processed', status_details=None),\n",
       " FileObject(id='file-mneZNZvJ9txEKsCxVNRk9mV8', bytes=763998, created_at=1704855403, filename='파이썬금융분석.pdf', object='file', purpose='assistants', status='processed', status_details=None),\n",
       " FileObject(id='file-2JnJ1Wg4SKHPw0qlYpyw41SG', bytes=763998, created_at=1704855314, filename='파이썬금융분석.pdf', object='file', purpose='assistants', status='processed', status_details=None)]"
      ]
     },
     "execution_count": 4,
     "metadata": {},
     "output_type": "execute_result"
    }
   ],
   "source": [
    "uploaded_files.data"
   ]
  },
  {
   "cell_type": "code",
   "execution_count": 5,
   "metadata": {
    "id": "aROVPPAl-a-m"
   },
   "outputs": [],
   "source": [
    "# Find the file by name\n",
    "\n",
    "# filename_to_find = '2023-WilmerHale-VC-Report.pdf'\n",
    "filename_to_find = '파이썬금융분석.pdf'\n",
    "the_file_id = None\n",
    "\n",
    "file_objects = list(filter(lambda x: x.filename == filename_to_find, uploaded_files.data))\n",
    "\n",
    "if len(file_objects) > 0:\n",
    "  the_file_id = file_objects[0].id"
   ]
  },
  {
   "cell_type": "code",
   "execution_count": 6,
   "metadata": {
    "colab": {
     "base_uri": "https://localhost:8080/",
     "height": 36
    },
    "id": "m0NMZ59sIC-N",
    "outputId": "8287e04c-d9c3-4b5a-837f-64c5ae444d3b"
   },
   "outputs": [
    {
     "data": {
      "text/plain": [
       "'file-mneZNZvJ9txEKsCxVNRk9mV8'"
      ]
     },
     "execution_count": 6,
     "metadata": {},
     "output_type": "execute_result"
    }
   ],
   "source": [
    "the_file_id"
   ]
  },
  {
   "cell_type": "markdown",
   "metadata": {
    "id": "IJVmHdvP_wB1"
   },
   "source": [
    "이미 존재한다면 삭제"
   ]
  },
  {
   "cell_type": "code",
   "execution_count": 7,
   "metadata": {
    "id": "DVouWaqgzr4Y"
   },
   "outputs": [],
   "source": [
    "if the_file_id:\n",
    "  delete_status = openai_client.files.delete(the_file_id)"
   ]
  },
  {
   "cell_type": "code",
   "execution_count": 8,
   "metadata": {},
   "outputs": [
    {
     "data": {
      "text/plain": [
       "FileDeleted(id='file-mneZNZvJ9txEKsCxVNRk9mV8', deleted=True, object='file')"
      ]
     },
     "execution_count": 8,
     "metadata": {},
     "output_type": "execute_result"
    }
   ],
   "source": [
    "delete_status"
   ]
  },
  {
   "cell_type": "markdown",
   "metadata": {
    "id": "eBpTSwLQ_2we"
   },
   "source": [
    "### 2. PDF 파일 업로드\r\n",
    "\r\n",
    "이 PDF 파일은 RAG 애플리케이션의 지식 기반이 됩니다."
   ]
  },
  {
   "cell_type": "code",
   "execution_count": 9,
   "metadata": {
    "id": "MIbK3o4XFH1N"
   },
   "outputs": [],
   "source": [
    "file = openai_client.files.create(\n",
    "  # file=open(\"2023-WilmerHale-VC-Report.pdf\", \"rb\"),\n",
    "  file=open('파이썬금융분석.pdf', \"rb\"),\n",
    "  purpose='assistants'\n",
    ")"
   ]
  },
  {
   "cell_type": "code",
   "execution_count": 10,
   "metadata": {
    "colab": {
     "base_uri": "https://localhost:8080/"
    },
    "id": "4BEJW7lxFXVX",
    "outputId": "58cd48e1-3320-49d6-d4c9-64c076ef328e"
   },
   "outputs": [
    {
     "data": {
      "text/plain": [
       "FileObject(id='file-sa2dAFqohSk9OFTv8IOZDxqR', bytes=763998, created_at=1709728660, filename='파이썬금융분석.pdf', object='file', purpose='assistants', status='processed', status_details=None)"
      ]
     },
     "execution_count": 10,
     "metadata": {},
     "output_type": "execute_result"
    }
   ],
   "source": [
    "file"
   ]
  },
  {
   "cell_type": "markdown",
   "metadata": {
    "id": "agL44d-1__wU"
   },
   "source": [
    "### 3. ID로 파일 검색\r\n",
    "\r\n",
    "이는 파일이 성공적으로 업로드되었는지 확인하기 위한 것입니다."
   ]
  },
  {
   "cell_type": "code",
   "execution_count": 11,
   "metadata": {
    "colab": {
     "base_uri": "https://localhost:8080/"
    },
    "id": "3vg3-7t3cb2_",
    "outputId": "c305d4f6-3174-44d5-a97e-8cefe203d7b2"
   },
   "outputs": [
    {
     "data": {
      "text/plain": [
       "FileObject(id='file-sa2dAFqohSk9OFTv8IOZDxqR', bytes=763998, created_at=1709728660, filename='파이썬금융분석.pdf', object='file', purpose='assistants', status='processed', status_details=None)"
      ]
     },
     "execution_count": 11,
     "metadata": {},
     "output_type": "execute_result"
    }
   ],
   "source": [
    "retrieved_file = openai_client.files.retrieve(file.id)\n",
    "retrieved_file"
   ]
  },
  {
   "cell_type": "markdown",
   "metadata": {
    "id": "ju7oOHNfAI2D"
   },
   "source": [
    "### 4. 어시스턴트 만들기\r\n",
    "\r\n",
    "이 어시스턴트`Retrieval`색' 도구를 사용하여 해당 ID로 업로드된 PDF 파일과 연결됩니다."
   ]
  },
  {
   "cell_type": "code",
   "execution_count": 12,
   "metadata": {
    "id": "iwD1noKvFds9"
   },
   "outputs": [],
   "source": [
    "assistant = openai_client.beta.assistants.create(\n",
    "  instructions=\"Use the file provided as your knowledge base to best respond to customer queries.\",\n",
    "  model=\"gpt-4-1106-preview\",\n",
    "  tools=[\n",
    "      { \"type\": \"retrieval\" }\n",
    "    ],\n",
    "  file_ids=[retrieved_file.id]\n",
    ")"
   ]
  },
  {
   "cell_type": "markdown",
   "metadata": {
    "id": "uAZ0Y-egATbn"
   },
   "source": [
    "### 5. 생성된 어시스턴트 검색\r\n",
    "\r\n",
    "어시스턴트 ID로 검색됩니다.\r\n",
    "\r\n",
    "응답에서 예상되는 도구와 파일이 관련되어 있는지 확인해야 합니다."
   ]
  },
  {
   "cell_type": "code",
   "execution_count": 13,
   "metadata": {
    "colab": {
     "base_uri": "https://localhost:8080/"
    },
    "id": "YU7XgHKfcJmG",
    "outputId": "5a8bfafb-ed28-4ce9-b7ee-cd7cf718ca54"
   },
   "outputs": [
    {
     "data": {
      "text/plain": [
       "Assistant(id='asst_Ar9629qoIwOyuU4WzoXjaL1l', created_at=1709728726, description=None, file_ids=['file-sa2dAFqohSk9OFTv8IOZDxqR'], instructions='Use the file provided as your knowledge base to best respond to customer queries.', metadata={}, model='gpt-4-1106-preview', name=None, object='assistant', tools=[ToolRetrieval(type='retrieval')])"
      ]
     },
     "execution_count": 13,
     "metadata": {},
     "output_type": "execute_result"
    }
   ],
   "source": [
    "my_assistant = openai_client.beta.assistants.retrieve(assistant.id)\n",
    "my_assistant"
   ]
  },
  {
   "cell_type": "code",
   "execution_count": 14,
   "metadata": {},
   "outputs": [
    {
     "data": {
      "text/plain": [
       "['file-sa2dAFqohSk9OFTv8IOZDxqR']"
      ]
     },
     "execution_count": 14,
     "metadata": {},
     "output_type": "execute_result"
    }
   ],
   "source": [
    "my_assistant.file_ids"
   ]
  },
  {
   "cell_type": "markdown",
   "metadata": {
    "id": "Gyba9nuNAgqu"
   },
   "source": [
    "### 6. (선택 사항) Assistant 업데이트\r\n",
    "\r\n",
    "생성된 어시스턴트에 도구와 파일이 연결되어 있지 않다는 것을 한 번 알아차렸습니다.\r\n",
    "\r\n",
    "이런 일이 발생하면 '업데이트' 기능을 사용하여 다시 연결하세요."
   ]
  },
  {
   "cell_type": "code",
   "execution_count": 15,
   "metadata": {
    "colab": {
     "base_uri": "https://localhost:8080/"
    },
    "id": "Am6RzSLfeEs3",
    "outputId": "a206f689-2af1-4a3d-e6ab-b02a62bbd271"
   },
   "outputs": [
    {
     "data": {
      "text/plain": [
       "Assistant(id='asst_Ar9629qoIwOyuU4WzoXjaL1l', created_at=1709728726, description=None, file_ids=['file-sa2dAFqohSk9OFTv8IOZDxqR'], instructions='Use the file provided as your knowledge base to best respond to customer queries.', metadata={}, model='gpt-4-1106-preview', name=None, object='assistant', tools=[ToolRetrieval(type='retrieval')])"
      ]
     },
     "execution_count": 15,
     "metadata": {},
     "output_type": "execute_result"
    }
   ],
   "source": [
    "updated_assistant = openai_client.beta.assistants.update(\n",
    "  assistant.id,\n",
    "  tools=[{\"type\": \"retrieval\"}],\n",
    "  file_ids=[retrieved_file.id],\n",
    ")\n",
    "\n",
    "updated_assistant"
   ]
  },
  {
   "cell_type": "markdown",
   "metadata": {
    "id": "e1pi3ta8AvX4"
   },
   "source": [
    "### 7. 스레드 생성"
   ]
  },
  {
   "cell_type": "code",
   "execution_count": 16,
   "metadata": {
    "colab": {
     "base_uri": "https://localhost:8080/"
    },
    "id": "5H1cR3XdF0R1",
    "outputId": "6adcb900-cad0-437b-ee24-15a44ac39504"
   },
   "outputs": [
    {
     "data": {
      "text/plain": [
       "Thread(id='thread_AoYthewducRYq5DzAusEKxPD', created_at=1709728747, metadata={}, object='thread')"
      ]
     },
     "execution_count": 16,
     "metadata": {},
     "output_type": "execute_result"
    }
   ],
   "source": [
    "thread = openai_client.beta.threads.create()\n",
    "thread"
   ]
  },
  {
   "cell_type": "markdown",
   "metadata": {
    "id": "PiCMxyJNAyEU"
   },
   "source": [
    "### 8. 메시지 작성\r\n",
    "\r\n",
    "메시지 개체를 사용하여 Assistant에게 PDF 파일에서 콘텐츠 아키텍처를 추출하도록 요청하겠습니다."
   ]
  },
  {
   "cell_type": "code",
   "execution_count": 17,
   "metadata": {
    "colab": {
     "base_uri": "https://localhost:8080/"
    },
    "id": "sD4YL8apMoUV",
    "outputId": "7c31e5ba-499d-4e3b-a2dd-e05d823987fd"
   },
   "outputs": [
    {
     "data": {
      "text/plain": [
       "ThreadMessage(id='msg_GDIBQEjlERYpq9SkgoausYwv', assistant_id=None, content=[MessageContentText(text=Text(annotations=[], value='시계열 예측에는 어떤 사례가 있는지 알려주세요.'), type='text')], created_at=1709728809, file_ids=[], metadata={}, object='thread.message', role='user', run_id=None, thread_id='thread_AoYthewducRYq5DzAusEKxPD')"
      ]
     },
     "execution_count": 17,
     "metadata": {},
     "output_type": "execute_result"
    }
   ],
   "source": [
    "thread_message = openai_client.beta.threads.messages.create(\n",
    "  thread_id=thread.id,\n",
    "  role=\"user\",\n",
    "  content=\"시계열 예측에는 어떤 사례가 있는지 알려주세요.\",\n",
    ")\n",
    "thread_message"
   ]
  },
  {
   "cell_type": "markdown",
   "metadata": {},
   "source": [
    "### 9. 실행 만들기\n",
    "\n",
    "'Run'은 LLM에 대한 상호작용을 트리거합니다."
   ]
  },
  {
   "cell_type": "code",
   "execution_count": 18,
   "metadata": {
    "id": "Yp1Fr_FEL65n"
   },
   "outputs": [],
   "source": [
    "run = openai_client.beta.threads.runs.create(\n",
    "  thread_id=thread.id,\n",
    "  assistant_id=updated_assistant.id\n",
    ")"
   ]
  },
  {
   "cell_type": "markdown",
   "metadata": {
    "id": "o7HYAnqABRay"
   },
   "source": [
    "### 10. 실행 검색\r\n",
    "\r\n",
    "`Run`은 비동기 모드로 수행되므로 ID로 실행 상태를 쿼리해야 합니다."
   ]
  },
  {
   "cell_type": "code",
   "execution_count": 27,
   "metadata": {
    "id": "rCv4p11TNJUu"
   },
   "outputs": [
    {
     "data": {
      "text/plain": [
       "Run(id='run_VtE4dmUvoYkUnibuCJtXRPXi', assistant_id='asst_Ar9629qoIwOyuU4WzoXjaL1l', cancelled_at=None, completed_at=1709728839, created_at=1709728812, expires_at=None, failed_at=None, file_ids=['file-sa2dAFqohSk9OFTv8IOZDxqR'], instructions='Use the file provided as your knowledge base to best respond to customer queries.', last_error=None, metadata={}, model='gpt-4-1106-preview', object='thread.run', required_action=None, started_at=1709728813, status='completed', thread_id='thread_AoYthewducRYq5DzAusEKxPD', tools=[ToolAssistantToolsRetrieval(type='retrieval')], usage={'prompt_tokens': 7577, 'completion_tokens': 676, 'total_tokens': 8253})"
      ]
     },
     "execution_count": 27,
     "metadata": {},
     "output_type": "execute_result"
    }
   ],
   "source": [
    "retrieved_run = openai_client.beta.threads.runs.retrieve(\n",
    "  thread_id=thread.id,\n",
    "  run_id=run.id\n",
    ")\n",
    "retrieved_run"
   ]
  },
  {
   "cell_type": "code",
   "execution_count": 28,
   "metadata": {},
   "outputs": [
    {
     "data": {
      "text/plain": [
       "'completed'"
      ]
     },
     "execution_count": 28,
     "metadata": {},
     "output_type": "execute_result"
    }
   ],
   "source": [
    "retrieved_run.status"
   ]
  },
  {
   "cell_type": "markdown",
   "metadata": {
    "id": "fCcSFIXoBc6i"
   },
   "source": [
    "### 11. 스레드의 메시지 목록을 검색합니다.\r\n",
    "\r\n",
    "Run이 완료될 때까지 메시지 목록을 검색하고 LLM의 응답인 목록의 최신 메시지를 가져옵니다."
   ]
  },
  {
   "cell_type": "code",
   "execution_count": 29,
   "metadata": {
    "colab": {
     "base_uri": "https://localhost:8080/"
    },
    "id": "dAbqv9S7Ne3n",
    "outputId": "37a14842-5c11-47db-e177-d5ef1ae63a09"
   },
   "outputs": [
    {
     "data": {
      "text/plain": [
       "[ThreadMessage(id='msg_MLl7JXSdKD98mIDCRRhEcNFY', assistant_id='asst_Ar9629qoIwOyuU4WzoXjaL1l', content=[MessageContentText(text=Text(annotations=[TextAnnotationFileCitation(end_index=37, file_citation=TextAnnotationFileCitationFileCitation(file_id='file-sa2dAFqohSk9OFTv8IOZDxqR', quote='시계열 예측에는 다음과 같은 사례가 있습니다.\\n\\n\\n⚫ 판매 예측:  회사 또는 제품의 향후 판매를 예측합니다.\\n\\n\\n⚫ 재무 예측:  주가  환율 또는 이자율을 예측합니다.\\n\\n\\n⚫ 기후 예측:  기온  강수량  풍속과 같은 날씨 패턴을 예측합니다.\\n\\n\\n⚫ 에너지 예측:  발전소 및 유틸리티의 에너지 수요  생산 및 가격을 예측합니다.\\n\\n\\n⚫ 의료 예측:  질병 확산  입원율  의료 자원 활용도를 예측합니다.\\n\\n\\n⚫ 교통 예측:  교통 계획을 위한 교통 패턴  혼잡 및 이동 시간을 예측합니다.\\n\\n\\n⚫ 공급망 예측:  원자재  재고 수준 및 생산 일정에 대한 수요를 예측합니다.\\n\\n\\n⚫ 마케팅 예측:  고객 행동  시장 동향 및 광고 효과를 예측합니다.\\n\\n\\n⚫ 농업 예측:  작물 수확량  날씨 패턴 및 시장 가격과 같은 농업 데이터의 미래 추세 \\n\\n\\n및 패턴 예측이 포함됩니다.\\n\\n\\n⚫ 교육 예측:  학생 등록  졸업율 및 교사 인력과 같은 교육 데이터의 미래 추세 및 패\\n\\n\\n턴을 예측합니다.\\n\\n\\n⚫ 여행 예측:  승객 수  항공편 예약 및 호텔 점유율과 같은 여행 관련 데이터의 미래 \\n\\n\\n추세 및 패턴 예측이 포함됩니다'), start_index=27, text='【7†source】', type='file_citation')], value='시계열 예측에 대한 다음과 같은 사례들이 있습니다【7†source】:\\n\\n- **판매 예측**: 회사 또는 제품의 향후 판매를 예측합니다.\\n- **재무 예측**: 주가, 환율 또는 이자율을 예측합니다.\\n- **기후 예측**: 기온, 강수량, 풍속과 같은 날씨 패턴을 예측합니다.\\n- **에너지 예측**: 발전소 및 유틸리티의 에너지 수요, 생산 및 가격을 예측합니다.\\n- **의료 예측**: 질병 확산, 입원율, 의료 자원 활용도를 예측합니다.\\n- **교통 예측**: 교통 계획을 위한 교통 패턴, 혼잡 및 이동 시간을 예측합니다.\\n- **공급망 예측**: 원자재, 재고 수준 및 생산 일정에 대한 수요를 예측합니다.\\n- **마케팅 예측**: 고객 행동, 시장 동향 및 광고 효과를 예측합니다.\\n- **농업 예측**: 작물 수확량, 날씨 패턴 및 시장 가격과 같은 농업 데이터의 미래 추세 및 패턴을 예측합니다.\\n- **교육 예측**: 학생 등록, 졸업율 및 교사 인력과 같은 교육 데이터의 미래 추세 및 패턴을 예측합니다.\\n- **여행 예측**: 승객 수, 항공편 예약 및 호텔 점유율과 같은 여행 관련 데이터의 미래 추세 및 패턴 예측합니다.'), type='text')], created_at=1709728821, file_ids=[], metadata={}, object='thread.message', role='assistant', run_id='run_VtE4dmUvoYkUnibuCJtXRPXi', thread_id='thread_AoYthewducRYq5DzAusEKxPD'),\n",
       " ThreadMessage(id='msg_GDIBQEjlERYpq9SkgoausYwv', assistant_id=None, content=[MessageContentText(text=Text(annotations=[], value='시계열 예측에는 어떤 사례가 있는지 알려주세요.'), type='text')], created_at=1709728809, file_ids=[], metadata={}, object='thread.message', role='user', run_id=None, thread_id='thread_AoYthewducRYq5DzAusEKxPD')]"
      ]
     },
     "execution_count": 29,
     "metadata": {},
     "output_type": "execute_result"
    }
   ],
   "source": [
    "thread_messages = openai_client.beta.threads.messages.list(thread.id)\n",
    "thread_messages.data"
   ]
  },
  {
   "cell_type": "code",
   "execution_count": 30,
   "metadata": {
    "colab": {
     "base_uri": "https://localhost:8080/"
    },
    "id": "cxVMc18Tem5u",
    "outputId": "51201c38-9374-4157-c38d-7ae718b87a77"
   },
   "outputs": [
    {
     "name": "stdout",
     "output_type": "stream",
     "text": [
      "시계열 예측에 대한 다음과 같은 사례들이 있습니다【7†source】:\n",
      "\n",
      "- **판매 예측**: 회사 또는 제품의 향후 판매를 예측합니다.\n",
      "- **재무 예측**: 주가, 환율 또는 이자율을 예측합니다.\n",
      "- **기후 예측**: 기온, 강수량, 풍속과 같은 날씨 패턴을 예측합니다.\n",
      "- **에너지 예측**: 발전소 및 유틸리티의 에너지 수요, 생산 및 가격을 예측합니다.\n",
      "- **의료 예측**: 질병 확산, 입원율, 의료 자원 활용도를 예측합니다.\n",
      "- **교통 예측**: 교통 계획을 위한 교통 패턴, 혼잡 및 이동 시간을 예측합니다.\n",
      "- **공급망 예측**: 원자재, 재고 수준 및 생산 일정에 대한 수요를 예측합니다.\n",
      "- **마케팅 예측**: 고객 행동, 시장 동향 및 광고 효과를 예측합니다.\n",
      "- **농업 예측**: 작물 수확량, 날씨 패턴 및 시장 가격과 같은 농업 데이터의 미래 추세 및 패턴을 예측합니다.\n",
      "- **교육 예측**: 학생 등록, 졸업율 및 교사 인력과 같은 교육 데이터의 미래 추세 및 패턴을 예측합니다.\n",
      "- **여행 예측**: 승객 수, 항공편 예약 및 호텔 점유율과 같은 여행 관련 데이터의 미래 추세 및 패턴 예측합니다.\n"
     ]
    }
   ],
   "source": [
    "print(thread_messages.data[0].content[0].text.value)"
   ]
  },
  {
   "cell_type": "code",
   "execution_count": null,
   "metadata": {},
   "outputs": [],
   "source": []
  }
 ],
 "metadata": {
  "colab": {
   "provenance": []
  },
  "kernelspec": {
   "display_name": "Python 3 (ipykernel)",
   "language": "python",
   "name": "python3"
  },
  "language_info": {
   "codemirror_mode": {
    "name": "ipython",
    "version": 3
   },
   "file_extension": ".py",
   "mimetype": "text/x-python",
   "name": "python",
   "nbconvert_exporter": "python",
   "pygments_lexer": "ipython3",
   "version": "3.9.16"
  }
 },
 "nbformat": 4,
 "nbformat_minor": 4
}
