{
 "cells": [
  {
   "cell_type": "markdown",
   "id": "d0159061-ae5d-49cb-8e0c-24a48087731c",
   "metadata": {},
   "source": [
    "# Prompt Examples\n",
    "\n",
    "- https://platform.openai.com/docs/examples 참조"
   ]
  },
  {
   "cell_type": "code",
   "execution_count": null,
   "id": "dac7f856",
   "metadata": {},
   "outputs": [],
   "source": []
  },
  {
   "cell_type": "code",
   "execution_count": null,
   "id": "8b44c69f",
   "metadata": {},
   "outputs": [],
   "source": []
  },
  {
   "cell_type": "markdown",
   "id": "6e00626d-ca14-411b-898f-856309a98b6d",
   "metadata": {},
   "source": [
    "## 문법 수정\n",
    "\n",
    "SYSTEM : 당신은 문장을 받게 될 것이며, 당신의 임무는 그것을 표준 한국어로 변환하는 것입니다.  \n",
    "USER :   \n",
    "안갔어 시장에 그녀는."
   ]
  },
  {
   "cell_type": "code",
   "execution_count": null,
   "id": "8fb02fe9",
   "metadata": {},
   "outputs": [],
   "source": []
  },
  {
   "cell_type": "code",
   "execution_count": null,
   "id": "fcb384cd",
   "metadata": {},
   "outputs": [],
   "source": []
  },
  {
   "cell_type": "markdown",
   "id": "54f4415f-60b6-4308-aaf1-9f46dc634445",
   "metadata": {},
   "source": [
    "## 구조화되지 않은 데이터의 구문 분석\n",
    "SYSTEM : 구조화되지 않은 데이터가 제공되며 이를 CSV 형식으로 구문 분석하는 작업이 수행됩니다.  \n",
    "USER :   \n",
    "최근 발견된 행성 구크럭스(Goocrux)에서는 많은 과일이 발견됐다. 그곳에서 자라는 네오스키즐이 있는데, 보라색이고 사탕 맛이 납니다. 회색 빛이 도는 파란색 과일이고 매우 시큼하며 레몬과 약간 비슷한 로헤클(loheckles)도 있습니다. 포유닛은 밝은 녹색을 띠며 단맛보다 풍미가 더 좋습니다. 네온 핑크색 맛과 솜사탕 같은 맛이 나는 루프노바도 많이 있습니다. 마지막으로 글로울(glowls)이라는 과일이 있는데, 이 과일은 신맛과 부식성이 있는 매우 신맛과 쓴맛이 나며 옅은 오렌지색을 띠고 있습니다."
   ]
  },
  {
   "cell_type": "code",
   "execution_count": null,
   "id": "1b875d15",
   "metadata": {},
   "outputs": [],
   "source": []
  },
  {
   "cell_type": "code",
   "execution_count": null,
   "id": "00d9175c",
   "metadata": {},
   "outputs": [],
   "source": []
  },
  {
   "cell_type": "code",
   "execution_count": null,
   "id": "e34c8eb0",
   "metadata": {},
   "outputs": [],
   "source": [
    "# CSV 형식의 문자열 데이터\n",
    "# StringIO를 사용하여 문자열 데이터를 파일처럼 읽음"
   ]
  },
  {
   "cell_type": "markdown",
   "id": "05e0d9c0-12f4-4ed8-aaf8-a704505fcb98",
   "metadata": {},
   "source": [
    "## Keyword 추출 "
   ]
  },
  {
   "cell_type": "code",
   "execution_count": null,
   "id": "20fae6c3",
   "metadata": {},
   "outputs": [],
   "source": []
  },
  {
   "cell_type": "code",
   "execution_count": null,
   "id": "33fbdccf",
   "metadata": {},
   "outputs": [],
   "source": []
  },
  {
   "cell_type": "code",
   "execution_count": null,
   "id": "c1063fee",
   "metadata": {},
   "outputs": [],
   "source": []
  },
  {
   "cell_type": "markdown",
   "id": "23c706ef-9a0c-4fe7-971e-d0d23b9c7e45",
   "metadata": {},
   "source": [
    "## Python 버그 수정 \n",
    "SYSTEM : Python 코드 조각이 제공되며, 귀하의 임무는 그 안의 버그를 찾아 수정하는 것입니다.  \n",
    "USER : \n",
    "```Python\n",
    "    import Random\n",
    "    a = random.randint(1,12)\n",
    "    b = random.randint(1,12)\n",
    "    for i in range(10):\n",
    "        question = \"What is \"+a+\" x \"+b+\"? \"\n",
    "        answer = input(question)\n",
    "        if answer = a*b\n",
    "            print (Well done!)\n",
    "        else:\n",
    "            print(\"No.\")\n",
    "```"
   ]
  },
  {
   "cell_type": "code",
   "execution_count": null,
   "id": "4dd4120f",
   "metadata": {},
   "outputs": [],
   "source": []
  },
  {
   "cell_type": "code",
   "execution_count": null,
   "id": "1d16ca07",
   "metadata": {},
   "outputs": [],
   "source": []
  },
  {
   "cell_type": "code",
   "execution_count": null,
   "id": "c9535ee1",
   "metadata": {},
   "outputs": [],
   "source": []
  },
  {
   "cell_type": "markdown",
   "id": "471099c0-0e56-48f8-97d4-ce7460d27184",
   "metadata": {},
   "source": [
    "## Program Code 설명 "
   ]
  },
  {
   "cell_type": "code",
   "execution_count": null,
   "id": "f7f71850",
   "metadata": {},
   "outputs": [],
   "source": [
    "class Log:\n",
    "    def __init__(self, path):\n",
    "        # Check that the file is newline-terminated\n",
    "    def log(self, event):\n",
    "    def state(self):"
   ]
  },
  {
   "cell_type": "code",
   "execution_count": null,
   "id": "79b8d43b",
   "metadata": {},
   "outputs": [],
   "source": []
  },
  {
   "cell_type": "code",
   "execution_count": null,
   "id": "54571c8d",
   "metadata": {},
   "outputs": [],
   "source": []
  },
  {
   "cell_type": "code",
   "execution_count": null,
   "id": "91f4aace",
   "metadata": {},
   "outputs": [],
   "source": []
  },
  {
   "cell_type": "code",
   "execution_count": null,
   "id": "54ca5c01",
   "metadata": {},
   "outputs": [],
   "source": []
  },
  {
   "cell_type": "markdown",
   "id": "a1934098-ba94-4cce-a64b-0a46566f67c2",
   "metadata": {},
   "source": [
    "## 감성 분류기\n",
    "- 한개의 text 감성 분석"
   ]
  },
  {
   "cell_type": "code",
   "execution_count": null,
   "id": "5b0e0de0",
   "metadata": {},
   "outputs": [],
   "source": []
  },
  {
   "cell_type": "code",
   "execution_count": null,
   "id": "6e88fb3c",
   "metadata": {},
   "outputs": [],
   "source": []
  },
  {
   "cell_type": "markdown",
   "id": "4f659121-d028-4f51-a30c-c192404f96f8",
   "metadata": {},
   "source": [
    "- 여러개의 text 감성 분석"
   ]
  },
  {
   "cell_type": "code",
   "execution_count": null,
   "id": "b46df542",
   "metadata": {},
   "outputs": [],
   "source": [
    "    # 감정 분석 결과 저장\n",
    "# 결과 출력"
   ]
  },
  {
   "cell_type": "markdown",
   "id": "6d654a82-26f1-4148-9593-5cb956b8c97b",
   "metadata": {},
   "source": [
    "## 냉소적인 채팅 봇 "
   ]
  },
  {
   "cell_type": "code",
   "execution_count": null,
   "id": "30c546fc",
   "metadata": {},
   "outputs": [],
   "source": []
  },
  {
   "cell_type": "markdown",
   "id": "e0310cb6-bf4c-4697-98d0-aac3a3bcb03a",
   "metadata": {},
   "source": [
    "## 긍정적인 채팅 봇 "
   ]
  },
  {
   "cell_type": "code",
   "execution_count": null,
   "id": "9b3bbf73",
   "metadata": {},
   "outputs": [],
   "source": []
  },
  {
   "cell_type": "markdown",
   "id": "ffdecba8-f625-4753-998d-477c2af8ac8a",
   "metadata": {},
   "source": [
    "## 인터뷰 질문들\n",
    "SYSTEM : SF 작가와의 인터뷰를 위한 8가지 질문 목록을 작성하세요."
   ]
  },
  {
   "cell_type": "code",
   "execution_count": null,
   "id": "9b84802c",
   "metadata": {},
   "outputs": [],
   "source": []
  },
  {
   "cell_type": "code",
   "execution_count": null,
   "id": "94cabc2b",
   "metadata": {},
   "outputs": [],
   "source": []
  },
  {
   "cell_type": "markdown",
   "id": "55aee066-e4e5-4e29-894e-8519710a44c5",
   "metadata": {},
   "source": [
    "## 회의록 요약\n",
    "\n",
    "SYSTEM : 회의록이 제공되며 귀하의 임무는 다음과 같이 회의를 요약하는 것입니다.  \n",
    "\n",
    " -토론의 전반적인 요약  \n",
    " -행동항목(무엇을 해야 하는지, 누가 하는지)  \n",
    " -해당하는 경우 다음 회의에서 더 자세히 논의해야 할 주제 목록입니다.  "
   ]
  },
  {
   "cell_type": "code",
   "execution_count": null,
   "id": "dcb935b0",
   "metadata": {},
   "outputs": [],
   "source": []
  },
  {
   "cell_type": "code",
   "execution_count": null,
   "id": "610a58ff",
   "metadata": {},
   "outputs": [],
   "source": []
  },
  {
   "cell_type": "code",
   "execution_count": null,
   "id": "1c4cf0ef",
   "metadata": {},
   "outputs": [],
   "source": []
  },
  {
   "cell_type": "markdown",
   "id": "c5830ec7-6d73-4724-839c-15f9c4fb005f",
   "metadata": {},
   "source": [
    "## 장단점 분석\n",
    "\n",
    "USER :  원격 근무와 사무실 근무의 장단점 분석"
   ]
  },
  {
   "cell_type": "code",
   "execution_count": null,
   "id": "f5c27553",
   "metadata": {},
   "outputs": [],
   "source": []
  },
  {
   "cell_type": "code",
   "execution_count": null,
   "id": "f636b89b",
   "metadata": {},
   "outputs": [],
   "source": []
  },
  {
   "cell_type": "markdown",
   "id": "0e064629-07fc-4c86-bcf8-05d1bcdcb6da",
   "metadata": {},
   "source": [
    "## 이모티콘 번역\n",
    "SYSTEM : 텍스트가 제공되며, 귀하의 임무는 이를 이모티콘으로 번역하는 것입니다. 일반 텍스트를 사용하지 마십시오. 이모티콘만으로 최선을 다하세요.  \n",
    "USER : 인공지능은 큰 가능성을 지닌 기술이다."
   ]
  },
  {
   "cell_type": "code",
   "execution_count": null,
   "id": "4114853f",
   "metadata": {},
   "outputs": [],
   "source": []
  },
  {
   "cell_type": "code",
   "execution_count": null,
   "id": "180876be",
   "metadata": {},
   "outputs": [],
   "source": []
  },
  {
   "cell_type": "markdown",
   "id": "22cd2c83-3e39-456a-a45d-56ca3fcf3bd5",
   "metadata": {},
   "source": [
    "## 번역"
   ]
  },
  {
   "cell_type": "code",
   "execution_count": null,
   "id": "da9f029f",
   "metadata": {},
   "outputs": [],
   "source": []
  },
  {
   "cell_type": "code",
   "execution_count": null,
   "id": "5f21a669",
   "metadata": {},
   "outputs": [],
   "source": []
  },
  {
   "cell_type": "markdown",
   "id": "656f1f47-004e-402c-955f-ada5593ecf78",
   "metadata": {},
   "source": [
    "## 모델에 도구를 확장  \n",
    "도구를 사용하여 모델에 새로운 데이터와 기능에 대한 접근 권한을 부여할 수 있습니다. 직접 작성한 사용자 정의 코드를 호출하거나, OpenAI에서 제공하는 강력한 내장 도구 중 하나를 사용할 수 있습니다.  \n",
    "\n",
    "`gpt-4o-search-preview`는 OpenAI의 `gpt-4o` 모델을 기반으로 하며, 웹 검색 기능을 통합하여 실시간 인터넷 정보를 활용할 수 있도록 특별히 설계된 모델입니다.  \n",
    "\n",
    "사용자 질의에 대해 웹 검색을 수행하여 최신 정보를 제공할 수 있습니다. 이는 일반 `gpt-4o` 모델이 사전 학습된 데이터에 기반하여 응답하는 것과 차별화됩니다. `gpt-4o-search-preview`는 웹 검색과 관련된 작업에 최적화되어 있어, 검색 엔진과 유사한 기능을 수행할 수 있습니다."
   ]
  },
  {
   "cell_type": "code",
   "execution_count": null,
   "id": "3652857c",
   "metadata": {},
   "outputs": [],
   "source": []
  },
  {
   "cell_type": "code",
   "execution_count": null,
   "id": "701f7e55",
   "metadata": {},
   "outputs": [],
   "source": []
  },
  {
   "cell_type": "markdown",
   "id": "47062606-7e80-4332-9bbc-f48681169d83",
   "metadata": {},
   "source": [
    "## 실습: 위의 Prompt 내용을 수정해 가며 api 실행"
   ]
  },
  {
   "cell_type": "code",
   "execution_count": null,
   "id": "5b817688",
   "metadata": {},
   "outputs": [],
   "source": []
  }
 ],
 "metadata": {
  "kernelspec": {
   "display_name": "Python 3 (ipykernel)",
   "language": "python",
   "name": "python3"
  },
  "language_info": {
   "codemirror_mode": {
    "name": "ipython",
    "version": 3
   },
   "file_extension": ".py",
   "mimetype": "text/x-python",
   "name": "python",
   "nbconvert_exporter": "python",
   "pygments_lexer": "ipython3",
   "version": "3.9.21"
  }
 },
 "nbformat": 4,
 "nbformat_minor": 5
}
