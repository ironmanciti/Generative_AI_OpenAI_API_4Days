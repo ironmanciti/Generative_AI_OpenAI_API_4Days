{
 "cells": [
  {
   "cell_type": "markdown",
   "id": "eaba8d4f-7846-4ec5-8cf5-661e339e9c0e",
   "metadata": {},
   "source": [
    "# DALLE로 이미지 생성하기\n",
    "\n",
    "Images API는 이미지와 상호작용하기 위한 세 가지 방법을 제공합니다.\n",
    "\n",
    "1. 텍스트 프롬프트를 기반으로 처음부터 이미지 생성(DALL·E 3 및 DALL·E 2)\n",
    "2. 새 텍스트 프롬프트를 기반으로 모델이 기존 이미지의 일부 영역을 대체하도록 하여 편집된 이미지 버전 생성(DALL·E 2에만 해당)\n",
    "3. 기존 이미지의 변형 생성(DALL·E 2에만 해당)\n",
    "\n",
    "DALL·E-2 모델의 경우 256x256, 512x512 또는 1024x1024 중 하나여야 합니다.   \n",
    "DALL·E 3을 사용하는 경우 이미지 크기는 1024x1024, 1024x1792 또는 1792x1024 픽셀일 수 있습니다.   \n",
    "기본적으로 이미지는 standard품질로 생성되지만 DALL·E 3을 사용하면 quality: \"hd\"향상된 세부 묘사를 설정할 수 있습니다. 정사각형의 표준 품질 이미지가 생성되는 속도가 가장 빠릅니다."
   ]
  },
  {
   "cell_type": "code",
   "execution_count": null,
   "id": "7a46364e",
   "metadata": {},
   "outputs": [],
   "source": []
  },
  {
   "cell_type": "code",
   "execution_count": null,
   "id": "cdcd01e7",
   "metadata": {},
   "outputs": [],
   "source": []
  },
  {
   "cell_type": "code",
   "execution_count": null,
   "id": "96276e45",
   "metadata": {},
   "outputs": [],
   "source": [
    "# 주어진 URL의 이미지 시각화\n",
    "def show_image_from_url(url):\n",
    "# 제공된 URL의 이미지를 저장하는 함수\n",
    "def save_image_from_url(url, file_path):"
   ]
  },
  {
   "cell_type": "markdown",
   "id": "77c73952-f19b-4efd-b13c-45baa791d91e",
   "metadata": {},
   "source": [
    "- 이미지 생성"
   ]
  },
  {
   "cell_type": "code",
   "execution_count": null,
   "id": "8de66987",
   "metadata": {},
   "outputs": [],
   "source": []
  },
  {
   "cell_type": "code",
   "execution_count": null,
   "id": "de1a8da3",
   "metadata": {},
   "outputs": [],
   "source": []
  },
  {
   "cell_type": "code",
   "execution_count": null,
   "id": "70dd2a5f",
   "metadata": {},
   "outputs": [],
   "source": []
  },
  {
   "cell_type": "code",
   "execution_count": null,
   "id": "d98a72b1",
   "metadata": {},
   "outputs": [],
   "source": []
  },
  {
   "cell_type": "markdown",
   "id": "964dcc48-aaa7-474c-90b9-c047b1a72262",
   "metadata": {},
   "source": [
    "- Prompt Engineering 없이 이미지 생성"
   ]
  },
  {
   "cell_type": "markdown",
   "id": "b62e7ca0-4fcc-4212-8cee-4a06d0c78aa3",
   "metadata": {},
   "source": [
    "- 고품질 이미지 생성"
   ]
  },
  {
   "cell_type": "code",
   "execution_count": null,
   "id": "4513aa10",
   "metadata": {},
   "outputs": [],
   "source": []
  },
  {
   "cell_type": "code",
   "execution_count": null,
   "id": "eddef32e",
   "metadata": {},
   "outputs": [],
   "source": []
  },
  {
   "cell_type": "code",
   "execution_count": null,
   "id": "fa22f5aa",
   "metadata": {},
   "outputs": [],
   "source": []
  },
  {
   "cell_type": "markdown",
   "id": "489b7cb5-53ef-4053-81f8-d60a6cb0fb4b",
   "metadata": {},
   "source": [
    "## 실습: 각자의 Prompt로 이미지 생성"
   ]
  },
  {
   "cell_type": "code",
   "execution_count": null,
   "id": "564f2cf7",
   "metadata": {},
   "outputs": [],
   "source": []
  }
 ],
 "metadata": {
  "kernelspec": {
   "display_name": "Python 3 (ipykernel)",
   "language": "python",
   "name": "python3"
  },
  "language_info": {
   "codemirror_mode": {
    "name": "ipython",
    "version": 3
   },
   "file_extension": ".py",
   "mimetype": "text/x-python",
   "name": "python",
   "nbconvert_exporter": "python",
   "pygments_lexer": "ipython3",
   "version": "3.9.21"
  }
 },
 "nbformat": 4,
 "nbformat_minor": 5
}
