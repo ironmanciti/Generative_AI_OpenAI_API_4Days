{
 "cells": [
  {
   "cell_type": "markdown",
   "id": "e0619d6b-69f6-4f0a-91fa-85eebe422e45",
   "metadata": {},
   "source": [
    "# Assistants API - Function Calling(함수 호출)\n",
    "\n",
    "함수 호출을 사용하면 Assistants API에 함수를 설명하고 인수와 함께 호출해야 하는 함수를 지능적으로 반환하도록 할 수 있습니다.\n",
    "\n",
    "이 예에서는 날씨 assistant를 만들고 assistant가 호출할 수 있는 도구로 `get_current_temp`, `get_rain_probability` 함수를 정의합니다. 사용자 쿼리에 따라 모델은 2023년 11월 6일 이후에 출시된 최신 모델을 사용하는 경우 병렬 함수 호출을 호출합니다. 병렬 함수 호출을 사용하는 예시에서는 assistant에게 오늘 특정 도시의 날씨가 어떨지와 비가 올 확률을 물어봅니다. 스트리밍으로 어시스턴트의 응답을 출력하는 방법도 보여줍니다.\n"
   ]
  },
  {
   "cell_type": "code",
   "execution_count": 1,
   "id": "7a0399e0-6377-4e2b-a155-488cb32821ea",
   "metadata": {},
   "outputs": [],
   "source": [
    "import os\n",
    "import openai\n",
    "import sys\n",
    "sys.path.append('./')\n",
    "\n",
    "from dotenv import load_dotenv, find_dotenv\n",
    "_ = load_dotenv(find_dotenv()) # read local .env file"
   ]
  },
  {
   "cell_type": "code",
   "execution_count": 2,
   "id": "bfd52447-02d7-4fd3-afab-80e5f3de2711",
   "metadata": {},
   "outputs": [],
   "source": [
    "from openai import OpenAI\n",
    "client = OpenAI()\n",
    "\n",
    "Model = \"gpt-4o-mini\""
   ]
  },
  {
   "cell_type": "markdown",
   "id": "c1203d8d-8661-409d-bb54-bbf32979494e",
   "metadata": {},
   "source": [
    "### 1단계: 함수 정의\n",
    "어시스턴트를 생성할 때 먼저 어시스턴트의 tools 매개변수 아래에 기능을 정의합니다."
   ]
  },
  {
   "cell_type": "code",
   "execution_count": 3,
   "id": "772e82b4-fdb8-4a0b-914b-13799011a47d",
   "metadata": {},
   "outputs": [],
   "source": [
    "#!pip install -q yfinance\n",
    "\n",
    "import yfinance as yf\n",
    "\n",
    "assistant = client.beta.assistants.create(\n",
    "  instructions=\"당신은 주식 봇입니다. 제공된 function을 사용하여 질문에 답하세요.\",\n",
    "  model=Model,\n",
    "  tools=[\n",
    "    {\n",
    "      \"type\": \"function\",\n",
    "      \"function\": {\n",
    "        \"name\": \"yf_stock\",\n",
    "        \"description\": \"특정 주식의 주가를 가져옵니다.\",\n",
    "        \"parameters\": {\n",
    "          \"type\": \"object\",\n",
    "          \"properties\": {\n",
    "            \"ticker\": {\n",
    "              \"type\": \"string\",\n",
    "              \"description\": \"주식 ticker\"\n",
    "            },\n",
    "          },\n",
    "          \"required\": [\"ticker\"]\n",
    "        }\n",
    "      }\n",
    "    },\n",
    "  ]\n",
    ")"
   ]
  },
  {
   "cell_type": "markdown",
   "id": "4f7b82b3-d4a8-4c71-87bd-42fcd18383f6",
   "metadata": {},
   "source": [
    "### 2단계: 스레드 생성 및 메시지 추가\n",
    "사용자가 대화를 시작할 때 스레드를 생성하고 사용자가 질문을 하면 스레드에 메시지를 추가합니다."
   ]
  },
  {
   "cell_type": "code",
   "execution_count": 4,
   "id": "35812d39-0b51-49db-a256-20b1583b80ad",
   "metadata": {},
   "outputs": [
    {
     "data": {
      "text/plain": [
       "Message(id='msg_T1whBv08d0sRHvING1lz1Kyh', assistant_id=None, attachments=[], completed_at=None, content=[TextContentBlock(text=Text(annotations=[], value='오늘 Apple 주가는 어때요?'), type='text')], created_at=1730534843, incomplete_at=None, incomplete_details=None, metadata={}, object='thread.message', role='user', run_id=None, status=None, thread_id='thread_xu7pIIv6oeh9Y39lEYNPZZ86')"
      ]
     },
     "execution_count": 4,
     "metadata": {},
     "output_type": "execute_result"
    }
   ],
   "source": [
    "thread = client.beta.threads.create()\n",
    "\n",
    "message = client.beta.threads.messages.create(\n",
    "  thread_id=thread.id,\n",
    "  role=\"user\",\n",
    "  content=\"오늘 Apple 주가는 어때요?\",\n",
    ")\n",
    "message"
   ]
  },
  {
   "cell_type": "markdown",
   "id": "be50703a-ade6-40d7-b8ae-41e6316f8ab9",
   "metadata": {},
   "source": [
    "### 3단계: 실행 시작\n",
    "하나 이상의 기능을 트리거하는 사용자 메시지가 포함된 스레드에서 Run을 시작하면 Run이 `pending` 상태로 들어갑니다. 처리가 끝난 후 Run은 Run의 상태를 확인할 수 있는 `require_action` 상태로 전환됩니다. 이는 Run 실행을 계속하려면 도구(tools)를 실행하고 해당 출력을 Assistant에 제출해야 함을 나타냅니다. 우리 예의 경우에는 사용자 쿼리로 인해 병렬 함수 호출이 발생했음을 나타내는 두 개의 tool_call이 표시됩니다."
   ]
  },
  {
   "cell_type": "markdown",
   "id": "0a20afa0-a97c-43a9-b469-5be9f2bfe8ef",
   "metadata": {},
   "source": [
    "실행(Runs)은 비동기적으로 이루어지므로, 실행 객체(Run object)를 폴링하여 최종 상태에 도달할 때까지 상태를 모니터링해야 합니다. 편리함을 위해 'create_and_poll' SDK helper는 실행을 생성하고 완료될 때까지 폴링하는 작업을 도와줍니다. 실행이 완료되면 어시스턴트가 스레드에 추가한 메시지를 나열할 수 있습니다. 마지막으로, required_action에서 모든 도구 출력을 가져와 'submit_tool_outputs_and_poll' helper에 한 번에 제출하면 됩니다."
   ]
  },
  {
   "cell_type": "code",
   "execution_count": 5,
   "id": "b6fffdee-7e80-4293-8038-4881ac08a61d",
   "metadata": {},
   "outputs": [
    {
     "name": "stdout",
     "output_type": "stream",
     "text": [
      "not completed -  requires_action\n"
     ]
    }
   ],
   "source": [
    "# 스레드 실행을 생성하고 결과를 폴링\n",
    "run = client.beta.threads.runs.create_and_poll(\n",
    "  thread_id=thread.id,\n",
    "  assistant_id=assistant.id,\n",
    ")\n",
    "\n",
    "# 실행 상태가 완료되었는지 확인\n",
    "if run.status == 'completed':\n",
    "  # 실행된 스레드의 메시지를 가져옴\n",
    "  messages = client.beta.threads.messages.list(\n",
    "    thread_id=thread.id\n",
    "  )\n",
    "  print(messages)\n",
    "else:\n",
    "  # 실행 상태를 출력\n",
    "  print(\"not completed - \", run.status)"
   ]
  },
  {
   "cell_type": "code",
   "execution_count": 6,
   "id": "a276b6e8-51d4-4d4a-8a9c-9163edb8f334",
   "metadata": {},
   "outputs": [
    {
     "data": {
      "text/plain": [
       "[RequiredActionFunctionToolCall(id='call_Mx0Yuyytqm0uxdJN40ZZVnzR', function=Function(arguments='{\"ticker\":\"AAPL\"}', name='yf_stock'), type='function')]"
      ]
     },
     "execution_count": 6,
     "metadata": {},
     "output_type": "execute_result"
    }
   ],
   "source": [
    "# 외부 함수 호출 필요 목록\n",
    "run.required_action.submit_tool_outputs.tool_calls"
   ]
  },
  {
   "cell_type": "code",
   "execution_count": 7,
   "id": "9ffb4a3f-5c09-49e7-94cd-c2ab0f2f0cde",
   "metadata": {},
   "outputs": [
    {
     "data": {
      "text/plain": [
       "'{\"ticker\":\"AAPL\"}'"
      ]
     },
     "execution_count": 7,
     "metadata": {},
     "output_type": "execute_result"
    }
   ],
   "source": [
    "# assistants 가 생성한 함수 호출에 필요한 parameter\n",
    "run.required_action.submit_tool_outputs.tool_calls[0].function.arguments"
   ]
  },
  {
   "cell_type": "code",
   "execution_count": 8,
   "id": "0e42790d-cd36-47a9-aee0-a408bcec63ff",
   "metadata": {},
   "outputs": [
    {
     "data": {
      "text/plain": [
       "{'ticker': 'AAPL'}"
      ]
     },
     "execution_count": 8,
     "metadata": {},
     "output_type": "execute_result"
    }
   ],
   "source": [
    "# string을 dictionary로 변환\n",
    "import json\n",
    "\n",
    "argument_dict = json.loads(run.required_action.submit_tool_outputs.tool_calls[0].function.arguments)\n",
    "argument_dict"
   ]
  },
  {
   "cell_type": "code",
   "execution_count": 9,
   "id": "e2aba2a7-122d-4f2e-98c3-4c8b717f0b24",
   "metadata": {},
   "outputs": [
    {
     "data": {
      "text/plain": [
       "[{'tool_call_id': 'call_Mx0Yuyytqm0uxdJN40ZZVnzR',\n",
       "  'output': '222.91000366210938'}]"
      ]
     },
     "execution_count": 9,
     "metadata": {},
     "output_type": "execute_result"
    }
   ],
   "source": [
    "# 도구 출력을 저장할 리스트를 정의\n",
    "tool_outputs = []\n",
    "\n",
    "# 필요한 작업 섹션의 각 도구를 순회\n",
    "for tool in run.required_action.submit_tool_outputs.tool_calls:\n",
    "  # 도구 이름에 따라 출력 값을 추가\n",
    "  if tool.function.name == \"yf_stock\":\n",
    "    df = yf.download(argument_dict['ticker'], progress=False)\n",
    "    tool_outputs.append({\n",
    "      \"tool_call_id\": tool.id,\n",
    "      \"output\": str(df.Close.iloc[-1])\n",
    "    })\n",
    "\n",
    "tool_outputs"
   ]
  },
  {
   "cell_type": "code",
   "execution_count": 10,
   "id": "44e80f81-ce28-45bf-bc8f-673f99abd99c",
   "metadata": {},
   "outputs": [
    {
     "name": "stdout",
     "output_type": "stream",
     "text": [
      "Tool outputs submitted successfully.\n",
      "SyncCursorPage[Message](data=[Message(id='msg_pfg8wF6aB2SVH3RkrMii8Ie7', assistant_id='asst_dGAR0IkzmiAZe4ESi6t1yTqv', attachments=[], completed_at=None, content=[TextContentBlock(text=Text(annotations=[], value='오늘 Apple(AAPL) 주가는 $222.91입니다.'), type='text')], created_at=1730534862, incomplete_at=None, incomplete_details=None, metadata={}, object='thread.message', role='assistant', run_id='run_SxvnRcxdld7R5irtRbpIT5Sb', status=None, thread_id='thread_xu7pIIv6oeh9Y39lEYNPZZ86'), Message(id='msg_T1whBv08d0sRHvING1lz1Kyh', assistant_id=None, attachments=[], completed_at=None, content=[TextContentBlock(text=Text(annotations=[], value='오늘 Apple 주가는 어때요?'), type='text')], created_at=1730534843, incomplete_at=None, incomplete_details=None, metadata={}, object='thread.message', role='user', run_id=None, status=None, thread_id='thread_xu7pIIv6oeh9Y39lEYNPZZ86')], object='list', first_id='msg_pfg8wF6aB2SVH3RkrMii8Ie7', last_id='msg_T1whBv08d0sRHvING1lz1Kyh', has_more=False)\n"
     ]
    }
   ],
   "source": [
    "# 도구 출력이 있는 경우 submit_tool_outputs_and_poll 이용\n",
    "if tool_outputs:\n",
    "  try:\n",
    "    run = client.beta.threads.runs.submit_tool_outputs_and_poll(\n",
    "      thread_id=thread.id,\n",
    "      run_id=run.id,\n",
    "      tool_outputs=tool_outputs\n",
    "    )\n",
    "    # 도구 출력이 성공적으로 제출되었음을 출력\n",
    "    print(\"Tool outputs submitted successfully.\")\n",
    "  except Exception as e:\n",
    "    # 도구 출력 제출 실패 메시지 출력\n",
    "    print(\"Failed to submit tool outputs:\", e)\n",
    "else:\n",
    "  # 제출할 도구 출력이 없음을 출력\n",
    "  print(\"No tool outputs to submit.\")\n",
    "\n",
    "# 실행 상태가 완료되었는지 다시 확인\n",
    "if run.status == 'completed':\n",
    "  # 실행된 스레드의 메시지를 가져옴\n",
    "  messages = client.beta.threads.messages.list(\n",
    "    thread_id=thread.id\n",
    "  )\n",
    "  print(messages)\n",
    "else:\n",
    "  # 실행 상태를 출력\n",
    "  print(run.status)"
   ]
  },
  {
   "cell_type": "code",
   "execution_count": 11,
   "id": "b3f77cbe-22b4-4b8a-8ca2-4ffadf6a7b2a",
   "metadata": {},
   "outputs": [
    {
     "name": "stdout",
     "output_type": "stream",
     "text": [
      "오늘 Apple(AAPL) 주가는 $222.91입니다.\n"
     ]
    }
   ],
   "source": [
    "print(messages.data[0].content[0].text.value)"
   ]
  },
  {
   "cell_type": "markdown",
   "id": "17f83b53-b1b0-4020-8711-69a5a998128c",
   "metadata": {},
   "source": [
    "### Thread에 새로운 message 추가 및 Run 생성"
   ]
  },
  {
   "cell_type": "code",
   "execution_count": 12,
   "id": "bec5ba41-7ee4-4180-94b3-f9acc7a7976d",
   "metadata": {},
   "outputs": [],
   "source": [
    "message = client.beta.threads.messages.create(\n",
    "      thread_id=thread.id,\n",
    "      role=\"user\",\n",
    "      content=\"Apple의 주요 생산품은 무엇인가요??\"\n",
    "    )"
   ]
  },
  {
   "cell_type": "code",
   "execution_count": 13,
   "id": "9dad2a7c-b2cd-40a0-a78a-b5b7d24d5e6b",
   "metadata": {},
   "outputs": [
    {
     "name": "stdout",
     "output_type": "stream",
     "text": [
      "SyncCursorPage[Message](data=[Message(id='msg_pH0kGROufI4rIMJYapcr0JPW', assistant_id='asst_dGAR0IkzmiAZe4ESi6t1yTqv', attachments=[], completed_at=None, content=[TextContentBlock(text=Text(annotations=[], value='Apple의 주요 생산품은 다음과 같습니다:\\n\\n1. **아이폰 (iPhone)**: 스마트폰 제품군으로, Apple의 가장 유명하고 수익성이 높은 제품입니다.\\n2. **아이패드 (iPad)**: 태블릿 컴퓨터로, 다양한 크기와 성능으로 제공됩니다.\\n3. **맥 (Mac)**: 개인용 컴퓨터 및 노트북 라인업, 다양한 모델이 존재합니다.\\n4. **애플 워치 (Apple Watch)**: 스마트워치 제품으로, 건강 모니터링 및 연결 기능을 제공합니다.\\n5. **에어팟 (AirPods)**: 무선 이어폰으로, 음악 청취 및 통화에 사용됩니다.\\n6. **소프트웨어 및 서비스**: iOS, macOS, App Store, Apple Music, iCloud 등 다양한 소프트웨어 및 서비스도 중요한 수익원입니다.\\n\\nApple은 하드웨어, 소프트웨어 및 서비스를 통합하여 혁신적인 사용자 경험을 제공하는 데 중점을 두고 있습니다.'), type='text')], created_at=1730534877, incomplete_at=None, incomplete_details=None, metadata={}, object='thread.message', role='assistant', run_id='run_G8Agdn1hjumrq2HtIwZl3OsB', status=None, thread_id='thread_xu7pIIv6oeh9Y39lEYNPZZ86'), Message(id='msg_Mz772Zw2rs5LIJHLa8WusJiq', assistant_id=None, attachments=[], completed_at=None, content=[TextContentBlock(text=Text(annotations=[], value='Apple의 주요 생산품은 무엇인가요??'), type='text')], created_at=1730534874, incomplete_at=None, incomplete_details=None, metadata={}, object='thread.message', role='user', run_id=None, status=None, thread_id='thread_xu7pIIv6oeh9Y39lEYNPZZ86'), Message(id='msg_pfg8wF6aB2SVH3RkrMii8Ie7', assistant_id='asst_dGAR0IkzmiAZe4ESi6t1yTqv', attachments=[], completed_at=None, content=[TextContentBlock(text=Text(annotations=[], value='오늘 Apple(AAPL) 주가는 $222.91입니다.'), type='text')], created_at=1730534862, incomplete_at=None, incomplete_details=None, metadata={}, object='thread.message', role='assistant', run_id='run_SxvnRcxdld7R5irtRbpIT5Sb', status=None, thread_id='thread_xu7pIIv6oeh9Y39lEYNPZZ86'), Message(id='msg_T1whBv08d0sRHvING1lz1Kyh', assistant_id=None, attachments=[], completed_at=None, content=[TextContentBlock(text=Text(annotations=[], value='오늘 Apple 주가는 어때요?'), type='text')], created_at=1730534843, incomplete_at=None, incomplete_details=None, metadata={}, object='thread.message', role='user', run_id=None, status=None, thread_id='thread_xu7pIIv6oeh9Y39lEYNPZZ86')], object='list', first_id='msg_pH0kGROufI4rIMJYapcr0JPW', last_id='msg_T1whBv08d0sRHvING1lz1Kyh', has_more=False)\n"
     ]
    }
   ],
   "source": [
    "# 스레드 실행을 생성하고 결과를 폴링\n",
    "run = client.beta.threads.runs.create_and_poll(\n",
    "  thread_id=thread.id,\n",
    "  assistant_id=assistant.id,\n",
    ")\n",
    "\n",
    "# 실행 상태가 완료되었는지 확인\n",
    "if run.status == 'completed':\n",
    "  # 실행된 스레드의 메시지를 가져옴\n",
    "  messages = client.beta.threads.messages.list(\n",
    "    thread_id=thread.id\n",
    "  )\n",
    "  print(messages)\n",
    "else:\n",
    "  # 실행 상태를 출력\n",
    "  print(run.status)"
   ]
  },
  {
   "cell_type": "code",
   "execution_count": 14,
   "id": "b4c333bb-619a-4f66-af6b-293a21459137",
   "metadata": {},
   "outputs": [
    {
     "name": "stdout",
     "output_type": "stream",
     "text": [
      "Apple의 주요 생산품은 다음과 같습니다:\n",
      "\n",
      "1. **아이폰 (iPhone)**: 스마트폰 제품군으로, Apple의 가장 유명하고 수익성이 높은 제품입니다.\n",
      "2. **아이패드 (iPad)**: 태블릿 컴퓨터로, 다양한 크기와 성능으로 제공됩니다.\n",
      "3. **맥 (Mac)**: 개인용 컴퓨터 및 노트북 라인업, 다양한 모델이 존재합니다.\n",
      "4. **애플 워치 (Apple Watch)**: 스마트워치 제품으로, 건강 모니터링 및 연결 기능을 제공합니다.\n",
      "5. **에어팟 (AirPods)**: 무선 이어폰으로, 음악 청취 및 통화에 사용됩니다.\n",
      "6. **소프트웨어 및 서비스**: iOS, macOS, App Store, Apple Music, iCloud 등 다양한 소프트웨어 및 서비스도 중요한 수익원입니다.\n",
      "\n",
      "Apple은 하드웨어, 소프트웨어 및 서비스를 통합하여 혁신적인 사용자 경험을 제공하는 데 중점을 두고 있습니다.\n"
     ]
    }
   ],
   "source": [
    "print(messages.data[0].content[0].text.value)"
   ]
  },
  {
   "cell_type": "code",
   "execution_count": 15,
   "id": "f18d08fe-3a7d-40d8-b4c2-059a87cc58ab",
   "metadata": {},
   "outputs": [
    {
     "name": "stdout",
     "output_type": "stream",
     "text": [
      "role: user\n",
      "오늘 Apple 주가는 어때요?\n",
      "------------------------------------------------------------------------------------------------------------------------------------------------------\n",
      "role: assistant\n",
      "오늘 Apple(AAPL) 주가는 $222.91입니다.\n",
      "------------------------------------------------------------------------------------------------------------------------------------------------------\n",
      "role: user\n",
      "Apple의 주요 생산품은 무엇인가요??\n",
      "------------------------------------------------------------------------------------------------------------------------------------------------------\n",
      "role: assistant\n",
      "Apple의 주요 생산품은 다음과 같습니다:\n",
      "\n",
      "1. **아이폰 (iPhone)**: 스마트폰 제품군으로, Apple의 가장 유명하고 수익성이 높은 제품입니다.\n",
      "2. **아이패드 (iPad)**: 태블릿 컴퓨터로, 다양한 크기와 성능으로 제공됩니다.\n",
      "3. **맥 (Mac)**: 개인용 컴퓨터 및 노트북 라인업, 다양한 모델이 존재합니다.\n",
      "4. **애플 워치 (Apple Watch)**: 스마트워치 제품으로, 건강 모니터링 및 연결 기능을 제공합니다.\n",
      "5. **에어팟 (AirPods)**: 무선 이어폰으로, 음악 청취 및 통화에 사용됩니다.\n",
      "6. **소프트웨어 및 서비스**: iOS, macOS, App Store, Apple Music, iCloud 등 다양한 소프트웨어 및 서비스도 중요한 수익원입니다.\n",
      "\n",
      "Apple은 하드웨어, 소프트웨어 및 서비스를 통합하여 혁신적인 사용자 경험을 제공하는 데 중점을 두고 있습니다.\n",
      "------------------------------------------------------------------------------------------------------------------------------------------------------\n"
     ]
    }
   ],
   "source": [
    "# messages 객체의 데이터에서 role과 content 값을 추출하여 리스트에 저장\n",
    "values = [(messages.data[i].role, messages.data[i].content[0].text.value) for i in range(len(messages.data)-1, -1, -1)]\n",
    "\n",
    "# 추출한 값들을 출력\n",
    "for role, value in values:\n",
    "    print(f\"role: {role}\")  # 역할(role) 출력\n",
    "    print(value)  # 내용(value) 출력\n",
    "    print(150*\"-\")  # 구분선 출력"
   ]
  },
  {
   "cell_type": "markdown",
   "id": "3a97d2a6-010b-4ef1-8adc-5a82f1164ada",
   "metadata": {},
   "source": [
    "## 실습 : Prompt 수정하여 실행"
   ]
  },
  {
   "cell_type": "code",
   "execution_count": null,
   "id": "d529b96e-7534-4077-8676-53f64b59890a",
   "metadata": {},
   "outputs": [],
   "source": []
  }
 ],
 "metadata": {
  "kernelspec": {
   "display_name": "Python 3 (ipykernel)",
   "language": "python",
   "name": "python3"
  },
  "language_info": {
   "codemirror_mode": {
    "name": "ipython",
    "version": 3
   },
   "file_extension": ".py",
   "mimetype": "text/x-python",
   "name": "python",
   "nbconvert_exporter": "python",
   "pygments_lexer": "ipython3",
   "version": "3.9.12"
  }
 },
 "nbformat": 4,
 "nbformat_minor": 5
}
