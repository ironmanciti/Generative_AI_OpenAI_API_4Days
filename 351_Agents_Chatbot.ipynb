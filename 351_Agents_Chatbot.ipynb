{
 "cells": [
  {
   "cell_type": "markdown",
   "id": "a3e58e37-9329-46e0-afcc-a9ce9fd23940",
   "metadata": {},
   "source": [
    "# 대화형 Agent 구성"
   ]
  },
  {
   "cell_type": "code",
   "execution_count": 1,
   "id": "ba180d1b-0f8e-4ad1-a197-3359d3d496d3",
   "metadata": {},
   "outputs": [],
   "source": [
    "# pip install openai-agents"
   ]
  },
  {
   "cell_type": "code",
   "execution_count": 1,
   "id": "d5d198f3-a068-4273-9289-2ea97c5ca191",
   "metadata": {},
   "outputs": [
    {
     "data": {
      "text/plain": [
       "True"
      ]
     },
     "execution_count": 1,
     "metadata": {},
     "output_type": "execute_result"
    }
   ],
   "source": [
    "import os\n",
    "import openai\n",
    "import sys\n",
    "sys.path.append('./')\n",
    "\n",
    "from dotenv import load_dotenv, find_dotenv\n",
    "load_dotenv(find_dotenv()) # read local .env file"
   ]
  },
  {
   "cell_type": "markdown",
   "id": "ca1aa339-6c05-4eb0-ab56-327d69d93abf",
   "metadata": {},
   "source": [
    "### 대화형 Agent"
   ]
  },
  {
   "cell_type": "code",
   "execution_count": 2,
   "id": "5fe3ae11-b6dd-4f8f-acb8-8bd750dc3bfd",
   "metadata": {},
   "outputs": [
    {
     "name": "stdout",
     "output_type": "stream",
     "text": [
      "에이전트와 대화를 시작합니다. 종료하려면 'quit'을 입력하세요.\n",
      "\n"
     ]
    },
    {
     "name": "stdin",
     "output_type": "stream",
     "text": [
      "사용자:  안녕, 너는 길동이야. 너는 누구야?\n"
     ]
    },
    {
     "name": "stdout",
     "output_type": "stream",
     "text": [
      "에이전트: 안녕, 나는 AI야. 도와줄 일이 있니?\n"
     ]
    },
    {
     "name": "stdin",
     "output_type": "stream",
     "text": [
      "사용자:  내 이름이 뭐라구?\n"
     ]
    },
    {
     "name": "stdout",
     "output_type": "stream",
     "text": [
      "에이전트: 너의 이름은 길동이야. 맞지?\n"
     ]
    },
    {
     "name": "stdin",
     "output_type": "stream",
     "text": [
      "사용자:  quit\n"
     ]
    },
    {
     "name": "stdout",
     "output_type": "stream",
     "text": [
      "대화를 종료합니다.\n"
     ]
    }
   ],
   "source": [
    "from agents import Agent, Runner\n",
    "from agents.tracing import trace\n",
    "import uuid\n",
    "\n",
    "async def main():\n",
    "    # 간단한 에이전트 정의\n",
    "    agent = Agent(\n",
    "        name=\"Assistant\",\n",
    "        instructions=\"간결하게 답하세요.\",\n",
    "        model=\"gpt-4o-mini\"\n",
    "    )\n",
    "\n",
    "    # 고유한 대화 추적 그룹 ID 생성\n",
    "    thread_id = str(uuid.uuid4())\n",
    "\n",
    "    # 대화 히스토리를 담을 리스트 (초기에는 비어 있음)\n",
    "    conversation_history = []\n",
    "\n",
    "    print(\"에이전트와 대화를 시작합니다. 종료하려면 'quit'을 입력하세요.\\n\")\n",
    "\n",
    "    # 트레이싱 컨텍스트 내에서 실행\n",
    "    with trace(workflow_name=\"Conversation\", group_id=thread_id):\n",
    "        while True:\n",
    "            # 사용자 입력 받기\n",
    "            user_input = input(\"사용자: \")\n",
    "            if user_input.lower() in [\"q\", \"quit\"]:\n",
    "                print(\"대화를 종료합니다.\")\n",
    "                break\n",
    "\n",
    "            # 입력을 이전 대화 기록과 함께 구성\n",
    "            full_input = conversation_history + [{\"role\": \"user\", \"content\": user_input}]\n",
    "\n",
    "            # 에이전트 실행\n",
    "            result = await Runner.run(agent, input=full_input)\n",
    "\n",
    "            # 에이전트 응답 출력\n",
    "            print(\"에이전트:\", result.final_output)\n",
    "\n",
    "            # 대화 기록 업데이트\n",
    "            conversation_history = result.to_input_list()\n",
    "\n",
    "# 비동기 함수 실행 (노트북에서는 asyncio.run 대신 await main() 사용 가능)\n",
    "await main()"
   ]
  },
  {
   "cell_type": "code",
   "execution_count": null,
   "id": "5f597d11-df22-450a-b70c-fb2ad28aab08",
   "metadata": {},
   "outputs": [],
   "source": []
  }
 ],
 "metadata": {
  "kernelspec": {
   "display_name": "Python 3 (ipykernel)",
   "language": "python",
   "name": "python3"
  },
  "language_info": {
   "codemirror_mode": {
    "name": "ipython",
    "version": 3
   },
   "file_extension": ".py",
   "mimetype": "text/x-python",
   "name": "python",
   "nbconvert_exporter": "python",
   "pygments_lexer": "ipython3",
   "version": "3.9.21"
  }
 },
 "nbformat": 4,
 "nbformat_minor": 5
}
